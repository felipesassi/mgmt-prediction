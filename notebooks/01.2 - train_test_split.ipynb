{
 "cells": [
  {
   "cell_type": "code",
   "execution_count": 1,
   "metadata": {},
   "outputs": [],
   "source": [
    "from sklearn.model_selection import train_test_split\n",
    "import pandas as pd\n",
    "import matplotlib.pyplot as plt"
   ]
  },
  {
   "cell_type": "code",
   "execution_count": 2,
   "metadata": {},
   "outputs": [],
   "source": [
    "df = pd.read_csv(\"Data/MGMT.csv\")"
   ]
  },
  {
   "cell_type": "code",
   "execution_count": 3,
   "metadata": {},
   "outputs": [
    {
     "data": {
      "text/html": [
       "<div>\n",
       "<style scoped>\n",
       "    .dataframe tbody tr th:only-of-type {\n",
       "        vertical-align: middle;\n",
       "    }\n",
       "\n",
       "    .dataframe tbody tr th {\n",
       "        vertical-align: top;\n",
       "    }\n",
       "\n",
       "    .dataframe thead th {\n",
       "        text-align: right;\n",
       "    }\n",
       "</style>\n",
       "<table border=\"1\" class=\"dataframe\">\n",
       "  <thead>\n",
       "    <tr style=\"text-align: right;\">\n",
       "      <th></th>\n",
       "      <th>files</th>\n",
       "      <th>labels</th>\n",
       "      <th>x</th>\n",
       "      <th>y</th>\n",
       "    </tr>\n",
       "  </thead>\n",
       "  <tbody>\n",
       "    <tr>\n",
       "      <th>0</th>\n",
       "      <td>BraTS2021_00000</td>\n",
       "      <td>1</td>\n",
       "      <td>/data/slow/RSNA_ASNR_MICCAI_BraTS2021_Training...</td>\n",
       "      <td>/data/slow/RSNA_ASNR_MICCAI_BraTS2021_Training...</td>\n",
       "    </tr>\n",
       "    <tr>\n",
       "      <th>1</th>\n",
       "      <td>BraTS2021_00002</td>\n",
       "      <td>1</td>\n",
       "      <td>/data/slow/RSNA_ASNR_MICCAI_BraTS2021_Training...</td>\n",
       "      <td>/data/slow/RSNA_ASNR_MICCAI_BraTS2021_Training...</td>\n",
       "    </tr>\n",
       "    <tr>\n",
       "      <th>2</th>\n",
       "      <td>BraTS2021_00003</td>\n",
       "      <td>0</td>\n",
       "      <td>/data/slow/RSNA_ASNR_MICCAI_BraTS2021_Training...</td>\n",
       "      <td>/data/slow/RSNA_ASNR_MICCAI_BraTS2021_Training...</td>\n",
       "    </tr>\n",
       "    <tr>\n",
       "      <th>3</th>\n",
       "      <td>BraTS2021_00005</td>\n",
       "      <td>1</td>\n",
       "      <td>/data/slow/RSNA_ASNR_MICCAI_BraTS2021_Training...</td>\n",
       "      <td>/data/slow/RSNA_ASNR_MICCAI_BraTS2021_Training...</td>\n",
       "    </tr>\n",
       "    <tr>\n",
       "      <th>4</th>\n",
       "      <td>BraTS2021_00006</td>\n",
       "      <td>1</td>\n",
       "      <td>/data/slow/RSNA_ASNR_MICCAI_BraTS2021_Training...</td>\n",
       "      <td>/data/slow/RSNA_ASNR_MICCAI_BraTS2021_Training...</td>\n",
       "    </tr>\n",
       "  </tbody>\n",
       "</table>\n",
       "</div>"
      ],
      "text/plain": [
       "             files  labels                                                  x  \\\n",
       "0  BraTS2021_00000       1  /data/slow/RSNA_ASNR_MICCAI_BraTS2021_Training...   \n",
       "1  BraTS2021_00002       1  /data/slow/RSNA_ASNR_MICCAI_BraTS2021_Training...   \n",
       "2  BraTS2021_00003       0  /data/slow/RSNA_ASNR_MICCAI_BraTS2021_Training...   \n",
       "3  BraTS2021_00005       1  /data/slow/RSNA_ASNR_MICCAI_BraTS2021_Training...   \n",
       "4  BraTS2021_00006       1  /data/slow/RSNA_ASNR_MICCAI_BraTS2021_Training...   \n",
       "\n",
       "                                                   y  \n",
       "0  /data/slow/RSNA_ASNR_MICCAI_BraTS2021_Training...  \n",
       "1  /data/slow/RSNA_ASNR_MICCAI_BraTS2021_Training...  \n",
       "2  /data/slow/RSNA_ASNR_MICCAI_BraTS2021_Training...  \n",
       "3  /data/slow/RSNA_ASNR_MICCAI_BraTS2021_Training...  \n",
       "4  /data/slow/RSNA_ASNR_MICCAI_BraTS2021_Training...  "
      ]
     },
     "execution_count": 3,
     "metadata": {},
     "output_type": "execute_result"
    }
   ],
   "source": [
    "df.head()"
   ]
  },
  {
   "cell_type": "code",
   "execution_count": 5,
   "metadata": {},
   "outputs": [],
   "source": [
    "x_train, x_test = train_test_split(df, test_size=0.25, random_state=0, stratify=df[\"labels\"])\n",
    "# x_val, x_test = train_test_split(x_val_test, test_size=0.5, random_state=0, stratify=x_val_test[\"labels\"])"
   ]
  },
  {
   "cell_type": "code",
   "execution_count": 6,
   "metadata": {},
   "outputs": [],
   "source": [
    "x_train = x_train.reset_index(drop=True)\n",
    "# x_val = x_val.reset_index(drop=True)\n",
    "x_test = x_test.reset_index(drop=True)"
   ]
  },
  {
   "cell_type": "code",
   "execution_count": 7,
   "metadata": {},
   "outputs": [
    {
     "data": {
      "image/png": "[encoded data removed]",
      "text/plain": [
       "<Figure size 432x288 with 1 Axes>"
      ]
     },
     "metadata": {
      "needs_background": "light"
     },
     "output_type": "display_data"
    },
    {
     "data": {
      "image/png": "[encoded data removed]",
      "text/plain": [
       "<Figure size 432x288 with 1 Axes>"
      ]
     },
     "metadata": {
      "needs_background": "light"
     },
     "output_type": "display_data"
    }
   ],
   "source": [
    "x_train[\"labels\"].value_counts(normalize=True).plot.bar()\n",
    "plt.show()\n",
    "# x_val[\"labels\"].value_counts(normalize=True).plot.bar()\n",
    "# plt.show()\n",
    "x_test[\"labels\"].value_counts(normalize=True).plot.bar()\n",
    "plt.show()"
   ]
  },
  {
   "cell_type": "code",
   "execution_count": 8,
   "metadata": {},
   "outputs": [],
   "source": [
    "x_train.to_csv(\"Data/TRAIN.csv\", index=False)\n",
    "# x_val.to_csv(\"Data/VAL.csv\", index=False)\n",
    "x_test.to_csv(\"Data/TEST.csv\", index=False)"
   ]
  }
 ],
 "metadata": {
  "kernelspec": {
   "display_name": "Python 3",
   "language": "python",
   "name": "python3"
  },
  "language_info": {
   "codemirror_mode": {
    "name": "ipython",
    "version": 3
   },
   "file_extension": ".py",
   "mimetype": "text/x-python",
   "name": "python",
   "nbconvert_exporter": "python",
   "pygments_lexer": "ipython3",
   "version": "3.8.3"
  }
 },
 "nbformat": 4,
 "nbformat_minor": 4
}
