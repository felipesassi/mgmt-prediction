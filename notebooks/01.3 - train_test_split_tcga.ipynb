{
 "cells": [
  {
   "cell_type": "code",
   "execution_count": 1,
   "metadata": {},
   "outputs": [],
   "source": [
    "from sklearn.model_selection import train_test_split\n",
    "import pandas as pd\n",
    "import matplotlib.pyplot as plt"
   ]
  },
  {
   "cell_type": "code",
   "execution_count": 3,
   "metadata": {},
   "outputs": [],
   "source": [
    "df = pd.read_csv(\"Data/DATASET_MASTER.csv\")"
   ]
  },
  {
   "cell_type": "code",
   "execution_count": 4,
   "metadata": {},
   "outputs": [
    {
     "data": {
      "text/html": [
       "<div>\n",
       "<style scoped>\n",
       "    .dataframe tbody tr th:only-of-type {\n",
       "        vertical-align: middle;\n",
       "    }\n",
       "\n",
       "    .dataframe tbody tr th {\n",
       "        vertical-align: top;\n",
       "    }\n",
       "\n",
       "    .dataframe thead th {\n",
       "        text-align: right;\n",
       "    }\n",
       "</style>\n",
       "<table border=\"1\" class=\"dataframe\">\n",
       "  <thead>\n",
       "    <tr style=\"text-align: right;\">\n",
       "      <th></th>\n",
       "      <th>Subject ID</th>\n",
       "      <th>Path</th>\n",
       "      <th>Filename</th>\n",
       "      <th>Target</th>\n",
       "    </tr>\n",
       "  </thead>\n",
       "  <tbody>\n",
       "    <tr>\n",
       "      <th>0</th>\n",
       "      <td>TCGA-02-0003</td>\n",
       "      <td>/data/slow/PrepIMGs/TCGA-02-0003_T1.nii.gz</td>\n",
       "      <td>TCGA-02-0003_T1.nii.gz</td>\n",
       "      <td>0</td>\n",
       "    </tr>\n",
       "    <tr>\n",
       "      <th>1</th>\n",
       "      <td>TCGA-02-0006</td>\n",
       "      <td>/data/slow/PrepIMGs/TCGA-02-0006_T1.nii.gz</td>\n",
       "      <td>TCGA-02-0006_T1.nii.gz</td>\n",
       "      <td>0</td>\n",
       "    </tr>\n",
       "    <tr>\n",
       "      <th>2</th>\n",
       "      <td>TCGA-02-0009</td>\n",
       "      <td>/data/slow/PrepIMGs/TCGA-02-0009_T1.nii.gz</td>\n",
       "      <td>TCGA-02-0009_T1.nii.gz</td>\n",
       "      <td>0</td>\n",
       "    </tr>\n",
       "    <tr>\n",
       "      <th>3</th>\n",
       "      <td>TCGA-02-0011</td>\n",
       "      <td>/data/slow/PrepIMGs/TCGA-02-0011_T1.nii.gz</td>\n",
       "      <td>TCGA-02-0011_T1.nii.gz</td>\n",
       "      <td>1</td>\n",
       "    </tr>\n",
       "    <tr>\n",
       "      <th>4</th>\n",
       "      <td>TCGA-02-0027</td>\n",
       "      <td>/data/slow/PrepIMGs/TCGA-02-0027_T1.nii.gz</td>\n",
       "      <td>TCGA-02-0027_T1.nii.gz</td>\n",
       "      <td>0</td>\n",
       "    </tr>\n",
       "  </tbody>\n",
       "</table>\n",
       "</div>"
      ],
      "text/plain": [
       "     Subject ID                                        Path  \\\n",
       "0  TCGA-02-0003  /data/slow/PrepIMGs/TCGA-02-0003_T1.nii.gz   \n",
       "1  TCGA-02-0006  /data/slow/PrepIMGs/TCGA-02-0006_T1.nii.gz   \n",
       "2  TCGA-02-0009  /data/slow/PrepIMGs/TCGA-02-0009_T1.nii.gz   \n",
       "3  TCGA-02-0011  /data/slow/PrepIMGs/TCGA-02-0011_T1.nii.gz   \n",
       "4  TCGA-02-0027  /data/slow/PrepIMGs/TCGA-02-0027_T1.nii.gz   \n",
       "\n",
       "                 Filename  Target  \n",
       "0  TCGA-02-0003_T1.nii.gz       0  \n",
       "1  TCGA-02-0006_T1.nii.gz       0  \n",
       "2  TCGA-02-0009_T1.nii.gz       0  \n",
       "3  TCGA-02-0011_T1.nii.gz       1  \n",
       "4  TCGA-02-0027_T1.nii.gz       0  "
      ]
     },
     "execution_count": 4,
     "metadata": {},
     "output_type": "execute_result"
    }
   ],
   "source": [
    "df.head()"
   ]
  },
  {
   "cell_type": "code",
   "execution_count": 10,
   "metadata": {},
   "outputs": [],
   "source": [
    "x_train, x_test = train_test_split(df, test_size=0.75, random_state=0, stratify=df[\"Target\"])"
   ]
  },
  {
   "cell_type": "code",
   "execution_count": 11,
   "metadata": {},
   "outputs": [
    {
     "data": {
      "image/png": "[encoded data removed]",
      "text/plain": [
       "<Figure size 432x288 with 1 Axes>"
      ]
     },
     "metadata": {
      "needs_background": "light"
     },
     "output_type": "display_data"
    },
    {
     "data": {
      "image/png": "[encoded data removed]",
      "text/plain": [
       "<Figure size 432x288 with 1 Axes>"
      ]
     },
     "metadata": {
      "needs_background": "light"
     },
     "output_type": "display_data"
    }
   ],
   "source": [
    "x_train[\"Target\"].value_counts(normalize=True).plot.bar()\n",
    "plt.show()\n",
    "# x_val[\"Target\"].value_counts(normalize=True).plot.bar()\n",
    "# plt.show()\n",
    "x_test[\"Target\"].value_counts(normalize=True).plot.bar()\n",
    "plt.show()"
   ]
  },
  {
   "cell_type": "code",
   "execution_count": 12,
   "metadata": {},
   "outputs": [],
   "source": [
    "x_train.to_csv(\"Data/TRAIN_TCGA.csv\", index=False)\n",
    "# x_val.to_csv(\"Data/VAL_TCGA.csv\", index=False)\n",
    "x_test.to_csv(\"Data/TEST_TCGA.csv\", index=False)"
   ]
  },
  {
   "cell_type": "code",
   "execution_count": null,
   "metadata": {},
   "outputs": [],
   "source": []
  }
 ],
 "metadata": {
  "kernelspec": {
   "display_name": "Python 3",
   "language": "python",
   "name": "python3"
  },
  "language_info": {
   "codemirror_mode": {
    "name": "ipython",
    "version": 3
   },
   "file_extension": ".py",
   "mimetype": "text/x-python",
   "name": "python",
   "nbconvert_exporter": "python",
   "pygments_lexer": "ipython3",
   "version": "3.8.3"
  }
 },
 "nbformat": 4,
 "nbformat_minor": 4
}
