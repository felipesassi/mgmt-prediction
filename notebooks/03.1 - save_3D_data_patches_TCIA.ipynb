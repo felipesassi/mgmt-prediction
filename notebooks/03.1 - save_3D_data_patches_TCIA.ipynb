{
 "cells": [
  {
   "cell_type": "code",
   "execution_count": 107,
   "metadata": {},
   "outputs": [],
   "source": [
    "import os\n",
    "import pandas as pd\n",
    "import nibabel as nib\n",
    "import matplotlib.pyplot as plt\n",
    "import numpy as np\n",
    "import h5py"
   ]
  },
  {
   "cell_type": "code",
   "execution_count": 108,
   "metadata": {},
   "outputs": [
    {
     "data": {
      "text/html": [
       "<div>\n",
       "<style scoped>\n",
       "    .dataframe tbody tr th:only-of-type {\n",
       "        vertical-align: middle;\n",
       "    }\n",
       "\n",
       "    .dataframe tbody tr th {\n",
       "        vertical-align: top;\n",
       "    }\n",
       "\n",
       "    .dataframe thead th {\n",
       "        text-align: right;\n",
       "    }\n",
       "</style>\n",
       "<table border=\"1\" class=\"dataframe\">\n",
       "  <thead>\n",
       "    <tr style=\"text-align: right;\">\n",
       "      <th></th>\n",
       "      <th>Subject ID</th>\n",
       "      <th>Age</th>\n",
       "      <th>Gender</th>\n",
       "      <th>Histology</th>\n",
       "      <th>Grade</th>\n",
       "      <th>TCGA Data\\nCollection</th>\n",
       "      <th>IDH\\nmutation\\nStatus</th>\n",
       "      <th>1p/19q\\nco-\\ndeletion\\nstatus</th>\n",
       "      <th>MGMT\\npromoter\\nstatus</th>\n",
       "      <th>Survival\\n(months)</th>\n",
       "      <th>Karnofsky\\nperformance\\nscores</th>\n",
       "      <th>Cross-\\nvalidation\\ngroup</th>\n",
       "    </tr>\n",
       "  </thead>\n",
       "  <tbody>\n",
       "    <tr>\n",
       "      <th>0</th>\n",
       "      <td>TCGA-02-0003</td>\n",
       "      <td>50.0</td>\n",
       "      <td>male</td>\n",
       "      <td>glioblastoma</td>\n",
       "      <td>G4</td>\n",
       "      <td>TCGA-GBM</td>\n",
       "      <td>WT</td>\n",
       "      <td>non-codel</td>\n",
       "      <td>Unmethylated</td>\n",
       "      <td>4.731106</td>\n",
       "      <td>100.0</td>\n",
       "      <td>2</td>\n",
       "    </tr>\n",
       "    <tr>\n",
       "      <th>1</th>\n",
       "      <td>TCGA-02-0006</td>\n",
       "      <td>56.0</td>\n",
       "      <td>female</td>\n",
       "      <td>glioblastoma</td>\n",
       "      <td>G4</td>\n",
       "      <td>TCGA-GBM</td>\n",
       "      <td>WT</td>\n",
       "      <td>non-codel</td>\n",
       "      <td>Unmethylated</td>\n",
       "      <td>18.333034</td>\n",
       "      <td>80.0</td>\n",
       "      <td>2</td>\n",
       "    </tr>\n",
       "    <tr>\n",
       "      <th>2</th>\n",
       "      <td>TCGA-02-0009</td>\n",
       "      <td>61.0</td>\n",
       "      <td>female</td>\n",
       "      <td>glioblastoma</td>\n",
       "      <td>G4</td>\n",
       "      <td>TCGA-GBM</td>\n",
       "      <td>WT</td>\n",
       "      <td>non-codel</td>\n",
       "      <td>Unmethylated</td>\n",
       "      <td>10.579278</td>\n",
       "      <td>80.0</td>\n",
       "      <td>2</td>\n",
       "    </tr>\n",
       "    <tr>\n",
       "      <th>3</th>\n",
       "      <td>TCGA-02-0011</td>\n",
       "      <td>18.0</td>\n",
       "      <td>female</td>\n",
       "      <td>glioblastoma</td>\n",
       "      <td>G4</td>\n",
       "      <td>TCGA-GBM</td>\n",
       "      <td>WT</td>\n",
       "      <td>non-codel</td>\n",
       "      <td>Methylated</td>\n",
       "      <td>20.698587</td>\n",
       "      <td>80.0</td>\n",
       "      <td>2</td>\n",
       "    </tr>\n",
       "    <tr>\n",
       "      <th>4</th>\n",
       "      <td>TCGA-02-0027</td>\n",
       "      <td>33.0</td>\n",
       "      <td>female</td>\n",
       "      <td>glioblastoma</td>\n",
       "      <td>G4</td>\n",
       "      <td>TCGA-GBM</td>\n",
       "      <td>WT</td>\n",
       "      <td>non-codel</td>\n",
       "      <td>Unmethylated</td>\n",
       "      <td>12.156313</td>\n",
       "      <td>100.0</td>\n",
       "      <td>2</td>\n",
       "    </tr>\n",
       "  </tbody>\n",
       "</table>\n",
       "</div>"
      ],
      "text/plain": [
       "     Subject ID   Age  Gender     Histology Grade TCGA Data\\nCollection  \\\n",
       "0  TCGA-02-0003  50.0    male  glioblastoma    G4              TCGA-GBM   \n",
       "1  TCGA-02-0006  56.0  female  glioblastoma    G4              TCGA-GBM   \n",
       "2  TCGA-02-0009  61.0  female  glioblastoma    G4              TCGA-GBM   \n",
       "3  TCGA-02-0011  18.0  female  glioblastoma    G4              TCGA-GBM   \n",
       "4  TCGA-02-0027  33.0  female  glioblastoma    G4              TCGA-GBM   \n",
       "\n",
       "  IDH\\nmutation\\nStatus 1p/19q\\nco-\\ndeletion\\nstatus MGMT\\npromoter\\nstatus  \\\n",
       "0                    WT                     non-codel           Unmethylated   \n",
       "1                    WT                     non-codel           Unmethylated   \n",
       "2                    WT                     non-codel           Unmethylated   \n",
       "3                    WT                     non-codel             Methylated   \n",
       "4                    WT                     non-codel           Unmethylated   \n",
       "\n",
       "   Survival\\n(months)  Karnofsky\\nperformance\\nscores  \\\n",
       "0            4.731106                           100.0   \n",
       "1           18.333034                            80.0   \n",
       "2           10.579278                            80.0   \n",
       "3           20.698587                            80.0   \n",
       "4           12.156313                           100.0   \n",
       "\n",
       "   Cross-\\nvalidation\\ngroup  \n",
       "0                          2  \n",
       "1                          2  \n",
       "2                          2  \n",
       "3                          2  \n",
       "4                          2  "
      ]
     },
     "execution_count": 108,
     "metadata": {},
     "output_type": "execute_result"
    }
   ],
   "source": [
    "mgmt_labels = pd.read_csv(\"Data/MGMT_YOGANANDA_DATA.csv\")\n",
    "\n",
    "mgmt_labels.head()"
   ]
  },
  {
   "cell_type": "code",
   "execution_count": 109,
   "metadata": {},
   "outputs": [],
   "source": [
    "files = h5py.File('/data/slow/yogananda.hdf5', 'r')"
   ]
  },
  {
   "cell_type": "code",
   "execution_count": 110,
   "metadata": {},
   "outputs": [],
   "source": [
    "def get_and_save_patches(brain, mask,  image_name, save_dir, target, patch_size=32, overlap=8):\n",
    "    \n",
    "    x_y_size = int((240 - patch_size)/overlap) + 1\n",
    "    z_size = int((155 - patch_size)/overlap) + 1\n",
    "    \n",
    "    brain_patch_list = []\n",
    "    mask_patches_list = []\n",
    "    target_list = []\n",
    "    pixels_in_brain_patch_list = []\n",
    "    pixels_in_mask_patch_list = []\n",
    "        \n",
    "    for x in range(x_y_size):\n",
    "        for y in range(x_y_size):\n",
    "            for z in range(z_size):            \n",
    "                \n",
    "                brain_patch = brain[overlap*x:overlap*x + patch_size, overlap*y:overlap*y + patch_size, overlap*z:overlap*z + patch_size]\n",
    "                mask_patch = mask[overlap*x:overlap*x + patch_size, overlap*y:overlap*y + patch_size, overlap*z:overlap*z + patch_size]\n",
    "                   \n",
    "                pixel_count = mask_patch.sum()\n",
    "                \n",
    "                if pixel_count >= 1:\n",
    "                \n",
    "                    pixels_in_mask_patch_list.append(pixel_count)           \n",
    "\n",
    "                    pixel_count = brain_patch.astype(np.float64).sum()                \n",
    "                    pixels_in_brain_patch_list.append(pixel_count)   \n",
    "\n",
    "                    brain_patch_list.append(f\"{save_dir}/{image_name}_{x}_{y}_{z}.h5\")\n",
    "                    mask_patches_list.append(f\"{save_dir}/{image_name}_mask_{x}_{y}_{z}.h5\")\n",
    "                    target_list.append(target)            \n",
    "\n",
    "                    with h5py.File(f'{save_dir}/{image_name}_{x}_{y}_{z}.h5', 'w') as hf:\n",
    "                        hf.create_dataset(\"Slice\",  data=brain_patch, chunks=True)\n",
    "                    with h5py.File(f'{save_dir}/{image_name}_mask_{x}_{y}_{z}.h5', 'w') as hf:\n",
    "                        hf.create_dataset(\"Slice\",  data=mask_patch, chunks=True)\n",
    "        \n",
    "    df = pd.DataFrame(data={\n",
    "        \"brain_patches\": brain_patch_list,\n",
    "        \"mask_patches\": mask_patches_list,\n",
    "        \"pixels_in_brain_patch\": pixels_in_brain_patch_list,\n",
    "        \"pixels_in_mask_patch\": pixels_in_mask_patch_list,\n",
    "        \"target\": target_list,\n",
    "    })\n",
    "    \n",
    "    return df"
   ]
  },
  {
   "cell_type": "code",
   "execution_count": 111,
   "metadata": {},
   "outputs": [],
   "source": [
    "id_sel = files[\"X\"].attrs[\"ids\"][0]"
   ]
  },
  {
   "cell_type": "code",
   "execution_count": 112,
   "metadata": {},
   "outputs": [],
   "source": [
    "mgmt_labels[\"Subject ID\"] = mgmt_labels[\"Subject ID\"].apply(lambda x: x.split(\"_\")[0])"
   ]
  },
  {
   "cell_type": "code",
   "execution_count": 113,
   "metadata": {},
   "outputs": [],
   "source": [
    "def create_target(target):\n",
    "    if target == \"Unmethylated\":\n",
    "        return 0\n",
    "    else:\n",
    "        return 1"
   ]
  },
  {
   "cell_type": "code",
   "execution_count": 114,
   "metadata": {},
   "outputs": [],
   "source": [
    "mgmt_labels[\"target\"] = mgmt_labels[\"MGMT\\npromoter\\nstatus\"].apply(create_target)"
   ]
  },
  {
   "cell_type": "code",
   "execution_count": 126,
   "metadata": {},
   "outputs": [],
   "source": [
    "df_saved = []\n",
    "\n",
    "for i, f in enumerate(range(files[\"X\"].shape[0])):\n",
    "    \n",
    "    x = files[\"X\"][i][1]\n",
    "\n",
    "    y = files[\"seg\"][i]\n",
    "\n",
    "    id_sel = files[\"X\"].attrs[\"ids\"][i]\n",
    "    \n",
    "    target = mgmt_labels[mgmt_labels[\"Subject ID\"] == id_sel][\"target\"].values[0]\n",
    "    \n",
    "    path = f\"Data/Patches_128X128X128/{id_sel}\"    \n",
    "        \n",
    "    if not os.path.exists(path):\n",
    "    \n",
    "        os.mkdir(path)\n",
    "\n",
    "        df_patches = get_and_save_patches(x, y, f, path, target, 128)\n",
    "        \n",
    "        df_saved.append(df_patches)\n",
    "    \n",
    "    if i == 1:\n",
    "        break\n",
    "    \n",
    "df_saved = pd.concat(df_saved).reset_index(drop=True)\n",
    "        \n",
    "df_saved.to_csv(\"Data/MGMT_3D_SLICES_32X32X32.csv\", index=False)"
   ]
  },
  {
   "cell_type": "markdown",
   "metadata": {},
   "source": [
    "# Test saved patches"
   ]
  },
  {
   "cell_type": "code",
   "execution_count": 11,
   "metadata": {},
   "outputs": [
    {
     "data": {
      "image/png": "[encoded data removed]",
      "text/plain": [
       "<Figure size 432x288 with 1 Axes>"
      ]
     },
     "metadata": {
      "needs_background": "light"
     },
     "output_type": "display_data"
    }
   ],
   "source": [
    "x_dir = df_saved[\"brain_patches\"].values[1230]\n",
    "\n",
    "with h5py.File(x_dir, \"r\") as f:\n",
    "    a_group_key = list(f.keys())[0]\n",
    "    x = np.array(list(f[a_group_key]))\n",
    "    \n",
    "plt.imshow(x[23].astype(np.float32))\n",
    "plt.show()"
   ]
  },
  {
   "cell_type": "code",
   "execution_count": 12,
   "metadata": {},
   "outputs": [
    {
     "data": {
      "image/png": "[encoded data removed]",
      "text/plain": [
       "<Figure size 432x288 with 1 Axes>"
      ]
     },
     "metadata": {
      "needs_background": "light"
     },
     "output_type": "display_data"
    }
   ],
   "source": [
    "x_dir = df_saved[\"mask_patches\"].values[1230]\n",
    "\n",
    "with h5py.File(x_dir, \"r\") as f:\n",
    "    a_group_key = list(f.keys())[0]\n",
    "    x = np.array(list(f[a_group_key]))\n",
    "    \n",
    "plt.imshow(x[23].astype(np.float32))\n",
    "plt.show()"
   ]
  },
  {
   "cell_type": "markdown",
   "metadata": {},
   "source": [
    "# Reconstruct patches"
   ]
  },
  {
   "cell_type": "code",
   "execution_count": 32,
   "metadata": {},
   "outputs": [],
   "source": [
    "def create_mask_for_normalization(patch_size=32, overlap=8):\n",
    "       \n",
    "    mask = np.zeros((240, 240, 155))\n",
    "    \n",
    "    z_size = int((155 - patch_size)/overlap) + 1\n",
    "    x_y_size = int((240 - patch_size)/overlap) + 1\n",
    "    \n",
    "    c = 0\n",
    "        \n",
    "    for x in range(x_y_size):\n",
    "        for y in range(x_y_size):\n",
    "            for z in range(z_size):           \n",
    "                mask[overlap*x:overlap*x + patch_size, overlap*y:overlap*y + patch_size, overlap*z:overlap*z + patch_size] += np.ones((patch_size, patch_size, patch_size))\n",
    "                                \n",
    "                \n",
    "    mask[mask == 0] = 1\n",
    "    \n",
    "    return mask "
   ]
  },
  {
   "cell_type": "code",
   "execution_count": 34,
   "metadata": {},
   "outputs": [],
   "source": [
    "def get_patches_from_input(input_image, patch_size=32, overlap=8):\n",
    "    \n",
    "    z_size = int((155 - patch_size)/overlap) + 1\n",
    "    x_y_size = int((240 - patch_size)/overlap) + 1\n",
    "    \n",
    "    patches = []\n",
    "        \n",
    "    for x in range(x_y_size):\n",
    "        for y in range(x_y_size):\n",
    "            for z in range(z_size):           \n",
    "                patch = input_image[overlap*x:overlap*x + patch_size, overlap*y:overlap*y + patch_size, overlap*z:overlap*z + patch_size]\n",
    "                patches.append(patch)\n",
    "                \n",
    "    return patches"
   ]
  },
  {
   "cell_type": "code",
   "execution_count": 103,
   "metadata": {},
   "outputs": [],
   "source": [
    "mask_for_normalization = create_mask_for_normalization(patch_size=32, overlap=8)"
   ]
  },
  {
   "cell_type": "code",
   "execution_count": 104,
   "metadata": {},
   "outputs": [],
   "source": [
    "def recreate_brain_from_patches(patches, patch_size=32, overlap=8):\n",
    "    \n",
    "    reconstructed_image = np.zeros((240, 240, 155))\n",
    "    \n",
    "    z_size = int((155 - patch_size)/overlap) + 1\n",
    "    x_y_size = int((240 - patch_size)/overlap) + 1\n",
    "        \n",
    "    c = 0\n",
    "\n",
    "    for x in range(x_y_size):\n",
    "        for y in range(x_y_size):\n",
    "            for z in range(z_size):            \n",
    "                reconstructed_image[overlap*x:overlap*x + patch_size, overlap*y:overlap*y + patch_size, overlap*z:overlap*z + patch_size] += patches[c]\n",
    "                c = c + 1\n",
    "                    \n",
    "    reconstructed_image = reconstructed_image/mask_for_normalization\n",
    "                \n",
    "    return reconstructed_image"
   ]
  },
  {
   "cell_type": "code",
   "execution_count": 105,
   "metadata": {},
   "outputs": [],
   "source": [
    "x = files[\"X\"][i][1]\n",
    "\n",
    "patches = get_patches_from_input(x, patch_size=32, overlap=8)\n",
    "x_reconstructed = recreate_brain_from_patches(patches, patch_size=32, overlap=8)"
   ]
  },
  {
   "cell_type": "code",
   "execution_count": 106,
   "metadata": {},
   "outputs": [
    {
     "data": {
      "image/png": "[encoded data removed]",
      "text/plain": [
       "<Figure size 432x288 with 1 Axes>"
      ]
     },
     "metadata": {
      "needs_background": "light"
     },
     "output_type": "display_data"
    },
    {
     "data": {
      "image/png": "[encoded data removed]",
      "text/plain": [
       "<Figure size 432x288 with 1 Axes>"
      ]
     },
     "metadata": {
      "needs_background": "light"
     },
     "output_type": "display_data"
    }
   ],
   "source": [
    "plt.imshow(x[150].astype(np.float32))\n",
    "plt.show()\n",
    "\n",
    "# plt.imshow(patches[150][50].astype(np.float32))\n",
    "# plt.show()\n",
    "\n",
    "plt.imshow(x_reconstructed[150])\n",
    "plt.show()"
   ]
  }
 ],
 "metadata": {
  "kernelspec": {
   "display_name": "Python 3",
   "language": "python",
   "name": "python3"
  },
  "language_info": {
   "codemirror_mode": {
    "name": "ipython",
    "version": 3
   },
   "file_extension": ".py",
   "mimetype": "text/x-python",
   "name": "python",
   "nbconvert_exporter": "python",
   "pygments_lexer": "ipython3",
   "version": "3.8.3"
  }
 },
 "nbformat": 4,
 "nbformat_minor": 4
}
