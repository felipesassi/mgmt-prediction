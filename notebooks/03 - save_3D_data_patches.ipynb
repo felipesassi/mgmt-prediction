{
 "cells": [
  {
   "cell_type": "code",
   "execution_count": 7,
   "metadata": {},
   "outputs": [],
   "source": [
    "import os\n",
    "import pandas as pd\n",
    "import nibabel as nib\n",
    "import matplotlib.pyplot as plt\n",
    "import numpy as np\n",
    "import h5py"
   ]
  },
  {
   "cell_type": "code",
   "execution_count": 3,
   "metadata": {},
   "outputs": [
    {
     "data": {
      "text/html": [
       "<div>\n",
       "<style scoped>\n",
       "    .dataframe tbody tr th:only-of-type {\n",
       "        vertical-align: middle;\n",
       "    }\n",
       "\n",
       "    .dataframe tbody tr th {\n",
       "        vertical-align: top;\n",
       "    }\n",
       "\n",
       "    .dataframe thead th {\n",
       "        text-align: right;\n",
       "    }\n",
       "</style>\n",
       "<table border=\"1\" class=\"dataframe\">\n",
       "  <thead>\n",
       "    <tr style=\"text-align: right;\">\n",
       "      <th></th>\n",
       "      <th>files</th>\n",
       "      <th>labels</th>\n",
       "      <th>x</th>\n",
       "      <th>y</th>\n",
       "    </tr>\n",
       "  </thead>\n",
       "  <tbody>\n",
       "    <tr>\n",
       "      <th>0</th>\n",
       "      <td>BraTS2021_00000</td>\n",
       "      <td>1</td>\n",
       "      <td>/data/slow/RSNA_ASNR_MICCAI_BraTS2021_Training...</td>\n",
       "      <td>/data/slow/RSNA_ASNR_MICCAI_BraTS2021_Training...</td>\n",
       "    </tr>\n",
       "    <tr>\n",
       "      <th>1</th>\n",
       "      <td>BraTS2021_00002</td>\n",
       "      <td>1</td>\n",
       "      <td>/data/slow/RSNA_ASNR_MICCAI_BraTS2021_Training...</td>\n",
       "      <td>/data/slow/RSNA_ASNR_MICCAI_BraTS2021_Training...</td>\n",
       "    </tr>\n",
       "    <tr>\n",
       "      <th>2</th>\n",
       "      <td>BraTS2021_00003</td>\n",
       "      <td>0</td>\n",
       "      <td>/data/slow/RSNA_ASNR_MICCAI_BraTS2021_Training...</td>\n",
       "      <td>/data/slow/RSNA_ASNR_MICCAI_BraTS2021_Training...</td>\n",
       "    </tr>\n",
       "    <tr>\n",
       "      <th>3</th>\n",
       "      <td>BraTS2021_00005</td>\n",
       "      <td>1</td>\n",
       "      <td>/data/slow/RSNA_ASNR_MICCAI_BraTS2021_Training...</td>\n",
       "      <td>/data/slow/RSNA_ASNR_MICCAI_BraTS2021_Training...</td>\n",
       "    </tr>\n",
       "    <tr>\n",
       "      <th>4</th>\n",
       "      <td>BraTS2021_00006</td>\n",
       "      <td>1</td>\n",
       "      <td>/data/slow/RSNA_ASNR_MICCAI_BraTS2021_Training...</td>\n",
       "      <td>/data/slow/RSNA_ASNR_MICCAI_BraTS2021_Training...</td>\n",
       "    </tr>\n",
       "  </tbody>\n",
       "</table>\n",
       "</div>"
      ],
      "text/plain": [
       "             files  labels                                                  x  \\\n",
       "0  BraTS2021_00000       1  /data/slow/RSNA_ASNR_MICCAI_BraTS2021_Training...   \n",
       "1  BraTS2021_00002       1  /data/slow/RSNA_ASNR_MICCAI_BraTS2021_Training...   \n",
       "2  BraTS2021_00003       0  /data/slow/RSNA_ASNR_MICCAI_BraTS2021_Training...   \n",
       "3  BraTS2021_00005       1  /data/slow/RSNA_ASNR_MICCAI_BraTS2021_Training...   \n",
       "4  BraTS2021_00006       1  /data/slow/RSNA_ASNR_MICCAI_BraTS2021_Training...   \n",
       "\n",
       "                                                   y  \n",
       "0  /data/slow/RSNA_ASNR_MICCAI_BraTS2021_Training...  \n",
       "1  /data/slow/RSNA_ASNR_MICCAI_BraTS2021_Training...  \n",
       "2  /data/slow/RSNA_ASNR_MICCAI_BraTS2021_Training...  \n",
       "3  /data/slow/RSNA_ASNR_MICCAI_BraTS2021_Training...  \n",
       "4  /data/slow/RSNA_ASNR_MICCAI_BraTS2021_Training...  "
      ]
     },
     "execution_count": 3,
     "metadata": {},
     "output_type": "execute_result"
    }
   ],
   "source": [
    "df = pd.read_csv(\"Data/MGMT.csv\")\n",
    "df.head()"
   ]
  },
  {
   "cell_type": "code",
   "execution_count": 4,
   "metadata": {},
   "outputs": [],
   "source": [
    "files = list(df[\"files\"].values)"
   ]
  },
  {
   "cell_type": "code",
   "execution_count": 4,
   "metadata": {},
   "outputs": [],
   "source": [
    "def get_and_save_patches(brain, mask,  image_name, save_dir, target, patch_size=32, overlap=8):\n",
    "    \n",
    "    x_size = int((155 - patch_size)/overlap) + 1\n",
    "    y_z_size = int((240 - patch_size)/overlap) + 1\n",
    "    \n",
    "    brain_patch_list = []\n",
    "    mask_patches_list = []\n",
    "    target_list = []\n",
    "    pixels_in_brain_patch_list = []\n",
    "    pixels_in_mask_patch_list = []\n",
    "        \n",
    "    for x in range(x_size):\n",
    "        for y in range(y_z_size):\n",
    "            for z in range(y_z_size):            \n",
    "                \n",
    "                brain_patch = brain[overlap*x:overlap*x + patch_size, overlap*y:overlap*y + patch_size, overlap*z:overlap*z + patch_size]\n",
    "                mask_patch = mask[overlap*x:overlap*x + patch_size, overlap*y:overlap*y + patch_size, overlap*z:overlap*z + patch_size]\n",
    "                   \n",
    "                pixel_count = mask_patch.sum()\n",
    "                \n",
    "                if pixel_count >= 10:\n",
    "                \n",
    "                    pixels_in_mask_patch_list.append(pixel_count)           \n",
    "\n",
    "                    pixel_count = brain_patch.astype(np.float64).sum()                \n",
    "                    pixels_in_brain_patch_list.append(pixel_count)   \n",
    "\n",
    "                    brain_patch_list.append(f\"{save_dir}/{image_name}_{x}_{y}_{z}.h5\")\n",
    "                    mask_patches_list.append(f\"{save_dir}/{image_name}_mask_{x}_{y}_{z}.h5\")\n",
    "                    target_list.append(target)            \n",
    "\n",
    "                    with h5py.File(f'{save_dir}/{image_name}_{x}_{y}_{z}.h5', 'w') as hf:\n",
    "                        hf.create_dataset(\"Slice\",  data=brain_patch, chunks=True)\n",
    "                    with h5py.File(f'{save_dir}/{image_name}_mask_{x}_{y}_{z}.h5', 'w') as hf:\n",
    "                        hf.create_dataset(\"Slice\",  data=mask_patch, chunks=True)\n",
    "        \n",
    "    df = pd.DataFrame(data={\n",
    "        \"brain_patches\": brain_patch_list,\n",
    "        \"mask_patches\": mask_patches_list,\n",
    "        \"pixels_in_brain_patch\": pixels_in_brain_patch_list,\n",
    "        \"pixels_in_mask_patch\": pixels_in_mask_patch_list,\n",
    "        \"target\": target_list,\n",
    "    })\n",
    "    \n",
    "    return df"
   ]
  },
  {
   "cell_type": "code",
   "execution_count": 6,
   "metadata": {},
   "outputs": [],
   "source": [
    "df_saved = []\n",
    "\n",
    "for i, f in enumerate(files):\n",
    "    \n",
    "    x = nib.load(df[\"x\"].values[i]).get_fdata().astype(np.float16)\n",
    "    x = x.transpose(2, 0, 1)\n",
    "\n",
    "    y = nib.load(df[\"y\"].values[i]).get_fdata().astype(np.uint8)\n",
    "    y = y.transpose(2, 0, 1)\n",
    "\n",
    "    target = df[\"labels\"].values[i]\n",
    "    \n",
    "    path = f\"Data/Patches_128X128X128/{f}\"    \n",
    "        \n",
    "    if not os.path.exists(path):\n",
    "    \n",
    "        os.mkdir(path)\n",
    "\n",
    "        df_patches = get_and_save_patches(x, y, f, path, target, 128)\n",
    "        \n",
    "        df_saved.append(df_patches)\n",
    "                \n",
    "    break\n",
    "    \n",
    "df_saved = pd.concat(df_saved).reset_index(drop=True)\n",
    "        \n",
    "df_saved.to_csv(\"Data/MGMT_3D_SLICES_128X128X128.csv\", index=False)"
   ]
  },
  {
   "cell_type": "code",
   "execution_count": 7,
   "metadata": {},
   "outputs": [
    {
     "data": {
      "text/html": [
       "<div>\n",
       "<style scoped>\n",
       "    .dataframe tbody tr th:only-of-type {\n",
       "        vertical-align: middle;\n",
       "    }\n",
       "\n",
       "    .dataframe tbody tr th {\n",
       "        vertical-align: top;\n",
       "    }\n",
       "\n",
       "    .dataframe thead th {\n",
       "        text-align: right;\n",
       "    }\n",
       "</style>\n",
       "<table border=\"1\" class=\"dataframe\">\n",
       "  <thead>\n",
       "    <tr style=\"text-align: right;\">\n",
       "      <th></th>\n",
       "      <th>brain_patches</th>\n",
       "      <th>mask_patches</th>\n",
       "      <th>pixels_in_brain_patch</th>\n",
       "      <th>pixels_in_mask_patch</th>\n",
       "      <th>target</th>\n",
       "    </tr>\n",
       "  </thead>\n",
       "  <tbody>\n",
       "    <tr>\n",
       "      <th>0</th>\n",
       "      <td>Data/Patches_128X128X128/BraTS2021_00000/BraTS...</td>\n",
       "      <td>Data/Patches_128X128X128/BraTS2021_00000/BraTS...</td>\n",
       "      <td>214906293.0</td>\n",
       "      <td>20722</td>\n",
       "      <td>1</td>\n",
       "    </tr>\n",
       "    <tr>\n",
       "      <th>1</th>\n",
       "      <td>Data/Patches_128X128X128/BraTS2021_00000/BraTS...</td>\n",
       "      <td>Data/Patches_128X128X128/BraTS2021_00000/BraTS...</td>\n",
       "      <td>243698287.0</td>\n",
       "      <td>20722</td>\n",
       "      <td>1</td>\n",
       "    </tr>\n",
       "    <tr>\n",
       "      <th>2</th>\n",
       "      <td>Data/Patches_128X128X128/BraTS2021_00000/BraTS...</td>\n",
       "      <td>Data/Patches_128X128X128/BraTS2021_00000/BraTS...</td>\n",
       "      <td>276954919.0</td>\n",
       "      <td>20722</td>\n",
       "      <td>1</td>\n",
       "    </tr>\n",
       "    <tr>\n",
       "      <th>3</th>\n",
       "      <td>Data/Patches_128X128X128/BraTS2021_00000/BraTS...</td>\n",
       "      <td>Data/Patches_128X128X128/BraTS2021_00000/BraTS...</td>\n",
       "      <td>312303142.0</td>\n",
       "      <td>20722</td>\n",
       "      <td>1</td>\n",
       "    </tr>\n",
       "    <tr>\n",
       "      <th>4</th>\n",
       "      <td>Data/Patches_128X128X128/BraTS2021_00000/BraTS...</td>\n",
       "      <td>Data/Patches_128X128X128/BraTS2021_00000/BraTS...</td>\n",
       "      <td>344218709.0</td>\n",
       "      <td>20722</td>\n",
       "      <td>1</td>\n",
       "    </tr>\n",
       "  </tbody>\n",
       "</table>\n",
       "</div>"
      ],
      "text/plain": [
       "                                       brain_patches  \\\n",
       "0  Data/Patches_128X128X128/BraTS2021_00000/BraTS...   \n",
       "1  Data/Patches_128X128X128/BraTS2021_00000/BraTS...   \n",
       "2  Data/Patches_128X128X128/BraTS2021_00000/BraTS...   \n",
       "3  Data/Patches_128X128X128/BraTS2021_00000/BraTS...   \n",
       "4  Data/Patches_128X128X128/BraTS2021_00000/BraTS...   \n",
       "\n",
       "                                        mask_patches  pixels_in_brain_patch  \\\n",
       "0  Data/Patches_128X128X128/BraTS2021_00000/BraTS...            214906293.0   \n",
       "1  Data/Patches_128X128X128/BraTS2021_00000/BraTS...            243698287.0   \n",
       "2  Data/Patches_128X128X128/BraTS2021_00000/BraTS...            276954919.0   \n",
       "3  Data/Patches_128X128X128/BraTS2021_00000/BraTS...            312303142.0   \n",
       "4  Data/Patches_128X128X128/BraTS2021_00000/BraTS...            344218709.0   \n",
       "\n",
       "   pixels_in_mask_patch  target  \n",
       "0                 20722       1  \n",
       "1                 20722       1  \n",
       "2                 20722       1  \n",
       "3                 20722       1  \n",
       "4                 20722       1  "
      ]
     },
     "execution_count": 7,
     "metadata": {},
     "output_type": "execute_result"
    }
   ],
   "source": [
    "df_saved.head()"
   ]
  },
  {
   "cell_type": "markdown",
   "metadata": {},
   "source": [
    "### Size"
   ]
  },
  {
   "cell_type": "code",
   "execution_count": 86,
   "metadata": {},
   "outputs": [
    {
     "data": {
      "text/plain": [
       "1789.7653034979423"
      ]
     },
     "execution_count": 86,
     "metadata": {},
     "output_type": "execute_result"
    }
   ],
   "source": [
    "# 573*5.9*df_saved.query(\"pixels_in_brain_patch > 0\").shape[0]/df_saved.shape[0]"
   ]
  },
  {
   "cell_type": "code",
   "execution_count": 78,
   "metadata": {},
   "outputs": [
    {
     "data": {
      "text/plain": [
       "264.3345679012346"
      ]
     },
     "execution_count": 78,
     "metadata": {},
     "output_type": "execute_result"
    }
   ],
   "source": [
    "# 573*5.9*df_saved.query(\"pixels_in_mask_patch > 0\").shape[0]/df_saved.shape[0]"
   ]
  },
  {
   "cell_type": "markdown",
   "metadata": {},
   "source": [
    "# Test saved patches"
   ]
  },
  {
   "cell_type": "code",
   "execution_count": 216,
   "metadata": {},
   "outputs": [
    {
     "data": {
      "image/png": "[encoded data removed]",
      "text/plain": [
       "<Figure size 432x288 with 1 Axes>"
      ]
     },
     "metadata": {
      "needs_background": "light"
     },
     "output_type": "display_data"
    }
   ],
   "source": [
    "x_dir = df_saved[\"brain_patches\"].values[0]\n",
    "\n",
    "with h5py.File(x_dir, \"r\") as f:\n",
    "    a_group_key = list(f.keys())[0]\n",
    "    x = np.array(list(f[a_group_key]))\n",
    "    \n",
    "plt.imshow(x[30].astype(np.float32))\n",
    "plt.show()"
   ]
  },
  {
   "cell_type": "markdown",
   "metadata": {},
   "source": [
    "# Reconstruct patches"
   ]
  },
  {
   "cell_type": "code",
   "execution_count": 171,
   "metadata": {},
   "outputs": [],
   "source": [
    "def create_mask_for_normalization(patch_size=32, overlap=8):\n",
    "       \n",
    "    mask = np.zeros((155, 240, 240))\n",
    "    \n",
    "    x_size = int((155 - patch_size)/overlap) + 1\n",
    "    y_z_size = int((240 - patch_size)/overlap) + 1\n",
    "    \n",
    "    c = 0\n",
    "        \n",
    "    for x in range(x_size):\n",
    "        for y in range(y_z_size):\n",
    "            for z in range(y_z_size):            \n",
    "                mask[overlap*x:overlap*x + patch_size, overlap*y:overlap*y + patch_size, overlap*z:overlap*z + patch_size] += np.ones((patch_size, patch_size, patch_size))\n",
    "                                \n",
    "                \n",
    "    mask[mask == 0] = 1\n",
    "    \n",
    "    return mask "
   ]
  },
  {
   "cell_type": "code",
   "execution_count": 172,
   "metadata": {},
   "outputs": [],
   "source": [
    "mask_for_normalization = create_mask_for_normalization(patch_size=16)"
   ]
  },
  {
   "cell_type": "code",
   "execution_count": 173,
   "metadata": {},
   "outputs": [],
   "source": [
    "def get_patches_from_input(input_image, patch_size=32, overlap=8):\n",
    "    \n",
    "    x_size = int((155 - patch_size)/overlap) + 1\n",
    "    y_z_size = int((240 - patch_size)/overlap) + 1\n",
    "    \n",
    "    patches = []\n",
    "    \n",
    "        \n",
    "    for x in range(x_size):\n",
    "        for y in range(y_z_size):\n",
    "            for z in range(y_z_size):            \n",
    "                patch = input_image[overlap*x:overlap*x + patch_size, overlap*y:overlap*y + patch_size, overlap*z:overlap*z + patch_size]\n",
    "                patches.append(patch)\n",
    "                \n",
    "    return patches"
   ]
  },
  {
   "cell_type": "code",
   "execution_count": 174,
   "metadata": {},
   "outputs": [],
   "source": [
    "def recreate_brain_from_patches(patches, patch_size=32, overlap=8):\n",
    "    \n",
    "    reconstructed_image = np.zeros((2, 155, 240, 240))\n",
    "    \n",
    "    x_size = int((155 - patch_size)/overlap) + 1\n",
    "    y_z_size = int((240 - patch_size)/overlap) + 1\n",
    "        \n",
    "    for i in range(2):\n",
    "        c = 0\n",
    "        for x in range(x_size):\n",
    "            for y in range(y_z_size):\n",
    "                for z in range(y_z_size):            \n",
    "                    reconstructed_image[i, overlap*x:overlap*x + patch_size, overlap*y:overlap*y + patch_size, overlap*z:overlap*z + patch_size] = patches[c][0][i]\n",
    "                    c = c + 1\n",
    "                    \n",
    "    reconstructed_image = reconstructed_image/mask_for_normalization\n",
    "                \n",
    "    return reconstructed_image"
   ]
  },
  {
   "cell_type": "code",
   "execution_count": 178,
   "metadata": {},
   "outputs": [],
   "source": [
    "patches = get_patches_from_input(x, patch_size=120, overlap=12)\n",
    "x_reconstructed = recreate_brain_from_patches(patches, patch_size=120, overlap=12)"
   ]
  },
  {
   "cell_type": "code",
   "execution_count": 183,
   "metadata": {},
   "outputs": [
    {
     "data": {
      "image/png": "[encoded data removed]",
      "text/plain": [
       "<Figure size 432x288 with 1 Axes>"
      ]
     },
     "metadata": {
      "needs_background": "light"
     },
     "output_type": "display_data"
    },
    {
     "data": {
      "image/png": "[encoded data removed]",
      "text/plain": [
       "<Figure size 432x288 with 1 Axes>"
      ]
     },
     "metadata": {
      "needs_background": "light"
     },
     "output_type": "display_data"
    },
    {
     "data": {
      "image/png": "[encoded data removed]",
      "text/plain": [
       "<Figure size 432x288 with 1 Axes>"
      ]
     },
     "metadata": {
      "needs_background": "light"
     },
     "output_type": "display_data"
    }
   ],
   "source": [
    "plt.imshow(x[120].astype(np.float32))\n",
    "plt.show()\n",
    "\n",
    "plt.imshow(patches[0][50].astype(np.float32))\n",
    "plt.show()\n",
    "\n",
    "plt.imshow(xr[0][120])\n",
    "plt.show()"
   ]
  }
 ],
 "metadata": {
  "kernelspec": {
   "display_name": "Python 3",
   "language": "python",
   "name": "python3"
  },
  "language_info": {
   "codemirror_mode": {
    "name": "ipython",
    "version": 3
   },
   "file_extension": ".py",
   "mimetype": "text/x-python",
   "name": "python",
   "nbconvert_exporter": "python",
   "pygments_lexer": "ipython3",
   "version": "3.8.3"
  }
 },
 "nbformat": 4,
 "nbformat_minor": 4
}
