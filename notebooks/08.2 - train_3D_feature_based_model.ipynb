{
 "cells": [
  {
   "cell_type": "code",
   "execution_count": 1,
   "metadata": {},
   "outputs": [],
   "source": [
    "import pandas as pd\n",
    "import os\n",
    "import nibabel as nib\n",
    "import pydicom as dicom\n",
    "import h5py\n",
    "import numpy as np\n",
    "import matplotlib.pyplot as plt\n",
    "from tqdm.notebook import tqdm_notebook\n",
    "import wandb\n",
    "from skimage.transform import resize\n",
    "from sklearn.metrics import roc_auc_score\n",
    "from loguru import logger\n",
    "import random\n",
    "from catboost import CatBoostClassifier\n",
    "import time\n",
    "from sklearn.linear_model import LogisticRegression\n",
    "from sklearn.pipeline import make_pipeline\n",
    "from sklearn.preprocessing import StandardScaler\n",
    "from sklearn.ensemble import RandomForestClassifier\n",
    "from sklearn.tree import DecisionTreeClassifier\n",
    "from sklearn.model_selection import GridSearchCV, RandomizedSearchCV\n",
    "from xgboost import XGBClassifier\n",
    "from boruta import BorutaPy\n",
    "from feature_engine.selection import DropConstantFeatures, DropDuplicateFeatures, SmartCorrelatedSelection, SelectByShuffling\n",
    "from lightgbm import LGBMClassifier\n",
    "from sklearn.model_selection import train_test_split\n",
    "import seaborn as sns"
   ]
  },
  {
   "cell_type": "code",
   "execution_count": 144,
   "metadata": {},
   "outputs": [],
   "source": [
    "import matplotlib as mpl\n",
    "\n",
    "mpl.use(\"pgf\")\n",
    "\n",
    "mpl.rcParams.update({\n",
    "    \"pgf.texsystem\": \"pdflatex\",\n",
    "    'font.family': 'serif',\n",
    "    'text.usetex': True,\n",
    "    'pgf.rcfonts': False,\n",
    "})\n",
    "\n",
    "mpl.rcParams['font.weight'] = \"bold\"\n",
    "\n",
    "mpl.rcParams['axes.spines.right'] = False\n",
    "mpl.rcParams['axes.spines.top'] = False\n",
    "\n",
    "mpl.rcParams['axes.titlesize'] = 24\n",
    "mpl.rcParams['axes.labelsize'] = 14\n",
    "\n",
    "mpl.rcParams['axes.linewidth'] = 3\n",
    "\n",
    "mpl.rcParams['axes.labelcolor'] = \"gray\"\n",
    "mpl.rcParams['axes.edgecolor'] = \"gainsboro\"\n",
    "\n",
    "mpl.rcParams['lines.linewidth'] = 3\n",
    "mpl.rcParams['lines.markersize'] = 10\n",
    "\n",
    "mpl.rcParams['xtick.color'] = \"darkgray\" #\"#494949ff\"\n",
    "mpl.rcParams['ytick.color'] = \"darkgray\" #\"#494949ff\"\n",
    "\n",
    "mpl.rcParams['xtick.labelsize'] = 10\n",
    "mpl.rcParams['ytick.labelsize'] = 10"
   ]
  },
  {
   "cell_type": "code",
   "execution_count": 3,
   "metadata": {},
   "outputs": [],
   "source": [
    "# torch.manual_seed(383)\n",
    "random.seed(383)\n",
    "np.random.seed(383)"
   ]
  },
  {
   "cell_type": "markdown",
   "metadata": {},
   "source": [
    "# Read data"
   ]
  },
  {
   "cell_type": "code",
   "execution_count": 4,
   "metadata": {},
   "outputs": [
    {
     "data": {
      "text/html": [
       "<div>\n",
       "<style scoped>\n",
       "    .dataframe tbody tr th:only-of-type {\n",
       "        vertical-align: middle;\n",
       "    }\n",
       "\n",
       "    .dataframe tbody tr th {\n",
       "        vertical-align: top;\n",
       "    }\n",
       "\n",
       "    .dataframe thead th {\n",
       "        text-align: right;\n",
       "    }\n",
       "</style>\n",
       "<table border=\"1\" class=\"dataframe\">\n",
       "  <thead>\n",
       "    <tr style=\"text-align: right;\">\n",
       "      <th></th>\n",
       "      <th>original_shape_Elongation_999</th>\n",
       "      <th>original_shape_Flatness_999</th>\n",
       "      <th>original_shape_LeastAxisLength_999</th>\n",
       "      <th>original_shape_MajorAxisLength_999</th>\n",
       "      <th>original_shape_Maximum2DDiameterColumn_999</th>\n",
       "      <th>original_shape_Maximum2DDiameterRow_999</th>\n",
       "      <th>original_shape_Maximum2DDiameterSlice_999</th>\n",
       "      <th>original_shape_Maximum3DDiameter_999</th>\n",
       "      <th>original_shape_MeshVolume_999</th>\n",
       "      <th>original_shape_MinorAxisLength_999</th>\n",
       "      <th>...</th>\n",
       "      <th>original_glszm_ZoneEntropy_999</th>\n",
       "      <th>original_glszm_ZonePercentage_999</th>\n",
       "      <th>original_glszm_ZoneVariance_999</th>\n",
       "      <th>original_ngtdm_Busyness_999</th>\n",
       "      <th>original_ngtdm_Coarseness_999</th>\n",
       "      <th>original_ngtdm_Complexity_999</th>\n",
       "      <th>original_ngtdm_Contrast_999</th>\n",
       "      <th>original_ngtdm_Strength_999</th>\n",
       "      <th>id</th>\n",
       "      <th>target</th>\n",
       "    </tr>\n",
       "  </thead>\n",
       "  <tbody>\n",
       "    <tr>\n",
       "      <th>0</th>\n",
       "      <td>0.671941</td>\n",
       "      <td>0.596258</td>\n",
       "      <td>35.765461</td>\n",
       "      <td>59.983238</td>\n",
       "      <td>49.244289</td>\n",
       "      <td>73.756356</td>\n",
       "      <td>78.549348</td>\n",
       "      <td>81.289606</td>\n",
       "      <td>57215.583333</td>\n",
       "      <td>40.305199</td>\n",
       "      <td>...</td>\n",
       "      <td>7.412929</td>\n",
       "      <td>0.224012</td>\n",
       "      <td>2712.620134</td>\n",
       "      <td>2.032407</td>\n",
       "      <td>0.000198</td>\n",
       "      <td>4369.255898</td>\n",
       "      <td>0.054090</td>\n",
       "      <td>0.519513</td>\n",
       "      <td>BraTS2021_00000</td>\n",
       "      <td>1</td>\n",
       "    </tr>\n",
       "    <tr>\n",
       "      <th>1</th>\n",
       "      <td>0.786725</td>\n",
       "      <td>0.739887</td>\n",
       "      <td>59.339800</td>\n",
       "      <td>80.201127</td>\n",
       "      <td>88.543774</td>\n",
       "      <td>103.043680</td>\n",
       "      <td>101.316336</td>\n",
       "      <td>103.484298</td>\n",
       "      <td>190441.125000</td>\n",
       "      <td>63.096200</td>\n",
       "      <td>...</td>\n",
       "      <td>7.229311</td>\n",
       "      <td>0.095564</td>\n",
       "      <td>76767.243664</td>\n",
       "      <td>4.320882</td>\n",
       "      <td>0.000085</td>\n",
       "      <td>3479.717131</td>\n",
       "      <td>0.016914</td>\n",
       "      <td>0.477147</td>\n",
       "      <td>BraTS2021_00002</td>\n",
       "      <td>1</td>\n",
       "    </tr>\n",
       "    <tr>\n",
       "      <th>2</th>\n",
       "      <td>0.813680</td>\n",
       "      <td>0.698377</td>\n",
       "      <td>44.600645</td>\n",
       "      <td>63.863267</td>\n",
       "      <td>62.649820</td>\n",
       "      <td>72.560320</td>\n",
       "      <td>71.847060</td>\n",
       "      <td>73.851202</td>\n",
       "      <td>99159.916667</td>\n",
       "      <td>51.964271</td>\n",
       "      <td>...</td>\n",
       "      <td>7.316799</td>\n",
       "      <td>0.204607</td>\n",
       "      <td>3104.867601</td>\n",
       "      <td>1.664162</td>\n",
       "      <td>0.000166</td>\n",
       "      <td>5939.801978</td>\n",
       "      <td>0.034956</td>\n",
       "      <td>0.578801</td>\n",
       "      <td>BraTS2021_00003</td>\n",
       "      <td>0</td>\n",
       "    </tr>\n",
       "    <tr>\n",
       "      <th>3</th>\n",
       "      <td>0.680784</td>\n",
       "      <td>0.646685</td>\n",
       "      <td>48.804745</td>\n",
       "      <td>75.469119</td>\n",
       "      <td>72.498276</td>\n",
       "      <td>81.049368</td>\n",
       "      <td>91.285267</td>\n",
       "      <td>92.956979</td>\n",
       "      <td>124691.833333</td>\n",
       "      <td>51.378194</td>\n",
       "      <td>...</td>\n",
       "      <td>7.858080</td>\n",
       "      <td>0.236675</td>\n",
       "      <td>1556.531377</td>\n",
       "      <td>1.434415</td>\n",
       "      <td>0.000167</td>\n",
       "      <td>6820.657571</td>\n",
       "      <td>0.132865</td>\n",
       "      <td>0.511573</td>\n",
       "      <td>BraTS2021_00005</td>\n",
       "      <td>1</td>\n",
       "    </tr>\n",
       "    <tr>\n",
       "      <th>4</th>\n",
       "      <td>0.810884</td>\n",
       "      <td>0.792596</td>\n",
       "      <td>54.372037</td>\n",
       "      <td>68.599966</td>\n",
       "      <td>74.148500</td>\n",
       "      <td>75.822160</td>\n",
       "      <td>80.056230</td>\n",
       "      <td>80.907354</td>\n",
       "      <td>137812.125000</td>\n",
       "      <td>55.626638</td>\n",
       "      <td>...</td>\n",
       "      <td>7.634529</td>\n",
       "      <td>0.211020</td>\n",
       "      <td>2682.742794</td>\n",
       "      <td>1.698148</td>\n",
       "      <td>0.000149</td>\n",
       "      <td>5970.246455</td>\n",
       "      <td>0.054046</td>\n",
       "      <td>0.409836</td>\n",
       "      <td>BraTS2021_00006</td>\n",
       "      <td>1</td>\n",
       "    </tr>\n",
       "  </tbody>\n",
       "</table>\n",
       "<p>5 rows × 109 columns</p>\n",
       "</div>"
      ],
      "text/plain": [
       "   original_shape_Elongation_999  original_shape_Flatness_999  \\\n",
       "0                       0.671941                     0.596258   \n",
       "1                       0.786725                     0.739887   \n",
       "2                       0.813680                     0.698377   \n",
       "3                       0.680784                     0.646685   \n",
       "4                       0.810884                     0.792596   \n",
       "\n",
       "   original_shape_LeastAxisLength_999  original_shape_MajorAxisLength_999  \\\n",
       "0                           35.765461                           59.983238   \n",
       "1                           59.339800                           80.201127   \n",
       "2                           44.600645                           63.863267   \n",
       "3                           48.804745                           75.469119   \n",
       "4                           54.372037                           68.599966   \n",
       "\n",
       "   original_shape_Maximum2DDiameterColumn_999  \\\n",
       "0                                   49.244289   \n",
       "1                                   88.543774   \n",
       "2                                   62.649820   \n",
       "3                                   72.498276   \n",
       "4                                   74.148500   \n",
       "\n",
       "   original_shape_Maximum2DDiameterRow_999  \\\n",
       "0                                73.756356   \n",
       "1                               103.043680   \n",
       "2                                72.560320   \n",
       "3                                81.049368   \n",
       "4                                75.822160   \n",
       "\n",
       "   original_shape_Maximum2DDiameterSlice_999  \\\n",
       "0                                  78.549348   \n",
       "1                                 101.316336   \n",
       "2                                  71.847060   \n",
       "3                                  91.285267   \n",
       "4                                  80.056230   \n",
       "\n",
       "   original_shape_Maximum3DDiameter_999  original_shape_MeshVolume_999  \\\n",
       "0                             81.289606                   57215.583333   \n",
       "1                            103.484298                  190441.125000   \n",
       "2                             73.851202                   99159.916667   \n",
       "3                             92.956979                  124691.833333   \n",
       "4                             80.907354                  137812.125000   \n",
       "\n",
       "   original_shape_MinorAxisLength_999  ...  original_glszm_ZoneEntropy_999  \\\n",
       "0                           40.305199  ...                        7.412929   \n",
       "1                           63.096200  ...                        7.229311   \n",
       "2                           51.964271  ...                        7.316799   \n",
       "3                           51.378194  ...                        7.858080   \n",
       "4                           55.626638  ...                        7.634529   \n",
       "\n",
       "   original_glszm_ZonePercentage_999  original_glszm_ZoneVariance_999  \\\n",
       "0                           0.224012                      2712.620134   \n",
       "1                           0.095564                     76767.243664   \n",
       "2                           0.204607                      3104.867601   \n",
       "3                           0.236675                      1556.531377   \n",
       "4                           0.211020                      2682.742794   \n",
       "\n",
       "   original_ngtdm_Busyness_999  original_ngtdm_Coarseness_999  \\\n",
       "0                     2.032407                       0.000198   \n",
       "1                     4.320882                       0.000085   \n",
       "2                     1.664162                       0.000166   \n",
       "3                     1.434415                       0.000167   \n",
       "4                     1.698148                       0.000149   \n",
       "\n",
       "   original_ngtdm_Complexity_999  original_ngtdm_Contrast_999  \\\n",
       "0                    4369.255898                     0.054090   \n",
       "1                    3479.717131                     0.016914   \n",
       "2                    5939.801978                     0.034956   \n",
       "3                    6820.657571                     0.132865   \n",
       "4                    5970.246455                     0.054046   \n",
       "\n",
       "   original_ngtdm_Strength_999               id  target  \n",
       "0                     0.519513  BraTS2021_00000       1  \n",
       "1                     0.477147  BraTS2021_00002       1  \n",
       "2                     0.578801  BraTS2021_00003       0  \n",
       "3                     0.511573  BraTS2021_00005       1  \n",
       "4                     0.409836  BraTS2021_00006       1  \n",
       "\n",
       "[5 rows x 109 columns]"
      ]
     },
     "execution_count": 4,
     "metadata": {},
     "output_type": "execute_result"
    }
   ],
   "source": [
    "df = pd.read_csv(\"Data/MGMT_FEATURES.csv\")\n",
    "# df = pd.read_csv(\"Data/MGMT_FEATURES_REAL_VALUES_ONLY.csv\")\n",
    "df.head()"
   ]
  },
  {
   "cell_type": "code",
   "execution_count": 5,
   "metadata": {},
   "outputs": [],
   "source": [
    "df = df.dropna().reset_index(drop=True)"
   ]
  },
  {
   "cell_type": "code",
   "execution_count": 6,
   "metadata": {},
   "outputs": [],
   "source": [
    "train = pd.read_csv(\"Data/TRAIN.csv\")\n",
    "# val = pd.read_csv(\"Data/VAL.csv\")\n",
    "test = pd.read_csv(\"Data/TEST.csv\")"
   ]
  },
  {
   "cell_type": "code",
   "execution_count": 7,
   "metadata": {},
   "outputs": [],
   "source": [
    "df_train = df[df[\"id\"].isin(train[\"files\"].to_list())].sample(frac=1, random_state=0).reset_index(drop=True)\n",
    "# df_val = df[df[\"id\"].isin(val[\"files\"].to_list())].sample(frac=1, random_state=0).reset_index(drop=True)\n",
    "df_test = df[df[\"id\"].isin(test[\"files\"].to_list())].sample(frac=1, random_state=0).reset_index(drop=True)"
   ]
  },
  {
   "cell_type": "code",
   "execution_count": 8,
   "metadata": {},
   "outputs": [
    {
     "data": {
      "text/html": [
       "<div>\n",
       "<style scoped>\n",
       "    .dataframe tbody tr th:only-of-type {\n",
       "        vertical-align: middle;\n",
       "    }\n",
       "\n",
       "    .dataframe tbody tr th {\n",
       "        vertical-align: top;\n",
       "    }\n",
       "\n",
       "    .dataframe thead th {\n",
       "        text-align: right;\n",
       "    }\n",
       "</style>\n",
       "<table border=\"1\" class=\"dataframe\">\n",
       "  <thead>\n",
       "    <tr style=\"text-align: right;\">\n",
       "      <th></th>\n",
       "      <th>original_shape_Elongation_999</th>\n",
       "      <th>original_shape_Flatness_999</th>\n",
       "      <th>original_shape_LeastAxisLength_999</th>\n",
       "      <th>original_shape_MajorAxisLength_999</th>\n",
       "      <th>original_shape_Maximum2DDiameterColumn_999</th>\n",
       "      <th>original_shape_Maximum2DDiameterRow_999</th>\n",
       "      <th>original_shape_Maximum2DDiameterSlice_999</th>\n",
       "      <th>original_shape_Maximum3DDiameter_999</th>\n",
       "      <th>original_shape_MeshVolume_999</th>\n",
       "      <th>original_shape_MinorAxisLength_999</th>\n",
       "      <th>...</th>\n",
       "      <th>original_glszm_ZoneEntropy_999</th>\n",
       "      <th>original_glszm_ZonePercentage_999</th>\n",
       "      <th>original_glszm_ZoneVariance_999</th>\n",
       "      <th>original_ngtdm_Busyness_999</th>\n",
       "      <th>original_ngtdm_Coarseness_999</th>\n",
       "      <th>original_ngtdm_Complexity_999</th>\n",
       "      <th>original_ngtdm_Contrast_999</th>\n",
       "      <th>original_ngtdm_Strength_999</th>\n",
       "      <th>id</th>\n",
       "      <th>target</th>\n",
       "    </tr>\n",
       "  </thead>\n",
       "  <tbody>\n",
       "    <tr>\n",
       "      <th>0</th>\n",
       "      <td>0.792231</td>\n",
       "      <td>0.609113</td>\n",
       "      <td>38.701883</td>\n",
       "      <td>63.538060</td>\n",
       "      <td>64.845971</td>\n",
       "      <td>90.801982</td>\n",
       "      <td>73.824115</td>\n",
       "      <td>104.780723</td>\n",
       "      <td>57830.250000</td>\n",
       "      <td>50.336846</td>\n",
       "      <td>...</td>\n",
       "      <td>7.276526</td>\n",
       "      <td>0.099050</td>\n",
       "      <td>10101.522225</td>\n",
       "      <td>3.181045</td>\n",
       "      <td>0.000383</td>\n",
       "      <td>891.575236</td>\n",
       "      <td>0.038163</td>\n",
       "      <td>0.355945</td>\n",
       "      <td>BraTS2021_00305</td>\n",
       "      <td>1</td>\n",
       "    </tr>\n",
       "    <tr>\n",
       "      <th>1</th>\n",
       "      <td>0.660675</td>\n",
       "      <td>0.581067</td>\n",
       "      <td>43.428165</td>\n",
       "      <td>74.738686</td>\n",
       "      <td>59.211485</td>\n",
       "      <td>89.269256</td>\n",
       "      <td>84.095184</td>\n",
       "      <td>89.425947</td>\n",
       "      <td>109124.625000</td>\n",
       "      <td>49.378015</td>\n",
       "      <td>...</td>\n",
       "      <td>7.074585</td>\n",
       "      <td>0.109578</td>\n",
       "      <td>51222.945948</td>\n",
       "      <td>2.513356</td>\n",
       "      <td>0.000165</td>\n",
       "      <td>1453.220890</td>\n",
       "      <td>0.024449</td>\n",
       "      <td>0.230353</td>\n",
       "      <td>BraTS2021_00768</td>\n",
       "      <td>1</td>\n",
       "    </tr>\n",
       "    <tr>\n",
       "      <th>2</th>\n",
       "      <td>0.759326</td>\n",
       "      <td>0.722963</td>\n",
       "      <td>45.722051</td>\n",
       "      <td>63.242551</td>\n",
       "      <td>65.391131</td>\n",
       "      <td>71.693793</td>\n",
       "      <td>70.710678</td>\n",
       "      <td>74.471471</td>\n",
       "      <td>91401.416667</td>\n",
       "      <td>48.021688</td>\n",
       "      <td>...</td>\n",
       "      <td>6.977608</td>\n",
       "      <td>0.032820</td>\n",
       "      <td>127619.005126</td>\n",
       "      <td>4.513787</td>\n",
       "      <td>0.000273</td>\n",
       "      <td>411.821295</td>\n",
       "      <td>0.019406</td>\n",
       "      <td>0.164174</td>\n",
       "      <td>BraTS2021_00120</td>\n",
       "      <td>1</td>\n",
       "    </tr>\n",
       "    <tr>\n",
       "      <th>3</th>\n",
       "      <td>0.724236</td>\n",
       "      <td>0.618222</td>\n",
       "      <td>47.966566</td>\n",
       "      <td>77.587963</td>\n",
       "      <td>90.553851</td>\n",
       "      <td>98.005102</td>\n",
       "      <td>101.212647</td>\n",
       "      <td>107.447662</td>\n",
       "      <td>102218.125000</td>\n",
       "      <td>56.191983</td>\n",
       "      <td>...</td>\n",
       "      <td>7.463089</td>\n",
       "      <td>0.119597</td>\n",
       "      <td>12538.805801</td>\n",
       "      <td>3.326229</td>\n",
       "      <td>0.000190</td>\n",
       "      <td>1365.964092</td>\n",
       "      <td>0.033810</td>\n",
       "      <td>0.217483</td>\n",
       "      <td>BraTS2021_00395</td>\n",
       "      <td>0</td>\n",
       "    </tr>\n",
       "    <tr>\n",
       "      <th>4</th>\n",
       "      <td>0.664680</td>\n",
       "      <td>0.624986</td>\n",
       "      <td>48.090662</td>\n",
       "      <td>76.946741</td>\n",
       "      <td>93.085982</td>\n",
       "      <td>65.802736</td>\n",
       "      <td>92.195445</td>\n",
       "      <td>94.074439</td>\n",
       "      <td>89080.166667</td>\n",
       "      <td>51.144952</td>\n",
       "      <td>...</td>\n",
       "      <td>6.984675</td>\n",
       "      <td>0.144062</td>\n",
       "      <td>22877.469858</td>\n",
       "      <td>3.981020</td>\n",
       "      <td>0.000116</td>\n",
       "      <td>3894.733353</td>\n",
       "      <td>0.015735</td>\n",
       "      <td>0.626619</td>\n",
       "      <td>BraTS2021_00021</td>\n",
       "      <td>0</td>\n",
       "    </tr>\n",
       "  </tbody>\n",
       "</table>\n",
       "<p>5 rows × 109 columns</p>\n",
       "</div>"
      ],
      "text/plain": [
       "   original_shape_Elongation_999  original_shape_Flatness_999  \\\n",
       "0                       0.792231                     0.609113   \n",
       "1                       0.660675                     0.581067   \n",
       "2                       0.759326                     0.722963   \n",
       "3                       0.724236                     0.618222   \n",
       "4                       0.664680                     0.624986   \n",
       "\n",
       "   original_shape_LeastAxisLength_999  original_shape_MajorAxisLength_999  \\\n",
       "0                           38.701883                           63.538060   \n",
       "1                           43.428165                           74.738686   \n",
       "2                           45.722051                           63.242551   \n",
       "3                           47.966566                           77.587963   \n",
       "4                           48.090662                           76.946741   \n",
       "\n",
       "   original_shape_Maximum2DDiameterColumn_999  \\\n",
       "0                                   64.845971   \n",
       "1                                   59.211485   \n",
       "2                                   65.391131   \n",
       "3                                   90.553851   \n",
       "4                                   93.085982   \n",
       "\n",
       "   original_shape_Maximum2DDiameterRow_999  \\\n",
       "0                                90.801982   \n",
       "1                                89.269256   \n",
       "2                                71.693793   \n",
       "3                                98.005102   \n",
       "4                                65.802736   \n",
       "\n",
       "   original_shape_Maximum2DDiameterSlice_999  \\\n",
       "0                                  73.824115   \n",
       "1                                  84.095184   \n",
       "2                                  70.710678   \n",
       "3                                 101.212647   \n",
       "4                                  92.195445   \n",
       "\n",
       "   original_shape_Maximum3DDiameter_999  original_shape_MeshVolume_999  \\\n",
       "0                            104.780723                   57830.250000   \n",
       "1                             89.425947                  109124.625000   \n",
       "2                             74.471471                   91401.416667   \n",
       "3                            107.447662                  102218.125000   \n",
       "4                             94.074439                   89080.166667   \n",
       "\n",
       "   original_shape_MinorAxisLength_999  ...  original_glszm_ZoneEntropy_999  \\\n",
       "0                           50.336846  ...                        7.276526   \n",
       "1                           49.378015  ...                        7.074585   \n",
       "2                           48.021688  ...                        6.977608   \n",
       "3                           56.191983  ...                        7.463089   \n",
       "4                           51.144952  ...                        6.984675   \n",
       "\n",
       "   original_glszm_ZonePercentage_999  original_glszm_ZoneVariance_999  \\\n",
       "0                           0.099050                     10101.522225   \n",
       "1                           0.109578                     51222.945948   \n",
       "2                           0.032820                    127619.005126   \n",
       "3                           0.119597                     12538.805801   \n",
       "4                           0.144062                     22877.469858   \n",
       "\n",
       "   original_ngtdm_Busyness_999  original_ngtdm_Coarseness_999  \\\n",
       "0                     3.181045                       0.000383   \n",
       "1                     2.513356                       0.000165   \n",
       "2                     4.513787                       0.000273   \n",
       "3                     3.326229                       0.000190   \n",
       "4                     3.981020                       0.000116   \n",
       "\n",
       "   original_ngtdm_Complexity_999  original_ngtdm_Contrast_999  \\\n",
       "0                     891.575236                     0.038163   \n",
       "1                    1453.220890                     0.024449   \n",
       "2                     411.821295                     0.019406   \n",
       "3                    1365.964092                     0.033810   \n",
       "4                    3894.733353                     0.015735   \n",
       "\n",
       "   original_ngtdm_Strength_999               id  target  \n",
       "0                     0.355945  BraTS2021_00305       1  \n",
       "1                     0.230353  BraTS2021_00768       1  \n",
       "2                     0.164174  BraTS2021_00120       1  \n",
       "3                     0.217483  BraTS2021_00395       0  \n",
       "4                     0.626619  BraTS2021_00021       0  \n",
       "\n",
       "[5 rows x 109 columns]"
      ]
     },
     "execution_count": 8,
     "metadata": {},
     "output_type": "execute_result"
    }
   ],
   "source": [
    "df_train.head()"
   ]
  },
  {
   "cell_type": "code",
   "execution_count": 9,
   "metadata": {},
   "outputs": [],
   "source": [
    "x_train = df_train.drop(columns=[\"id\", \"target\"])\n",
    "y_train = df_train[\"target\"]\n",
    "\n",
    "x_test = df_test.drop(columns=[\"id\", \"target\"])\n",
    "y_test = df_test[\"target\"]"
   ]
  },
  {
   "cell_type": "code",
   "execution_count": 10,
   "metadata": {},
   "outputs": [],
   "source": [
    "x = x_train.copy()\n",
    "y = y_train.copy()"
   ]
  },
  {
   "cell_type": "markdown",
   "metadata": {},
   "source": [
    "## LogisticRegression"
   ]
  },
  {
   "cell_type": "markdown",
   "metadata": {},
   "source": [
    "## Parâmetros *default*"
   ]
  },
  {
   "cell_type": "code",
   "execution_count": 11,
   "metadata": {},
   "outputs": [],
   "source": [
    "search_space = {}"
   ]
  },
  {
   "cell_type": "code",
   "execution_count": 12,
   "metadata": {},
   "outputs": [],
   "source": [
    "MP = make_pipeline(\n",
    "    StandardScaler(), \n",
    "    LogisticRegression(max_iter=10000)\n",
    ")"
   ]
  },
  {
   "cell_type": "code",
   "execution_count": 13,
   "metadata": {},
   "outputs": [],
   "source": [
    "%%capture\n",
    "GRD_LR = RandomizedSearchCV(MP, \n",
    "                            search_space, \n",
    "                            n_iter=1, \n",
    "                            cv=10, \n",
    "                            scoring=\"roc_auc\", \n",
    "                            verbose=3, \n",
    "                            return_train_score=True, \n",
    "                            n_jobs=-1)\n",
    "GRD_LR.fit(x, y)"
   ]
  },
  {
   "cell_type": "code",
   "execution_count": 14,
   "metadata": {},
   "outputs": [
    {
     "data": {
      "text/html": [
       "<div>\n",
       "<style scoped>\n",
       "    .dataframe tbody tr th:only-of-type {\n",
       "        vertical-align: middle;\n",
       "    }\n",
       "\n",
       "    .dataframe tbody tr th {\n",
       "        vertical-align: top;\n",
       "    }\n",
       "\n",
       "    .dataframe thead th {\n",
       "        text-align: right;\n",
       "    }\n",
       "</style>\n",
       "<table border=\"1\" class=\"dataframe\">\n",
       "  <thead>\n",
       "    <tr style=\"text-align: right;\">\n",
       "      <th></th>\n",
       "      <th>params</th>\n",
       "      <th>mean_test_score</th>\n",
       "      <th>mean_train_score</th>\n",
       "      <th>rank_test_score</th>\n",
       "    </tr>\n",
       "  </thead>\n",
       "  <tbody>\n",
       "    <tr>\n",
       "      <th>0</th>\n",
       "      <td>{}</td>\n",
       "      <td>0.569522</td>\n",
       "      <td>0.755186</td>\n",
       "      <td>1</td>\n",
       "    </tr>\n",
       "  </tbody>\n",
       "</table>\n",
       "</div>"
      ],
      "text/plain": [
       "  params  mean_test_score  mean_train_score  rank_test_score\n",
       "0     {}         0.569522          0.755186                1"
      ]
     },
     "execution_count": 14,
     "metadata": {},
     "output_type": "execute_result"
    }
   ],
   "source": [
    "pd.DataFrame(GRD_LR.cv_results_).sort_values(by=\"rank_test_score\")[[\"params\", \"mean_test_score\", \"mean_train_score\", \"rank_test_score\"]].head()"
   ]
  },
  {
   "cell_type": "code",
   "execution_count": 15,
   "metadata": {},
   "outputs": [
    {
     "name": "stdout",
     "output_type": "stream",
     "text": [
      "AUC test: 65.62%.\n"
     ]
    }
   ],
   "source": [
    "LR = make_pipeline(\n",
    "    StandardScaler(), \n",
    "    LogisticRegression(max_iter=10000)\n",
    ")\n",
    "LR.fit(x, y)\n",
    "\n",
    "auc_test = roc_auc_score(y_test, LR.predict_proba(x_test)[:, 1])\n",
    "\n",
    "print(f\"AUC test: {100*auc_test:.2f}%.\")"
   ]
  },
  {
   "cell_type": "markdown",
   "metadata": {},
   "source": [
    "## Validação *bootstrap* "
   ]
  },
  {
   "cell_type": "code",
   "execution_count": 16,
   "metadata": {},
   "outputs": [],
   "source": [
    "def eval_model(model, x, y):\n",
    "    \n",
    "    x = x.copy()\n",
    "    y = y.copy()    \n",
    "    \n",
    "    y_pred = model.predict_proba(x)[:, 1]\n",
    "    \n",
    "    return roc_auc_score(y, y_pred)"
   ]
  },
  {
   "cell_type": "code",
   "execution_count": 17,
   "metadata": {},
   "outputs": [],
   "source": [
    "def run_validations(model, x, y, n_simulations=100):\n",
    "    \n",
    "    auc_train_array = np.zeros(n_simulations)\n",
    "    auc_val_array = np.zeros(n_simulations)\n",
    "    \n",
    "    parameters_list = []\n",
    "    \n",
    "    for rs in range(n_simulations):\n",
    "        \n",
    "        x_train, x_val, y_train, y_val = train_test_split(x,\n",
    "                                                         y,\n",
    "                                                         test_size=0.25,\n",
    "                                                         random_state=rs,\n",
    "                                                         stratify=y)\n",
    "        \n",
    "        model.fit(x_train, y_train)\n",
    "        \n",
    "        auc_train = eval_model(model, x_train, y_train)\n",
    "        auc_val = eval_model(model, x_val, y_val)\n",
    "        \n",
    "        auc_train_array[rs] = auc_train\n",
    "        auc_val_array[rs] = auc_val\n",
    "                \n",
    "    df_evaluation = pd.DataFrame(data={\n",
    "        \"auc_train\": auc_train_array,\n",
    "        \"auc_val\": auc_val_array,\n",
    "        \"random_state\": range(n_simulations)\n",
    "    }).sort_values(by=\"auc_val\", ascending=False).reset_index(drop=True)\n",
    "\n",
    "    return df_evaluation\n",
    " "
   ]
  },
  {
   "cell_type": "code",
   "execution_count": 18,
   "metadata": {},
   "outputs": [],
   "source": [
    "def sample_hyperparameters_logistic_regression(x, y, n_rounds, n_simulations=100):\n",
    "    \n",
    "    results_list = []\n",
    "    \n",
    "    for n_round in range(n_rounds):\n",
    "    \n",
    "        search_space = {\n",
    "                \"C\": np.random.choice(np.logspace(-6, 2)),\n",
    "                \"penalty\": np.random.choice([\"l2\"]),\n",
    "                \"max_iter\": 10000\n",
    "         }\n",
    "        \n",
    "        MP = make_pipeline(\n",
    "                DropConstantFeatures(), \n",
    "                DropDuplicateFeatures(), \n",
    "                SmartCorrelatedSelection(selection_method=\"variance\"),\n",
    "                StandardScaler(), \n",
    "                LogisticRegression(**search_space)\n",
    "            )\n",
    "        \n",
    "        results = run_validations(MP, x, y, n_simulations)\n",
    "\n",
    "        results[\"parameters\"] = str(search_space)\n",
    "        results[\"round\"] = n_round\n",
    "        results_list.append(results)\n",
    "        \n",
    "    df_results = pd.concat(results_list).reset_index(drop=True)\n",
    "    \n",
    "    return df_results\n",
    "\n",
    "def validate_logistic_regression_in_test_set(results, x, y, x_test, y_test):\n",
    "    \n",
    "    mean_auc_val = results.groupby(\"round\")[\"auc_val\"].quantile(0.5).reset_index().sort_values(by=\"auc_val\", ascending=False).reset_index(drop=True)\n",
    "    \n",
    "    best_round = 2 #mean_auc_val[\"round\"].tolist()[0]\n",
    "        \n",
    "    parameters = eval(results[results[\"round\"] == best_round][\"parameters\"].tolist()[0])\n",
    "    \n",
    "    model = make_pipeline(\n",
    "                DropConstantFeatures(), \n",
    "                DropDuplicateFeatures(), \n",
    "                SmartCorrelatedSelection(selection_method=\"variance\"),\n",
    "                StandardScaler(), \n",
    "                LogisticRegression(**parameters)\n",
    "            )\n",
    "    \n",
    "    auc_train_array = np.zeros(100)\n",
    "    auc_val_array = np.zeros(100)\n",
    "    auc_test_array = np.zeros(100)\n",
    "    \n",
    "    for rs in range(100):\n",
    "    \n",
    "        x_train, x_val, y_train, y_val = train_test_split(x,\n",
    "                                                     y,\n",
    "                                                     test_size=0.25,\n",
    "                                                     random_state=rs,\n",
    "                                                     stratify=y)\n",
    "\n",
    "        model.fit(x_train, y_train)\n",
    "\n",
    "        auc_train = eval_model(model, x_train, y_train)\n",
    "        auc_val = eval_model(model, x_val, y_val)\n",
    "        auc_test = eval_model(model, x_test, y_test)\n",
    "        \n",
    "        auc_train_array[rs] = auc_train\n",
    "        auc_val_array[rs] = auc_val\n",
    "        auc_test_array[rs] = auc_test\n",
    "        \n",
    "    print(f\"AUC in train: {100*auc_train:.2f}\")\n",
    "    print(f\"AUC in validation: {100*auc_val:.2f}\")\n",
    "    print(f\"AUC in test: {100*auc_test:.2f}\")\n",
    "    \n",
    "    return pd.DataFrame(data={\n",
    "        \"auc_train\": auc_train_array,\n",
    "        \"auc_val\": auc_val_array,\n",
    "        \"auc_test\": auc_test_array,\n",
    "    }), model, y_test, model.predict_proba(x_test)[:, 1] "
   ]
  },
  {
   "cell_type": "code",
   "execution_count": 19,
   "metadata": {},
   "outputs": [],
   "source": [
    "%%capture\n",
    "df_results_lr = sample_hyperparameters_logistic_regression(x, y, 10, 100)"
   ]
  },
  {
   "cell_type": "code",
   "execution_count": 20,
   "metadata": {},
   "outputs": [
    {
     "data": {
      "text/html": [
       "<div>\n",
       "<style scoped>\n",
       "    .dataframe tbody tr th:only-of-type {\n",
       "        vertical-align: middle;\n",
       "    }\n",
       "\n",
       "    .dataframe tbody tr th {\n",
       "        vertical-align: top;\n",
       "    }\n",
       "\n",
       "    .dataframe thead th {\n",
       "        text-align: right;\n",
       "    }\n",
       "</style>\n",
       "<table border=\"1\" class=\"dataframe\">\n",
       "  <thead>\n",
       "    <tr style=\"text-align: right;\">\n",
       "      <th></th>\n",
       "      <th>auc_train</th>\n",
       "      <th>auc_val</th>\n",
       "      <th>random_state</th>\n",
       "      <th>parameters</th>\n",
       "      <th>round</th>\n",
       "    </tr>\n",
       "  </thead>\n",
       "  <tbody>\n",
       "    <tr>\n",
       "      <th>0</th>\n",
       "      <td>0.631762</td>\n",
       "      <td>0.676511</td>\n",
       "      <td>21</td>\n",
       "      <td>{'C': 0.005689866029018293, 'penalty': 'l2', '...</td>\n",
       "      <td>0</td>\n",
       "    </tr>\n",
       "    <tr>\n",
       "      <th>1</th>\n",
       "      <td>0.641382</td>\n",
       "      <td>0.655907</td>\n",
       "      <td>27</td>\n",
       "      <td>{'C': 0.005689866029018293, 'penalty': 'l2', '...</td>\n",
       "      <td>0</td>\n",
       "    </tr>\n",
       "    <tr>\n",
       "      <th>2</th>\n",
       "      <td>0.640275</td>\n",
       "      <td>0.648352</td>\n",
       "      <td>89</td>\n",
       "      <td>{'C': 0.005689866029018293, 'penalty': 'l2', '...</td>\n",
       "      <td>0</td>\n",
       "    </tr>\n",
       "    <tr>\n",
       "      <th>3</th>\n",
       "      <td>0.619813</td>\n",
       "      <td>0.643544</td>\n",
       "      <td>56</td>\n",
       "      <td>{'C': 0.005689866029018293, 'penalty': 'l2', '...</td>\n",
       "      <td>0</td>\n",
       "    </tr>\n",
       "    <tr>\n",
       "      <th>4</th>\n",
       "      <td>0.642565</td>\n",
       "      <td>0.640110</td>\n",
       "      <td>55</td>\n",
       "      <td>{'C': 0.005689866029018293, 'penalty': 'l2', '...</td>\n",
       "      <td>0</td>\n",
       "    </tr>\n",
       "  </tbody>\n",
       "</table>\n",
       "</div>"
      ],
      "text/plain": [
       "   auc_train   auc_val  random_state  \\\n",
       "0   0.631762  0.676511            21   \n",
       "1   0.641382  0.655907            27   \n",
       "2   0.640275  0.648352            89   \n",
       "3   0.619813  0.643544            56   \n",
       "4   0.642565  0.640110            55   \n",
       "\n",
       "                                          parameters  round  \n",
       "0  {'C': 0.005689866029018293, 'penalty': 'l2', '...      0  \n",
       "1  {'C': 0.005689866029018293, 'penalty': 'l2', '...      0  \n",
       "2  {'C': 0.005689866029018293, 'penalty': 'l2', '...      0  \n",
       "3  {'C': 0.005689866029018293, 'penalty': 'l2', '...      0  \n",
       "4  {'C': 0.005689866029018293, 'penalty': 'l2', '...      0  "
      ]
     },
     "execution_count": 20,
     "metadata": {},
     "output_type": "execute_result"
    }
   ],
   "source": [
    "df_results_lr.head()"
   ]
  },
  {
   "cell_type": "code",
   "execution_count": 21,
   "metadata": {},
   "outputs": [
    {
     "data": {
      "text/html": [
       "<div>\n",
       "<style scoped>\n",
       "    .dataframe tbody tr th:only-of-type {\n",
       "        vertical-align: middle;\n",
       "    }\n",
       "\n",
       "    .dataframe tbody tr th {\n",
       "        vertical-align: top;\n",
       "    }\n",
       "\n",
       "    .dataframe thead th {\n",
       "        text-align: right;\n",
       "    }\n",
       "</style>\n",
       "<table border=\"1\" class=\"dataframe\">\n",
       "  <thead>\n",
       "    <tr style=\"text-align: right;\">\n",
       "      <th></th>\n",
       "      <th>auc_val</th>\n",
       "      <th>auc_train</th>\n",
       "    </tr>\n",
       "    <tr>\n",
       "      <th>round</th>\n",
       "      <th></th>\n",
       "      <th></th>\n",
       "    </tr>\n",
       "  </thead>\n",
       "  <tbody>\n",
       "    <tr>\n",
       "      <th>2</th>\n",
       "      <td>0.580529</td>\n",
       "      <td>0.684157</td>\n",
       "    </tr>\n",
       "    <tr>\n",
       "      <th>3</th>\n",
       "      <td>0.577266</td>\n",
       "      <td>0.664287</td>\n",
       "    </tr>\n",
       "    <tr>\n",
       "      <th>9</th>\n",
       "      <td>0.575378</td>\n",
       "      <td>0.693415</td>\n",
       "    </tr>\n",
       "    <tr>\n",
       "      <th>0</th>\n",
       "      <td>0.565934</td>\n",
       "      <td>0.652205</td>\n",
       "    </tr>\n",
       "    <tr>\n",
       "      <th>4</th>\n",
       "      <td>0.560440</td>\n",
       "      <td>0.702901</td>\n",
       "    </tr>\n",
       "  </tbody>\n",
       "</table>\n",
       "</div>"
      ],
      "text/plain": [
       "        auc_val  auc_train\n",
       "round                     \n",
       "2      0.580529   0.684157\n",
       "3      0.577266   0.664287\n",
       "9      0.575378   0.693415\n",
       "0      0.565934   0.652205\n",
       "4      0.560440   0.702901"
      ]
     },
     "execution_count": 21,
     "metadata": {},
     "output_type": "execute_result"
    }
   ],
   "source": [
    "df_results_lr.groupby(\"round\").agg({\n",
    "    \"auc_val\": lambda x: np.quantile(x, 0.5),\n",
    "    \"auc_train\": lambda x: np.quantile(x, 0.5)\n",
    "}).sort_values(by=\"auc_val\", ascending=False).head()"
   ]
  },
  {
   "cell_type": "code",
   "execution_count": 22,
   "metadata": {},
   "outputs": [],
   "source": [
    "def set_size(width_pt, fraction=1, subplots=(1, 1)):\n",
    "    \"\"\"Set figure dimensions to sit nicely in our document.\n",
    "\n",
    "    Parameters\n",
    "    ----------\n",
    "    width_pt: float\n",
    "            Document width in points\n",
    "    fraction: float, optional\n",
    "            Fraction of the width which you wish the figure to occupy\n",
    "    subplots: array-like, optional\n",
    "            The number of rows and columns of subplots.\n",
    "    Returns\n",
    "    -------\n",
    "    fig_dim: tuple\n",
    "            Dimensions of figure in inches\n",
    "    \"\"\"\n",
    "    # Width of figure (in pts)\n",
    "    fig_width_pt = width_pt * fraction\n",
    "    # Convert from pt to inches\n",
    "    inches_per_pt = 1 / 72.27\n",
    "\n",
    "    # Golden ratio to set aesthetic figure height\n",
    "    golden_ratio = (5**.5 - 1) / 2\n",
    "\n",
    "    # Figure width in inches\n",
    "    fig_width_in = fig_width_pt * inches_per_pt\n",
    "    # Figure height in inches\n",
    "    fig_height_in = fig_width_in * golden_ratio * (subplots[0] / subplots[1])\n",
    "\n",
    "    return (fig_width_in, fig_height_in)"
   ]
  },
  {
   "cell_type": "code",
   "execution_count": 23,
   "metadata": {},
   "outputs": [
    {
     "data": {
      "text/plain": [
       "<matplotlib.legend.Legend at 0x7fca8cfcae50>"
      ]
     },
     "execution_count": 23,
     "metadata": {},
     "output_type": "execute_result"
    }
   ],
   "source": [
    "# plt.figure(figsize=set_size(545))\n",
    "\n",
    "fig, ax = plt.subplots(1, 1, figsize=set_size(445))\n",
    "\n",
    "\n",
    "# fig = sns.histplot(df_results_lr.query(\"round == 3\"), x=\"auc_val\", hue=\"round\")\n",
    "\n",
    "ax.hist(100*df_results_lr.query(\"round == 2\")[\"auc_train\"])\n",
    "ax.hist(100*df_results_lr.query(\"round == 2\")[\"auc_val\"])\n",
    "    \n",
    "plt.xlabel(\"ROC-AUC\")\n",
    "\n",
    "plt.ylabel(\"Quantidade\")\n",
    "\n",
    "plt.legend([\"Treino\", \"Validação\"])\n",
    "    \n",
    "# plt.show()\n",
    "\n",
    "# plt.savefig(\"FIG_LR.pgf\")"
   ]
  },
  {
   "cell_type": "code",
   "execution_count": 24,
   "metadata": {},
   "outputs": [
    {
     "name": "stdout",
     "output_type": "stream",
     "text": [
      "AUC in train: 68.62\n",
      "AUC in validation: 59.75\n",
      "AUC in test: 64.13\n"
     ]
    }
   ],
   "source": [
    "df_test_lr, model_lr, y_test_lr, y_pred_lr = validate_logistic_regression_in_test_set(df_results_lr, x, y, x_test, y_test)"
   ]
  },
  {
   "cell_type": "code",
   "execution_count": 25,
   "metadata": {},
   "outputs": [
    {
     "data": {
      "text/plain": [
       "auc_train    0.013244\n",
       "auc_val      0.041070\n",
       "auc_test     0.021022\n",
       "dtype: float64"
      ]
     },
     "execution_count": 25,
     "metadata": {},
     "output_type": "execute_result"
    }
   ],
   "source": [
    "df_test_lr.std()"
   ]
  },
  {
   "cell_type": "code",
   "execution_count": 26,
   "metadata": {},
   "outputs": [
    {
     "data": {
      "text/plain": [
       "<matplotlib.legend.Legend at 0x7fca9402c6d0>"
      ]
     },
     "execution_count": 26,
     "metadata": {},
     "output_type": "execute_result"
    }
   ],
   "source": [
    "df_test_lr[\"auc_train\"].plot.hist()\n",
    "df_test_lr[\"auc_val\"].plot.hist()\n",
    "df_test_lr[\"auc_test\"].plot.hist()\n",
    "\n",
    "plt.legend()"
   ]
  },
  {
   "cell_type": "markdown",
   "metadata": {},
   "source": [
    "## *Random search*"
   ]
  },
  {
   "cell_type": "code",
   "execution_count": 27,
   "metadata": {},
   "outputs": [],
   "source": [
    "search_space = {\n",
    "    \"logisticregression__C\": [0.00001, 0.0001, 0.001, 0.01, 0.1, 0.15, 0.2, 0.25, 0.3, 0.35, 0.5, 1, 2, 3, 4, 5, 10, 15, 20, 25],\n",
    "    \"logisticregression__penalty\": [\"l1\", \"l2\", \"elasticnet\", None]\n",
    "}"
   ]
  },
  {
   "cell_type": "code",
   "execution_count": 28,
   "metadata": {},
   "outputs": [],
   "source": [
    "MP = make_pipeline(\n",
    "    DropConstantFeatures(), \n",
    "    DropDuplicateFeatures(), \n",
    "    SmartCorrelatedSelection(selection_method=\"variance\"),\n",
    "    StandardScaler(), \n",
    "    LogisticRegression(max_iter=10000))"
   ]
  },
  {
   "cell_type": "code",
   "execution_count": 29,
   "metadata": {},
   "outputs": [],
   "source": [
    "# %%capture\n",
    "# GRD_LR = RandomizedSearchCV(MP, \n",
    "#                             search_space, \n",
    "#                             n_iter=500, \n",
    "#                             cv=10, \n",
    "#                             scoring=\"roc_auc\", \n",
    "#                             verbose=3, \n",
    "#                             return_train_score=True, \n",
    "#                             n_jobs=-1)\n",
    "# GRD_LR.fit(x, y)"
   ]
  },
  {
   "cell_type": "code",
   "execution_count": 30,
   "metadata": {},
   "outputs": [],
   "source": [
    "# input_cols = x.columns\n",
    "\n",
    "# selected_cols = GRD_LR.best_estimator_[:-2].transform(x).columns\n",
    "\n",
    "# print(f\"Input features: {len(input_cols)}.\")\n",
    "# print(f\"Output features: {len(selected_cols)}.\")\n",
    "# print(f\"Removed features: {len(input_cols) - len(selected_cols)}.\")"
   ]
  },
  {
   "cell_type": "code",
   "execution_count": 31,
   "metadata": {},
   "outputs": [],
   "source": [
    "# pd.DataFrame(GRD_LR.cv_results_).sort_values(by=\"rank_test_score\")[[\"params\", \"mean_test_score\", \"mean_train_score\", \"rank_test_score\"]].head()"
   ]
  },
  {
   "cell_type": "code",
   "execution_count": 32,
   "metadata": {},
   "outputs": [],
   "source": [
    "# results = pd.DataFrame(GRD_LR.cv_results_).sort_values(by=\"rank_test_score\")[[\"params\", \"mean_test_score\", \"mean_train_score\", \"rank_test_score\"]]\n",
    "# results[\"score_diff\"] = np.abs(results[\"mean_train_score\"] - results[\"mean_test_score\"])\n",
    "\n",
    "# best_idx = results[results[\"score_diff\"] < 0.25].sort_values(by=\"mean_test_score\", ascending=False).index[0]\n",
    "\n",
    "# results[results[\"score_diff\"] < 0.25].sort_values(by=\"mean_test_score\", ascending=False).head()"
   ]
  },
  {
   "cell_type": "code",
   "execution_count": 33,
   "metadata": {},
   "outputs": [],
   "source": [
    "# params = pd.DataFrame(GRD_LR.cv_results_).iloc[best_idx][\"params\"]\n",
    "# params = {k.split(\"__\")[-1]: params[k] for k in params}\n",
    "# params[\"max_iter\"] = 10000\n",
    "\n",
    "# LR = make_pipeline(\n",
    "#     DropConstantFeatures(), \n",
    "#     DropDuplicateFeatures(), \n",
    "#     SmartCorrelatedSelection(selection_method=\"variance\"),\n",
    "#     StandardScaler(), \n",
    "#     LogisticRegression(**params)\n",
    "# )\n",
    "\n",
    "# LR.fit(x, y)\n",
    "\n",
    "# auc_test = roc_auc_score(y_test, LR.predict_proba(x_test)[:, 1])\n",
    "\n",
    "# print(f\"AUC test: {100*auc_test:.2f}%.\")"
   ]
  },
  {
   "cell_type": "markdown",
   "metadata": {},
   "source": [
    "## CatBoost"
   ]
  },
  {
   "cell_type": "markdown",
   "metadata": {},
   "source": [
    "## Parâmetros *default*"
   ]
  },
  {
   "cell_type": "code",
   "execution_count": 34,
   "metadata": {},
   "outputs": [],
   "source": [
    "search_space = {}"
   ]
  },
  {
   "cell_type": "code",
   "execution_count": 35,
   "metadata": {},
   "outputs": [],
   "source": [
    "MP = make_pipeline(\n",
    "    CatBoostClassifier(verbose=False)\n",
    ")"
   ]
  },
  {
   "cell_type": "code",
   "execution_count": 36,
   "metadata": {},
   "outputs": [],
   "source": [
    "# %%capture\n",
    "# GRD_CB = RandomizedSearchCV(MP, \n",
    "#                    search_space, \n",
    "#                    n_iter=50,\n",
    "#                    scoring=\"roc_auc\", \n",
    "#                    cv=10, \n",
    "#                    verbose=3, \n",
    "#                    return_train_score=True, \n",
    "#                    n_jobs=-1)\n",
    "# GRD_CB.fit(x, y)"
   ]
  },
  {
   "cell_type": "code",
   "execution_count": 37,
   "metadata": {},
   "outputs": [],
   "source": [
    "# results = pd.DataFrame(GRD_CB.cv_results_).sort_values(by=\"rank_test_score\")[[\"params\", \"mean_test_score\", \"mean_train_score\", \"rank_test_score\"]]\n",
    "# results[\"score_diff\"] = np.abs(results[\"mean_train_score\"] - results[\"mean_test_score\"])\n",
    "\n",
    "# results.head()"
   ]
  },
  {
   "cell_type": "code",
   "execution_count": 38,
   "metadata": {},
   "outputs": [],
   "source": [
    "# params = pd.DataFrame(GRD_CB.cv_results_).iloc[0][\"params\"]\n",
    "# params = {k.split(\"__\")[-1]: params[k] for k in params}\n",
    "# params[\"verbose\"] = False\n",
    "\n",
    "# CB = CatBoostClassifier(**params)\n",
    "# CB.fit(x, y)\n",
    "\n",
    "# auc_test = roc_auc_score(y_test, CB.predict_proba(x_test)[:, 1])\n",
    "\n",
    "# print(f\"AUC test: {100*auc_test:.2f}%.\")"
   ]
  },
  {
   "cell_type": "markdown",
   "metadata": {},
   "source": [
    "## Validação *bootstrap* "
   ]
  },
  {
   "cell_type": "code",
   "execution_count": 39,
   "metadata": {},
   "outputs": [],
   "source": [
    "# def sample_hyperparameters_catboost(x, y, n_rounds, n_simulations=100):\n",
    "    \n",
    "#     results_list = []\n",
    "    \n",
    "#     for n_round in range(n_rounds):\n",
    "\n",
    "#         search_space = {\n",
    "#             \"depth\": np.random.choice([1, 2, 3, 4, 5, 6, 7, 8, 9, 10]),\n",
    "#             \"n_estimators\": np.random.choice([5, 10, 15, 20, 25, 50, 75, 100, 200, 300, 400, 500]),\n",
    "#             \"l2_leaf_reg\": np.random.choice([1, 2, 5, 10, 15, 20, 25, 50, 100, 250, 500]),\n",
    "#             \"learning_rate\": np.random.choice(list(np.logspace(-6, 0)) + [None]),\n",
    "#             \"auto_class_weights\": np.random.choice([None, \"Balanced\", \"SqrtBalanced\"]),\n",
    "#             \"boosting_type\": np.random.choice([\"Ordered\", \"Plain\"]),\n",
    "#             \"verbose\": False\n",
    "#         }\n",
    "        \n",
    "#         MP = make_pipeline(\n",
    "#                 DropConstantFeatures(), \n",
    "#                 DropDuplicateFeatures(), \n",
    "#                 SmartCorrelatedSelection(selection_method=\"variance\"),\n",
    "#                 CatBoostClassifier(**search_space)\n",
    "#             )\n",
    "        \n",
    "#         results = run_validations(MP, x, y, n_simulations)\n",
    "\n",
    "#         results[\"parameters\"] = str(search_space)\n",
    "#         results[\"round\"] = n_round\n",
    "#         results_list.append(results)\n",
    "        \n",
    "#     df_results = pd.concat(results_list).reset_index(drop=True)\n",
    "    \n",
    "#     return df_results\n",
    "\n",
    "# def validate_catboost_in_test_set(results, x, y, x_test, y_test):\n",
    "    \n",
    "#     mean_auc_val = results.groupby(\"round\")[\"auc_val\"].mean().reset_index().sort_values(by=\"auc_val\", ascending=False).reset_index(drop=True)\n",
    "    \n",
    "#     best_round = mean_auc_val[\"round\"].tolist()[0]\n",
    "        \n",
    "#     parameters = eval(results[results[\"round\"] == best_round][\"parameters\"].tolist()[0])\n",
    "    \n",
    "#     model = make_pipeline(\n",
    "#                 DropConstantFeatures(), \n",
    "#                 DropDuplicateFeatures(), \n",
    "#                 SmartCorrelatedSelection(selection_method=\"variance\"),\n",
    "#                 CatBoostClassifier(**parameters)\n",
    "#             )\n",
    "    \n",
    "#     x_train, x_val, y_train, y_val = train_test_split(x,\n",
    "#                                                  y,\n",
    "#                                                  test_size=0.25,\n",
    "#                                                  random_state=0,\n",
    "#                                                  stratify=y)\n",
    "\n",
    "#     model.fit(x_train, y_train)\n",
    "    \n",
    "#     auc_train = eval_model(model, x_train, y_train)\n",
    "#     auc_val = eval_model(model, x_val, y_val)\n",
    "#     auc_test = eval_model(model, x_test, y_test)\n",
    "        \n",
    "#     print(f\"AUC in train: {100*auc_train:.2f}\")\n",
    "#     print(f\"AUC in validation: {100*auc_val:.2f}\")\n",
    "#     print(f\"AUC in test: {100*auc_test:.2f}\")"
   ]
  },
  {
   "cell_type": "code",
   "execution_count": 40,
   "metadata": {},
   "outputs": [],
   "source": [
    "# %%capture\n",
    "# df_results_cb = sample_hyperparameters_catboost(x, y, 10, 100)"
   ]
  },
  {
   "cell_type": "code",
   "execution_count": 41,
   "metadata": {},
   "outputs": [],
   "source": [
    "# plt.figure(figsize=(25, 7.5))\n",
    "\n",
    "# sns.histplot(df_results_cb, x=\"auc_val\", hue=\"round\")\n",
    "    \n",
    "# plt.show()"
   ]
  },
  {
   "cell_type": "code",
   "execution_count": 42,
   "metadata": {},
   "outputs": [],
   "source": [
    "# df_results_cb.groupby(\"round\").agg({\n",
    "#     \"auc_val\": \"mean\",\n",
    "#     \"auc_train\": \"mean\"\n",
    "# }).sort_values(by=\"auc_val\", ascending=False).head()"
   ]
  },
  {
   "cell_type": "code",
   "execution_count": 43,
   "metadata": {},
   "outputs": [],
   "source": [
    "# validate_catboost_in_test_set(df_results_cb, x, y, x_test, y_test)"
   ]
  },
  {
   "cell_type": "markdown",
   "metadata": {},
   "source": [
    "## *Random search*"
   ]
  },
  {
   "cell_type": "code",
   "execution_count": 44,
   "metadata": {},
   "outputs": [],
   "source": [
    "# search_space = {\n",
    "#     \"catboostclassifier__depth\": [1, 2, 3, 4, 5, 6, 7, 8, 9, 10],\n",
    "# #     \"early_stopping_rounds\": [5, 10, 15, 20],\n",
    "#     \"catboostclassifier__n_estimators\": [5, 10, 15, 20, 25, 50, 75, 100, 200, 300, 400, 500],\n",
    "#     \"catboostclassifier__l2_leaf_reg\": [1, 2, 5, 10, 15, 20, 25, 50, 100, 250, 500],\n",
    "#     \"catboostclassifier__learning_rate\": list(np.logspace(-6, 0)) + [None],\n",
    "#     \"catboostclassifier__auto_class_weights\": [None, \"Balanced\", \"SqrtBalanced\"],\n",
    "#     \"catboostclassifier__boosting_type\": [\"Ordered\", \"Plain\"],\n",
    "# #     \"catboostclassifier__loss_function\": [\"AUC\", \"Logloss\"],\n",
    "# #     \"catboostclassifier__min_data_in_leaf\": [5, 10, 15, 20, 25, 30, 35, 40, 45, 100, 150, 200, None]\n",
    "# }"
   ]
  },
  {
   "cell_type": "code",
   "execution_count": 45,
   "metadata": {},
   "outputs": [],
   "source": [
    "# MP = make_pipeline(\n",
    "#     DropConstantFeatures(), \n",
    "#     DropDuplicateFeatures(), \n",
    "#     SmartCorrelatedSelection(selection_method=\"variance\"),\n",
    "# #     SelectByShuffling(estimator=LogisticRegression(max_iter=10000), scoring=\"roc_auc\", cv=3),\n",
    "#     CatBoostClassifier(verbose=False)\n",
    "# )"
   ]
  },
  {
   "cell_type": "code",
   "execution_count": 46,
   "metadata": {},
   "outputs": [],
   "source": [
    "# %%capture\n",
    "# GRD_CB = RandomizedSearchCV(MP, \n",
    "#                    search_space, \n",
    "#                    n_iter=100,\n",
    "#                    scoring=\"roc_auc\", \n",
    "#                    cv=10, \n",
    "#                    verbose=3, \n",
    "#                    return_train_score=True, \n",
    "#                    n_jobs=-1)\n",
    "# GRD_CB.fit(x, y)"
   ]
  },
  {
   "cell_type": "code",
   "execution_count": 47,
   "metadata": {},
   "outputs": [],
   "source": [
    "# results = pd.DataFrame(GRD_CB.cv_results_).sort_values(by=\"rank_test_score\")[[\"params\", \"mean_test_score\", \"mean_train_score\", \"rank_test_score\"]]\n",
    "# results[\"score_diff\"] = np.abs(results[\"mean_train_score\"] - results[\"mean_test_score\"])\n",
    "\n",
    "# best_idx = results[results[\"score_diff\"] < 0.25].sort_values(by=\"mean_test_score\", ascending=False).index[0]\n",
    "\n",
    "# results[results[\"score_diff\"] < 0.25].sort_values(by=\"mean_test_score\", ascending=False).head()"
   ]
  },
  {
   "cell_type": "code",
   "execution_count": 48,
   "metadata": {},
   "outputs": [],
   "source": [
    "# input_cols = x.columns\n",
    "\n",
    "# selected_cols = GRD_CB.best_estimator_[:-1].transform(x).columns\n",
    "\n",
    "# print(f\"Input features: {len(input_cols)}.\")\n",
    "# print(f\"Output features: {len(selected_cols)}.\")\n",
    "# print(f\"Removed features: {len(input_cols) - len(selected_cols)}.\")"
   ]
  },
  {
   "cell_type": "code",
   "execution_count": 49,
   "metadata": {},
   "outputs": [],
   "source": [
    "# params = pd.DataFrame(GRD_CB.cv_results_).iloc[best_idx][\"params\"]\n",
    "# params = {k.split(\"__\")[-1]: params[k] for k in params}\n",
    "# params[\"verbose\"] = False\n",
    "\n",
    "# CB = make_pipeline(\n",
    "#                 DropConstantFeatures(), \n",
    "#                 DropDuplicateFeatures(), \n",
    "#                 SmartCorrelatedSelection(selection_method=\"variance\"),\n",
    "#                 CatBoostClassifier(**params)\n",
    "#             )\n",
    "# CB.fit(x, y)\n",
    "\n",
    "# auc_test = roc_auc_score(y_test, CB.predict_proba(x_test)[:, 1])\n",
    "\n",
    "# print(f\"AUC test: {100*auc_test:.2f}%.\")"
   ]
  },
  {
   "cell_type": "markdown",
   "metadata": {},
   "source": [
    "# GradientBoostingClassifier"
   ]
  },
  {
   "cell_type": "code",
   "execution_count": 50,
   "metadata": {},
   "outputs": [],
   "source": [
    "search_space = {}"
   ]
  },
  {
   "cell_type": "code",
   "execution_count": 51,
   "metadata": {},
   "outputs": [],
   "source": [
    "from sklearn.ensemble import GradientBoostingClassifier"
   ]
  },
  {
   "cell_type": "code",
   "execution_count": 52,
   "metadata": {},
   "outputs": [],
   "source": [
    "MP = make_pipeline(\n",
    "    GradientBoostingClassifier()\n",
    ")"
   ]
  },
  {
   "cell_type": "code",
   "execution_count": 53,
   "metadata": {},
   "outputs": [],
   "source": [
    "%%capture\n",
    "GRD_GB = RandomizedSearchCV(MP, \n",
    "                   search_space, \n",
    "                   n_iter=1,\n",
    "                   scoring=\"roc_auc\", \n",
    "                   cv=10, \n",
    "                   verbose=3, \n",
    "                   return_train_score=True, \n",
    "                   n_jobs=-1)\n",
    "GRD_GB.fit(x, y)"
   ]
  },
  {
   "cell_type": "code",
   "execution_count": 54,
   "metadata": {},
   "outputs": [
    {
     "data": {
      "text/html": [
       "<div>\n",
       "<style scoped>\n",
       "    .dataframe tbody tr th:only-of-type {\n",
       "        vertical-align: middle;\n",
       "    }\n",
       "\n",
       "    .dataframe tbody tr th {\n",
       "        vertical-align: top;\n",
       "    }\n",
       "\n",
       "    .dataframe thead th {\n",
       "        text-align: right;\n",
       "    }\n",
       "</style>\n",
       "<table border=\"1\" class=\"dataframe\">\n",
       "  <thead>\n",
       "    <tr style=\"text-align: right;\">\n",
       "      <th></th>\n",
       "      <th>params</th>\n",
       "      <th>mean_test_score</th>\n",
       "      <th>mean_train_score</th>\n",
       "      <th>rank_test_score</th>\n",
       "      <th>score_diff</th>\n",
       "    </tr>\n",
       "  </thead>\n",
       "  <tbody>\n",
       "    <tr>\n",
       "      <th>0</th>\n",
       "      <td>{}</td>\n",
       "      <td>0.546257</td>\n",
       "      <td>1.0</td>\n",
       "      <td>1</td>\n",
       "      <td>0.453743</td>\n",
       "    </tr>\n",
       "  </tbody>\n",
       "</table>\n",
       "</div>"
      ],
      "text/plain": [
       "  params  mean_test_score  mean_train_score  rank_test_score  score_diff\n",
       "0     {}         0.546257               1.0                1    0.453743"
      ]
     },
     "execution_count": 54,
     "metadata": {},
     "output_type": "execute_result"
    }
   ],
   "source": [
    "results = pd.DataFrame(GRD_GB.cv_results_).sort_values(by=\"rank_test_score\")[[\"params\", \"mean_test_score\", \"mean_train_score\", \"rank_test_score\"]]\n",
    "results[\"score_diff\"] = np.abs(results[\"mean_train_score\"] - results[\"mean_test_score\"])\n",
    "\n",
    "results.head()"
   ]
  },
  {
   "cell_type": "code",
   "execution_count": 55,
   "metadata": {},
   "outputs": [
    {
     "name": "stdout",
     "output_type": "stream",
     "text": [
      "AUC test: 56.75%.\n"
     ]
    }
   ],
   "source": [
    "GB = GradientBoostingClassifier()\n",
    "GB.fit(x, y)\n",
    "\n",
    "auc_test = roc_auc_score(y_test, GB.predict_proba(x_test)[:, 1])\n",
    "\n",
    "print(f\"AUC test: {100*auc_test:.2f}%.\")"
   ]
  },
  {
   "cell_type": "code",
   "execution_count": 157,
   "metadata": {},
   "outputs": [],
   "source": [
    "def sample_hyperparameters_gradient_boosting(x, y, n_rounds, n_simulations=100):\n",
    "    \n",
    "    results_list = []\n",
    "    \n",
    "    for n_round in range(n_rounds):\n",
    "\n",
    "        search_space = {\n",
    "            \"max_depth\": np.random.choice([1, 2, 3, 4, 5, 6, 7, 8, 9]),\n",
    "            \"min_samples_split\": np.random.choice([2, 4, 6, 8, 10, 12, 14, 16, 18, 20, 30, 40]),\n",
    "            \"min_samples_leaf\": np.random.choice([2, 4, 6, 8, 10, 12, 14, 16, 18, 20, 30, 40]),    \n",
    "            \"n_estimators\": np.random.choice([5, 10, 15, 20, 25, 50, 75, 100, 200, 300]),\n",
    "            \"max_features\": np.random.choice([\"auto\", \"sqrt\", \"log2\"]),\n",
    "            \"validation_fraction\": 0.25,\n",
    "            \"n_iter_no_change\": 5            \n",
    "        }\n",
    "        \n",
    "        MP = make_pipeline(\n",
    "                DropConstantFeatures(), \n",
    "                DropDuplicateFeatures(), \n",
    "                SmartCorrelatedSelection(selection_method=\"variance\"),\n",
    "                GradientBoostingClassifier(**search_space)\n",
    "            )\n",
    "        \n",
    "        results = run_validations(MP, x, y, n_simulations)\n",
    "\n",
    "        results[\"parameters\"] = str(search_space)\n",
    "        results[\"round\"] = n_round\n",
    "        results_list.append(results)\n",
    "        \n",
    "    df_results = pd.concat(results_list).reset_index(drop=True)\n",
    "    \n",
    "    return df_results\n",
    "\n",
    "    \n",
    "def validate_gradient_boosting_in_test_set(results, x, y, x_test, y_test):\n",
    "    \n",
    "    mean_auc_val = results.groupby(\"round\")[\"auc_val\"].quantile(0.5).reset_index().sort_values(by=\"auc_val\", ascending=False).reset_index(drop=True)\n",
    "    \n",
    "    best_round = 14 #mean_auc_val[\"round\"].tolist()[0]\n",
    "        \n",
    "    parameters = eval(results[results[\"round\"] == best_round][\"parameters\"].tolist()[0])\n",
    "    \n",
    "    model = make_pipeline(\n",
    "                DropConstantFeatures(), \n",
    "                DropDuplicateFeatures(), \n",
    "                SmartCorrelatedSelection(selection_method=\"variance\"),\n",
    "                GradientBoostingClassifier(**parameters)\n",
    "            )\n",
    "    \n",
    "    auc_train_array = np.zeros(100)\n",
    "    auc_val_array = np.zeros(100)\n",
    "    auc_test_array = np.zeros(100)\n",
    "    \n",
    "    for rs in range(100):\n",
    "    \n",
    "        x_train, x_val, y_train, y_val = train_test_split(x,\n",
    "                                                     y,\n",
    "                                                     test_size=0.25,\n",
    "                                                     random_state=rs,\n",
    "                                                     stratify=y)\n",
    "\n",
    "        model.fit(x_train, y_train)\n",
    "\n",
    "        auc_train = eval_model(model, x_train, y_train)\n",
    "        auc_val = eval_model(model, x_val, y_val)\n",
    "        auc_test = eval_model(model, x_test, y_test)\n",
    "        \n",
    "        auc_train_array[rs] = auc_train\n",
    "        auc_val_array[rs] = auc_val\n",
    "        auc_test_array[rs] = auc_test\n",
    "        \n",
    "    print(f\"AUC in train: {100*auc_train:.2f}\")\n",
    "    print(f\"AUC in validation: {100*auc_val:.2f}\")\n",
    "    print(f\"AUC in test: {100*auc_test:.2f}\")\n",
    "    \n",
    "    return pd.DataFrame(data={\n",
    "        \"auc_train\": auc_train_array,\n",
    "        \"auc_val\": auc_val_array,\n",
    "        \"auc_test\": auc_test_array,\n",
    "    }), model, y_test, model.predict_proba(x_test)[:, 1] "
   ]
  },
  {
   "cell_type": "code",
   "execution_count": 57,
   "metadata": {},
   "outputs": [],
   "source": [
    "%%capture\n",
    "df_results_gb = sample_hyperparameters_gradient_boosting(x, y, 25, 1)"
   ]
  },
  {
   "cell_type": "code",
   "execution_count": 58,
   "metadata": {},
   "outputs": [
    {
     "data": {
      "text/html": [
       "<div>\n",
       "<style scoped>\n",
       "    .dataframe tbody tr th:only-of-type {\n",
       "        vertical-align: middle;\n",
       "    }\n",
       "\n",
       "    .dataframe tbody tr th {\n",
       "        vertical-align: top;\n",
       "    }\n",
       "\n",
       "    .dataframe thead th {\n",
       "        text-align: right;\n",
       "    }\n",
       "</style>\n",
       "<table border=\"1\" class=\"dataframe\">\n",
       "  <thead>\n",
       "    <tr style=\"text-align: right;\">\n",
       "      <th></th>\n",
       "      <th>auc_val</th>\n",
       "      <th>auc_train</th>\n",
       "    </tr>\n",
       "    <tr>\n",
       "      <th>round</th>\n",
       "      <th></th>\n",
       "      <th></th>\n",
       "    </tr>\n",
       "  </thead>\n",
       "  <tbody>\n",
       "    <tr>\n",
       "      <th>4</th>\n",
       "      <td>0.649725</td>\n",
       "      <td>0.939149</td>\n",
       "    </tr>\n",
       "    <tr>\n",
       "      <th>0</th>\n",
       "      <td>0.618475</td>\n",
       "      <td>0.799236</td>\n",
       "    </tr>\n",
       "    <tr>\n",
       "      <th>18</th>\n",
       "      <td>0.610920</td>\n",
       "      <td>0.950181</td>\n",
       "    </tr>\n",
       "    <tr>\n",
       "      <th>9</th>\n",
       "      <td>0.610062</td>\n",
       "      <td>0.799389</td>\n",
       "    </tr>\n",
       "    <tr>\n",
       "      <th>15</th>\n",
       "      <td>0.606456</td>\n",
       "      <td>0.880664</td>\n",
       "    </tr>\n",
       "    <tr>\n",
       "      <th>14</th>\n",
       "      <td>0.575378</td>\n",
       "      <td>0.777629</td>\n",
       "    </tr>\n",
       "    <tr>\n",
       "      <th>10</th>\n",
       "      <td>0.571085</td>\n",
       "      <td>0.884844</td>\n",
       "    </tr>\n",
       "    <tr>\n",
       "      <th>6</th>\n",
       "      <td>0.569712</td>\n",
       "      <td>0.826513</td>\n",
       "    </tr>\n",
       "    <tr>\n",
       "      <th>13</th>\n",
       "      <td>0.563015</td>\n",
       "      <td>0.794713</td>\n",
       "    </tr>\n",
       "    <tr>\n",
       "      <th>22</th>\n",
       "      <td>0.554087</td>\n",
       "      <td>0.902882</td>\n",
       "    </tr>\n",
       "  </tbody>\n",
       "</table>\n",
       "</div>"
      ],
      "text/plain": [
       "        auc_val  auc_train\n",
       "round                     \n",
       "4      0.649725   0.939149\n",
       "0      0.618475   0.799236\n",
       "18     0.610920   0.950181\n",
       "9      0.610062   0.799389\n",
       "15     0.606456   0.880664\n",
       "14     0.575378   0.777629\n",
       "10     0.571085   0.884844\n",
       "6      0.569712   0.826513\n",
       "13     0.563015   0.794713\n",
       "22     0.554087   0.902882"
      ]
     },
     "execution_count": 58,
     "metadata": {},
     "output_type": "execute_result"
    }
   ],
   "source": [
    "df_results_gb.groupby(\"round\").agg({\n",
    "    \"auc_val\": \"median\",\n",
    "    \"auc_train\": \"median\"\n",
    "}).sort_values(by=\"auc_val\", ascending=False).head(10)"
   ]
  },
  {
   "cell_type": "code",
   "execution_count": 59,
   "metadata": {},
   "outputs": [],
   "source": [
    "from matplotlib import rc\n",
    "rc(\"text\", usetex=False)"
   ]
  },
  {
   "cell_type": "code",
   "execution_count": 60,
   "metadata": {},
   "outputs": [],
   "source": [
    "mpl.use(\"pgf\")\n",
    "\n",
    "mpl.rcParams.update({\n",
    "    \"pgf.texsystem\": \"pdflatex\",\n",
    "    'font.family': 'serif',\n",
    "    'text.usetex': True,\n",
    "    'pgf.rcfonts': False,\n",
    "})"
   ]
  },
  {
   "cell_type": "code",
   "execution_count": 199,
   "metadata": {},
   "outputs": [
    {
     "name": "stderr",
     "output_type": "stream",
     "text": [
      "<ipython-input-199-4656cdccae2c>:3: RuntimeWarning: More than 20 figures have been opened. Figures created through the pyplot interface (`matplotlib.pyplot.figure`) are retained until explicitly closed and may consume too much memory. (To control this warning, see the rcParam `figure.max_open_warning`).\n",
      "  fig, ax = plt.subplots(1, 1, figsize=set_size(445))\n"
     ]
    }
   ],
   "source": [
    "# plt.figure(figsize=set_size(545))\n",
    "\n",
    "fig, ax = plt.subplots(1, 1, figsize=set_size(445))\n",
    "\n",
    "\n",
    "# fig = sns.histplot(df_results_lr.query(\"round == 3\"), x=\"auc_val\", hue=\"round\")\n",
    "\n",
    "ax.hist(100*df_results_gb.query(\"round == 14\")[\"auc_train\"])\n",
    "ax.hist(100*df_results_gb.query(\"round == 14\")[\"auc_val\"])\n",
    "    \n",
    "plt.xlabel(\"ROC-AUC\")\n",
    "\n",
    "plt.ylabel(\"Quantidade\")\n",
    "\n",
    "plt.legend([\"Treino\", \"Validação\"])\n",
    "    \n",
    "plt.show()\n",
    "\n",
    "plt.savefig(\"FIG_GB.pgf\")"
   ]
  },
  {
   "cell_type": "code",
   "execution_count": 158,
   "metadata": {},
   "outputs": [
    {
     "name": "stdout",
     "output_type": "stream",
     "text": [
      "AUC in train: 72.94\n",
      "AUC in validation: 58.34\n",
      "AUC in test: 53.55\n"
     ]
    }
   ],
   "source": [
    "df_test_gb, model_gb, y_test_gb, y_pred_gb = validate_gradient_boosting_in_test_set(df_results_gb, x, y, x_test, y_test)"
   ]
  },
  {
   "cell_type": "code",
   "execution_count": 159,
   "metadata": {},
   "outputs": [
    {
     "data": {
      "text/plain": [
       "auc_train    0.035013\n",
       "auc_val      0.043822\n",
       "auc_test     0.045776\n",
       "dtype: float64"
      ]
     },
     "execution_count": 159,
     "metadata": {},
     "output_type": "execute_result"
    }
   ],
   "source": [
    "df_test_gb.std()"
   ]
  },
  {
   "cell_type": "code",
   "execution_count": 64,
   "metadata": {},
   "outputs": [],
   "source": [
    "search_space = {\n",
    "    \"gradientboostingclassifier__max_depth\": [1, 2, 3, 4, 5, 6, 7, 8, 9],\n",
    "    \"gradientboostingclassifier__min_samples_split\": [2, 4, 6, 8, 10, 12, 14, 16, 18, 20, 30, 40],\n",
    "    \"gradientboostingclassifier__min_samples_leaf\": [2, 4, 6, 8, 10, 12, 14, 16, 18, 20, 30, 40],    \n",
    "    \"gradientboostingclassifier__n_estimators\": [5, 10, 15, 20, 25, 50, 75, 100, 200, 300],\n",
    "    \"gradientboostingclassifier__max_features\": [\"auto\", \"sqrt\", \"log2\"],\n",
    "    \n",
    "}"
   ]
  },
  {
   "cell_type": "code",
   "execution_count": 65,
   "metadata": {},
   "outputs": [],
   "source": [
    "# MP = make_pipeline(\n",
    "#     DropConstantFeatures(), \n",
    "#     DropDuplicateFeatures(), \n",
    "#     SmartCorrelatedSelection(selection_method=\"variance\"),\n",
    "# #     SelectByShuffling(estimator=LogisticRegression(max_iter=10000), scoring=\"roc_auc\", cv=3),\n",
    "#     GradientBoostingClassifier(validation_fraction=0.25, n_iter_no_change=5)\n",
    "# )"
   ]
  },
  {
   "cell_type": "code",
   "execution_count": 66,
   "metadata": {},
   "outputs": [],
   "source": [
    "# %%capture\n",
    "# GRD_GB = RandomizedSearchCV(MP, \n",
    "#                    search_space, \n",
    "#                    n_iter=20,\n",
    "#                    scoring=\"roc_auc\", \n",
    "#                    cv=10, \n",
    "#                    verbose=3, \n",
    "#                    return_train_score=True, \n",
    "#                    n_jobs=-1)\n",
    "# GRD_GB.fit(x, y)"
   ]
  },
  {
   "cell_type": "code",
   "execution_count": 67,
   "metadata": {},
   "outputs": [],
   "source": [
    "# results = pd.DataFrame(GRD_GB.cv_results_).sort_values(by=\"rank_test_score\")[[\"params\", \"mean_test_score\", \"mean_train_score\", \"rank_test_score\"]]\n",
    "# results[\"score_diff\"] = np.abs(results[\"mean_train_score\"] - results[\"mean_test_score\"])\n",
    "\n",
    "# best_idx = results[results[\"score_diff\"] < 0.25].sort_values(by=\"mean_test_score\", ascending=False).index[0]\n",
    "\n",
    "# results[results[\"score_diff\"] < 0.25].sort_values(by=\"mean_test_score\", ascending=False).head()"
   ]
  },
  {
   "cell_type": "code",
   "execution_count": 68,
   "metadata": {},
   "outputs": [],
   "source": [
    "# input_cols = x.columns\n",
    "\n",
    "# selected_cols = GRD_GB.best_estimator_[:-1].transform(x).columns\n",
    "\n",
    "# print(f\"Input features: {len(input_cols)}.\")\n",
    "# print(f\"Output features: {len(selected_cols)}.\")\n",
    "# print(f\"Removed features: {len(input_cols) - len(selected_cols)}.\")"
   ]
  },
  {
   "cell_type": "code",
   "execution_count": 69,
   "metadata": {},
   "outputs": [],
   "source": [
    "# params = pd.DataFrame(GRD_GB.cv_results_).iloc[best_idx][\"params\"]\n",
    "# params = {k.split(\"__\")[-1]: params[k] for k in params}\n",
    "# params[\"validation_fraction\"] = 0.25\n",
    "# params[\"n_iter_no_change\"] = 5\n",
    "\n",
    "# GBC = make_pipeline(\n",
    "#                 DropConstantFeatures(), \n",
    "#                 DropDuplicateFeatures(), \n",
    "#                 SmartCorrelatedSelection(selection_method=\"variance\"),\n",
    "#                 GradientBoostingClassifier(**params)\n",
    "#             )\n",
    "# GBC.fit(x, y)\n",
    "\n",
    "# auc_test = roc_auc_score(y_test, GBC.predict_proba(x_test)[:, 1])\n",
    "\n",
    "# print(f\"AUC test: {100*auc_test:.2f}%.\")"
   ]
  },
  {
   "cell_type": "markdown",
   "metadata": {},
   "source": [
    "# RandomForests"
   ]
  },
  {
   "cell_type": "markdown",
   "metadata": {},
   "source": [
    "## Parâmetros *default*"
   ]
  },
  {
   "cell_type": "code",
   "execution_count": 70,
   "metadata": {},
   "outputs": [],
   "source": [
    "search_space = {}"
   ]
  },
  {
   "cell_type": "code",
   "execution_count": 71,
   "metadata": {},
   "outputs": [],
   "source": [
    "MP = make_pipeline(\n",
    "    RandomForestClassifier()\n",
    ")"
   ]
  },
  {
   "cell_type": "code",
   "execution_count": 72,
   "metadata": {},
   "outputs": [],
   "source": [
    "%%capture\n",
    "GRD_RF = RandomizedSearchCV(MP, \n",
    "                   search_space, \n",
    "                   n_iter=1,\n",
    "                   scoring=\"roc_auc\", \n",
    "                   cv=10, \n",
    "                   verbose=3, \n",
    "                   return_train_score=True, \n",
    "                   n_jobs=-1)\n",
    "GRD_RF.fit(x, y)"
   ]
  },
  {
   "cell_type": "code",
   "execution_count": 73,
   "metadata": {},
   "outputs": [
    {
     "data": {
      "text/html": [
       "<div>\n",
       "<style scoped>\n",
       "    .dataframe tbody tr th:only-of-type {\n",
       "        vertical-align: middle;\n",
       "    }\n",
       "\n",
       "    .dataframe tbody tr th {\n",
       "        vertical-align: top;\n",
       "    }\n",
       "\n",
       "    .dataframe thead th {\n",
       "        text-align: right;\n",
       "    }\n",
       "</style>\n",
       "<table border=\"1\" class=\"dataframe\">\n",
       "  <thead>\n",
       "    <tr style=\"text-align: right;\">\n",
       "      <th></th>\n",
       "      <th>params</th>\n",
       "      <th>mean_test_score</th>\n",
       "      <th>mean_train_score</th>\n",
       "      <th>rank_test_score</th>\n",
       "      <th>score_diff</th>\n",
       "    </tr>\n",
       "  </thead>\n",
       "  <tbody>\n",
       "    <tr>\n",
       "      <th>0</th>\n",
       "      <td>{}</td>\n",
       "      <td>0.571607</td>\n",
       "      <td>1.0</td>\n",
       "      <td>1</td>\n",
       "      <td>0.428393</td>\n",
       "    </tr>\n",
       "  </tbody>\n",
       "</table>\n",
       "</div>"
      ],
      "text/plain": [
       "  params  mean_test_score  mean_train_score  rank_test_score  score_diff\n",
       "0     {}         0.571607               1.0                1    0.428393"
      ]
     },
     "execution_count": 73,
     "metadata": {},
     "output_type": "execute_result"
    }
   ],
   "source": [
    "results = pd.DataFrame(GRD_RF.cv_results_).sort_values(by=\"rank_test_score\")[[\"params\", \"mean_test_score\", \"mean_train_score\", \"rank_test_score\"]]\n",
    "results[\"score_diff\"] = np.abs(results[\"mean_train_score\"] - results[\"mean_test_score\"])\n",
    "\n",
    "results.head()"
   ]
  },
  {
   "cell_type": "code",
   "execution_count": 74,
   "metadata": {},
   "outputs": [
    {
     "name": "stdout",
     "output_type": "stream",
     "text": [
      "AUC test: 55.28%.\n"
     ]
    }
   ],
   "source": [
    "RF = RandomForestClassifier()\n",
    "RF.fit(x, y)\n",
    "\n",
    "auc_test = roc_auc_score(y_test, RF.predict_proba(x_test)[:, 1])\n",
    "\n",
    "print(f\"AUC test: {100*auc_test:.2f}%.\")"
   ]
  },
  {
   "cell_type": "markdown",
   "metadata": {},
   "source": [
    "## Validação *bootstrap* "
   ]
  },
  {
   "cell_type": "code",
   "execution_count": 75,
   "metadata": {},
   "outputs": [],
   "source": [
    "def sample_hyperparameters_random_forest(x, y, n_rounds, n_simulations=100):\n",
    "    \n",
    "    results_list = []\n",
    "    \n",
    "    for n_round in range(n_rounds):\n",
    "\n",
    "        search_space = {\n",
    "            \"max_depth\": np.random.choice([1, 2, 3, 4, 5, 6, 7, 8, 9]),\n",
    "            \"min_samples_split\": np.random.choice([2, 4, 6, 8, 10, 12, 14, 16, 18, 20, 30, 40]),\n",
    "            \"min_samples_leaf\": np.random.choice([2, 4, 6, 8, 10, 12, 14, 16, 18, 20, 30, 40]),    \n",
    "            \"n_estimators\": np.random.choice([5, 10, 15, 20, 25, 50, 75, 100, 200, 300]),\n",
    "            \"max_features\": np.random.choice([\"auto\", \"sqrt\", \"log2\"]),\n",
    "        }\n",
    "        \n",
    "        MP = make_pipeline(\n",
    "                DropConstantFeatures(), \n",
    "                DropDuplicateFeatures(), \n",
    "                SmartCorrelatedSelection(selection_method=\"variance\"),\n",
    "                RandomForestClassifier(**search_space)\n",
    "            )\n",
    "        \n",
    "        results = run_validations(MP, x, y, n_simulations)\n",
    "\n",
    "        results[\"parameters\"] = str(search_space)\n",
    "        results[\"round\"] = n_round\n",
    "        results_list.append(results)\n",
    "        \n",
    "    df_results = pd.concat(results_list).reset_index(drop=True)\n",
    "    \n",
    "    return df_results\n",
    "    \n",
    "def validate_random_forest_in_test_set(results, x, y, x_test, y_test):\n",
    "    \n",
    "    mean_auc_val = results.groupby(\"round\")[\"auc_val\"].quantile(0.5).reset_index().sort_values(by=\"auc_val\", ascending=False).reset_index(drop=True)\n",
    "    \n",
    "    best_round = 1 #mean_auc_val[\"round\"].tolist()[0]\n",
    "        \n",
    "    parameters = eval(results[results[\"round\"] == best_round][\"parameters\"].tolist()[0])\n",
    "    \n",
    "    model = make_pipeline(\n",
    "                DropConstantFeatures(), \n",
    "                DropDuplicateFeatures(), \n",
    "                SmartCorrelatedSelection(selection_method=\"variance\"),\n",
    "                RandomForestClassifier(**parameters)\n",
    "            )\n",
    "    \n",
    "    auc_train_array = np.zeros(100)\n",
    "    auc_val_array = np.zeros(100)\n",
    "    auc_test_array = np.zeros(100)\n",
    "    \n",
    "    for rs in range(100):\n",
    "    \n",
    "        x_train, x_val, y_train, y_val = train_test_split(x,\n",
    "                                                     y,\n",
    "                                                     test_size=0.25,\n",
    "                                                     random_state=rs,\n",
    "                                                     stratify=y)\n",
    "\n",
    "        model.fit(x_train, y_train)\n",
    "\n",
    "        auc_train = eval_model(model, x_train, y_train)\n",
    "        auc_val = eval_model(model, x_val, y_val)\n",
    "        auc_test = eval_model(model, x_test, y_test)\n",
    "        \n",
    "        auc_train_array[rs] = auc_train\n",
    "        auc_val_array[rs] = auc_val\n",
    "        auc_test_array[rs] = auc_test\n",
    "        \n",
    "    print(f\"AUC in train: {100*auc_train:.2f}\")\n",
    "    print(f\"AUC in validation: {100*auc_val:.2f}\")\n",
    "    print(f\"AUC in test: {100*auc_test:.2f}\")\n",
    "    \n",
    "    return pd.DataFrame(data={\n",
    "        \"auc_train\": auc_train_array,\n",
    "        \"auc_val\": auc_val_array,\n",
    "        \"auc_test\": auc_test_array,\n",
    "    }), model, y_test, model.predict_proba(x_test)[:, 1] "
   ]
  },
  {
   "cell_type": "code",
   "execution_count": 76,
   "metadata": {},
   "outputs": [],
   "source": [
    "%%capture\n",
    "df_results_rf = sample_hyperparameters_random_forest(x, y, 25, 100)"
   ]
  },
  {
   "cell_type": "code",
   "execution_count": 77,
   "metadata": {},
   "outputs": [
    {
     "data": {
      "text/html": [
       "<div>\n",
       "<style scoped>\n",
       "    .dataframe tbody tr th:only-of-type {\n",
       "        vertical-align: middle;\n",
       "    }\n",
       "\n",
       "    .dataframe tbody tr th {\n",
       "        vertical-align: top;\n",
       "    }\n",
       "\n",
       "    .dataframe thead th {\n",
       "        text-align: right;\n",
       "    }\n",
       "</style>\n",
       "<table border=\"1\" class=\"dataframe\">\n",
       "  <thead>\n",
       "    <tr style=\"text-align: right;\">\n",
       "      <th></th>\n",
       "      <th>auc_train</th>\n",
       "      <th>auc_val</th>\n",
       "      <th>random_state</th>\n",
       "      <th>parameters</th>\n",
       "      <th>round</th>\n",
       "    </tr>\n",
       "  </thead>\n",
       "  <tbody>\n",
       "    <tr>\n",
       "      <th>0</th>\n",
       "      <td>0.775282</td>\n",
       "      <td>0.689045</td>\n",
       "      <td>97</td>\n",
       "      <td>{'max_depth': 3, 'min_samples_split': 8, 'min_...</td>\n",
       "      <td>0</td>\n",
       "    </tr>\n",
       "    <tr>\n",
       "      <th>1</th>\n",
       "      <td>0.760584</td>\n",
       "      <td>0.645776</td>\n",
       "      <td>54</td>\n",
       "      <td>{'max_depth': 3, 'min_samples_split': 8, 'min_...</td>\n",
       "      <td>0</td>\n",
       "    </tr>\n",
       "    <tr>\n",
       "      <th>2</th>\n",
       "      <td>0.751727</td>\n",
       "      <td>0.637363</td>\n",
       "      <td>12</td>\n",
       "      <td>{'max_depth': 3, 'min_samples_split': 8, 'min_...</td>\n",
       "      <td>0</td>\n",
       "    </tr>\n",
       "    <tr>\n",
       "      <th>3</th>\n",
       "      <td>0.757759</td>\n",
       "      <td>0.630323</td>\n",
       "      <td>67</td>\n",
       "      <td>{'max_depth': 3, 'min_samples_split': 8, 'min_...</td>\n",
       "      <td>0</td>\n",
       "    </tr>\n",
       "    <tr>\n",
       "      <th>4</th>\n",
       "      <td>0.764383</td>\n",
       "      <td>0.616930</td>\n",
       "      <td>58</td>\n",
       "      <td>{'max_depth': 3, 'min_samples_split': 8, 'min_...</td>\n",
       "      <td>0</td>\n",
       "    </tr>\n",
       "  </tbody>\n",
       "</table>\n",
       "</div>"
      ],
      "text/plain": [
       "   auc_train   auc_val  random_state  \\\n",
       "0   0.775282  0.689045            97   \n",
       "1   0.760584  0.645776            54   \n",
       "2   0.751727  0.637363            12   \n",
       "3   0.757759  0.630323            67   \n",
       "4   0.764383  0.616930            58   \n",
       "\n",
       "                                          parameters  round  \n",
       "0  {'max_depth': 3, 'min_samples_split': 8, 'min_...      0  \n",
       "1  {'max_depth': 3, 'min_samples_split': 8, 'min_...      0  \n",
       "2  {'max_depth': 3, 'min_samples_split': 8, 'min_...      0  \n",
       "3  {'max_depth': 3, 'min_samples_split': 8, 'min_...      0  \n",
       "4  {'max_depth': 3, 'min_samples_split': 8, 'min_...      0  "
      ]
     },
     "execution_count": 77,
     "metadata": {},
     "output_type": "execute_result"
    }
   ],
   "source": [
    "df_results_rf.head()"
   ]
  },
  {
   "cell_type": "code",
   "execution_count": 78,
   "metadata": {},
   "outputs": [
    {
     "data": {
      "text/html": [
       "<div>\n",
       "<style scoped>\n",
       "    .dataframe tbody tr th:only-of-type {\n",
       "        vertical-align: middle;\n",
       "    }\n",
       "\n",
       "    .dataframe tbody tr th {\n",
       "        vertical-align: top;\n",
       "    }\n",
       "\n",
       "    .dataframe thead th {\n",
       "        text-align: right;\n",
       "    }\n",
       "</style>\n",
       "<table border=\"1\" class=\"dataframe\">\n",
       "  <thead>\n",
       "    <tr style=\"text-align: right;\">\n",
       "      <th></th>\n",
       "      <th>auc_val</th>\n",
       "      <th>auc_train</th>\n",
       "    </tr>\n",
       "    <tr>\n",
       "      <th>round</th>\n",
       "      <th></th>\n",
       "      <th></th>\n",
       "    </tr>\n",
       "  </thead>\n",
       "  <tbody>\n",
       "    <tr>\n",
       "      <th>22</th>\n",
       "      <td>0.564083</td>\n",
       "      <td>0.975735</td>\n",
       "    </tr>\n",
       "    <tr>\n",
       "      <th>8</th>\n",
       "      <td>0.561487</td>\n",
       "      <td>0.944592</td>\n",
       "    </tr>\n",
       "    <tr>\n",
       "      <th>15</th>\n",
       "      <td>0.561027</td>\n",
       "      <td>0.986703</td>\n",
       "    </tr>\n",
       "    <tr>\n",
       "      <th>20</th>\n",
       "      <td>0.558255</td>\n",
       "      <td>0.966585</td>\n",
       "    </tr>\n",
       "    <tr>\n",
       "      <th>3</th>\n",
       "      <td>0.557950</td>\n",
       "      <td>0.871699</td>\n",
       "    </tr>\n",
       "    <tr>\n",
       "      <th>12</th>\n",
       "      <td>0.557874</td>\n",
       "      <td>0.911183</td>\n",
       "    </tr>\n",
       "    <tr>\n",
       "      <th>24</th>\n",
       "      <td>0.557356</td>\n",
       "      <td>0.903890</td>\n",
       "    </tr>\n",
       "    <tr>\n",
       "      <th>11</th>\n",
       "      <td>0.557059</td>\n",
       "      <td>0.871974</td>\n",
       "    </tr>\n",
       "    <tr>\n",
       "      <th>23</th>\n",
       "      <td>0.556497</td>\n",
       "      <td>0.850525</td>\n",
       "    </tr>\n",
       "    <tr>\n",
       "      <th>19</th>\n",
       "      <td>0.555021</td>\n",
       "      <td>0.876013</td>\n",
       "    </tr>\n",
       "    <tr>\n",
       "      <th>1</th>\n",
       "      <td>0.554873</td>\n",
       "      <td>0.763845</td>\n",
       "    </tr>\n",
       "    <tr>\n",
       "      <th>9</th>\n",
       "      <td>0.554701</td>\n",
       "      <td>0.854305</td>\n",
       "    </tr>\n",
       "    <tr>\n",
       "      <th>10</th>\n",
       "      <td>0.554323</td>\n",
       "      <td>0.911897</td>\n",
       "    </tr>\n",
       "    <tr>\n",
       "      <th>14</th>\n",
       "      <td>0.547055</td>\n",
       "      <td>0.903917</td>\n",
       "    </tr>\n",
       "    <tr>\n",
       "      <th>16</th>\n",
       "      <td>0.546600</td>\n",
       "      <td>0.799819</td>\n",
       "    </tr>\n",
       "    <tr>\n",
       "      <th>7</th>\n",
       "      <td>0.546181</td>\n",
       "      <td>0.782054</td>\n",
       "    </tr>\n",
       "    <tr>\n",
       "      <th>2</th>\n",
       "      <td>0.546126</td>\n",
       "      <td>0.829003</td>\n",
       "    </tr>\n",
       "    <tr>\n",
       "      <th>0</th>\n",
       "      <td>0.545216</td>\n",
       "      <td>0.770319</td>\n",
       "    </tr>\n",
       "    <tr>\n",
       "      <th>6</th>\n",
       "      <td>0.544543</td>\n",
       "      <td>0.806034</td>\n",
       "    </tr>\n",
       "    <tr>\n",
       "      <th>5</th>\n",
       "      <td>0.544069</td>\n",
       "      <td>0.721003</td>\n",
       "    </tr>\n",
       "    <tr>\n",
       "      <th>18</th>\n",
       "      <td>0.533870</td>\n",
       "      <td>0.721304</td>\n",
       "    </tr>\n",
       "    <tr>\n",
       "      <th>17</th>\n",
       "      <td>0.528886</td>\n",
       "      <td>0.782419</td>\n",
       "    </tr>\n",
       "    <tr>\n",
       "      <th>13</th>\n",
       "      <td>0.524840</td>\n",
       "      <td>0.678052</td>\n",
       "    </tr>\n",
       "    <tr>\n",
       "      <th>21</th>\n",
       "      <td>0.520033</td>\n",
       "      <td>0.678213</td>\n",
       "    </tr>\n",
       "    <tr>\n",
       "      <th>4</th>\n",
       "      <td>0.515685</td>\n",
       "      <td>0.660772</td>\n",
       "    </tr>\n",
       "  </tbody>\n",
       "</table>\n",
       "</div>"
      ],
      "text/plain": [
       "        auc_val  auc_train\n",
       "round                     \n",
       "22     0.564083   0.975735\n",
       "8      0.561487   0.944592\n",
       "15     0.561027   0.986703\n",
       "20     0.558255   0.966585\n",
       "3      0.557950   0.871699\n",
       "12     0.557874   0.911183\n",
       "24     0.557356   0.903890\n",
       "11     0.557059   0.871974\n",
       "23     0.556497   0.850525\n",
       "19     0.555021   0.876013\n",
       "1      0.554873   0.763845\n",
       "9      0.554701   0.854305\n",
       "10     0.554323   0.911897\n",
       "14     0.547055   0.903917\n",
       "16     0.546600   0.799819\n",
       "7      0.546181   0.782054\n",
       "2      0.546126   0.829003\n",
       "0      0.545216   0.770319\n",
       "6      0.544543   0.806034\n",
       "5      0.544069   0.721003\n",
       "18     0.533870   0.721304\n",
       "17     0.528886   0.782419\n",
       "13     0.524840   0.678052\n",
       "21     0.520033   0.678213\n",
       "4      0.515685   0.660772"
      ]
     },
     "execution_count": 78,
     "metadata": {},
     "output_type": "execute_result"
    }
   ],
   "source": [
    "df_results_rf.groupby(\"round\").agg({\n",
    "    \"auc_val\": \"mean\",\n",
    "    \"auc_train\": \"mean\"\n",
    "}).sort_values(by=\"auc_val\", ascending=False).head(25)"
   ]
  },
  {
   "cell_type": "code",
   "execution_count": 208,
   "metadata": {},
   "outputs": [],
   "source": [
    "# # plt.figure(figsize=set_size(545))\n",
    "\n",
    "# fig, ax = plt.subplots(1, 1, figsize=set_size(445))\n",
    "\n",
    "\n",
    "# # fig = sns.histplot(df_results_lr.query(\"round == 3\"), x=\"auc_val\", hue=\"round\")\n",
    "\n",
    "# ax.hist(100*df_results_rf.query(\"round == 1\")[\"auc_train\"])\n",
    "# ax.hist(100*df_results_rf.query(\"round == 1\")[\"auc_val\"])\n",
    "    \n",
    "# plt.xlabel(\"ROC-AUC\")\n",
    "\n",
    "# plt.ylabel(\"Quantidade\")\n",
    "\n",
    "# plt.legend([\"Treino\", \"Validação\"])\n",
    "    \n",
    "# plt.show()\n",
    "\n",
    "# plt.savefig(\"FIG_RF.pgf\")"
   ]
  },
  {
   "cell_type": "code",
   "execution_count": 209,
   "metadata": {},
   "outputs": [],
   "source": [
    "# fig"
   ]
  },
  {
   "cell_type": "code",
   "execution_count": 80,
   "metadata": {},
   "outputs": [
    {
     "name": "stdout",
     "output_type": "stream",
     "text": [
      "AUC in train: 75.00\n",
      "AUC in validation: 57.86\n",
      "AUC in test: 53.24\n"
     ]
    }
   ],
   "source": [
    "df_test_rf, model_rf, y_test_rf, y_pred_rf = validate_random_forest_in_test_set(df_results_rf, x, y, x_test, y_test)"
   ]
  },
  {
   "cell_type": "code",
   "execution_count": 81,
   "metadata": {},
   "outputs": [
    {
     "data": {
      "text/plain": [
       "auc_train    0.013899\n",
       "auc_val      0.047020\n",
       "auc_test     0.046990\n",
       "dtype: float64"
      ]
     },
     "execution_count": 81,
     "metadata": {},
     "output_type": "execute_result"
    }
   ],
   "source": [
    "df_test_rf.std()"
   ]
  },
  {
   "cell_type": "markdown",
   "metadata": {},
   "source": [
    "## *Random search*"
   ]
  },
  {
   "cell_type": "code",
   "execution_count": 82,
   "metadata": {},
   "outputs": [],
   "source": [
    "# search_space = {\n",
    "#     \"randomforestclassifier__max_depth\": [1, 2, 3, 4, 5, 6, 7, 8, 9],\n",
    "#     \"randomforestclassifier__min_samples_split\": [2, 4, 6, 8, 10, 12, 14, 16, 18, 20, 30, 40],\n",
    "#     \"randomforestclassifier__min_samples_leaf\": [2, 4, 6, 8, 10, 12, 14, 16, 18, 20, 30, 40],    \n",
    "#     \"randomforestclassifier__n_estimators\": [5, 10, 15, 20, 25, 50, 75, 100, 200, 300],\n",
    "#     \"randomforestclassifier__max_features\": [\"auto\", \"sqrt\", \"log2\"],\n",
    "# }"
   ]
  },
  {
   "cell_type": "code",
   "execution_count": 83,
   "metadata": {},
   "outputs": [],
   "source": [
    "# MP = make_pipeline(\n",
    "#     DropConstantFeatures(), \n",
    "#     DropDuplicateFeatures(), \n",
    "#     SmartCorrelatedSelection(selection_method=\"variance\"),\n",
    "# #     SelectByShuffling(estimator=LogisticRegression(max_iter=10000), scoring=\"roc_auc\", cv=3),\n",
    "#     RandomForestClassifier()\n",
    "# )"
   ]
  },
  {
   "cell_type": "code",
   "execution_count": 84,
   "metadata": {},
   "outputs": [],
   "source": [
    "# %%capture\n",
    "# GRD_RF = RandomizedSearchCV(MP, \n",
    "#                    search_space, \n",
    "#                    n_iter=100,\n",
    "#                    scoring=\"roc_auc\", \n",
    "#                    cv=10, \n",
    "#                    verbose=3, \n",
    "#                    return_train_score=True, \n",
    "#                    n_jobs=-1)\n",
    "# GRD_RF.fit(x, y)"
   ]
  },
  {
   "cell_type": "code",
   "execution_count": 85,
   "metadata": {},
   "outputs": [],
   "source": [
    "# results = pd.DataFrame(GRD_RF.cv_results_).sort_values(by=\"rank_test_score\")[[\"params\", \"mean_test_score\", \"mean_train_score\", \"rank_test_score\"]]\n",
    "# results[\"score_diff\"] = np.abs(results[\"mean_train_score\"] - results[\"mean_test_score\"])\n",
    "\n",
    "# best_idx = results[results[\"score_diff\"] < 0.25].sort_values(by=\"mean_test_score\", ascending=False).index[0]\n",
    "\n",
    "# results[results[\"score_diff\"] < 0.25].sort_values(by=\"mean_test_score\", ascending=False).head()"
   ]
  },
  {
   "cell_type": "code",
   "execution_count": 86,
   "metadata": {},
   "outputs": [],
   "source": [
    "# input_cols = x.columns\n",
    "\n",
    "# selected_cols = GRD_RF.best_estimator_[:-1].transform(x).columns\n",
    "\n",
    "# print(f\"Input features: {len(input_cols)}.\")\n",
    "# print(f\"Output features: {len(selected_cols)}.\")\n",
    "# print(f\"Removed features: {len(input_cols) - len(selected_cols)}.\")"
   ]
  },
  {
   "cell_type": "code",
   "execution_count": 87,
   "metadata": {},
   "outputs": [],
   "source": [
    "# params = pd.DataFrame(GRD_RF.cv_results_).iloc[best_idx][\"params\"]\n",
    "# params = {k.split(\"__\")[-1]: params[k] for k in params}\n",
    "# # params[\"verbose\"] = False\n",
    "\n",
    "# RF = make_pipeline(\n",
    "#                 DropConstantFeatures(), \n",
    "#                 DropDuplicateFeatures(), \n",
    "#                 SmartCorrelatedSelection(selection_method=\"variance\"),\n",
    "#                 RandomForestClassifier(**params)\n",
    "#             )\n",
    "# RF.fit(x, y)\n",
    "\n",
    "# auc_test = roc_auc_score(y_test, RF.predict_proba(x_test)[:, 1])\n",
    "\n",
    "# print(f\"AUC test: {100*auc_test:.2f}%.\")"
   ]
  },
  {
   "cell_type": "markdown",
   "metadata": {},
   "source": [
    "# DecisionTree"
   ]
  },
  {
   "cell_type": "markdown",
   "metadata": {},
   "source": [
    "## Parâmetros *default*"
   ]
  },
  {
   "cell_type": "code",
   "execution_count": 88,
   "metadata": {},
   "outputs": [],
   "source": [
    "search_space = {}"
   ]
  },
  {
   "cell_type": "code",
   "execution_count": 89,
   "metadata": {},
   "outputs": [],
   "source": [
    "# MP = make_pipeline(\n",
    "#     DecisionTreeClassifier()\n",
    "# )"
   ]
  },
  {
   "cell_type": "code",
   "execution_count": 90,
   "metadata": {},
   "outputs": [],
   "source": [
    "# %%capture\n",
    "# GRD_DT = RandomizedSearchCV(MP, \n",
    "#                    search_space, \n",
    "#                    n_iter=1,\n",
    "#                    scoring=\"roc_auc\", \n",
    "#                    cv=10, \n",
    "#                    verbose=3, \n",
    "#                    return_train_score=True, \n",
    "#                    n_jobs=-1)\n",
    "# GRD_DT.fit(x, y)"
   ]
  },
  {
   "cell_type": "code",
   "execution_count": 91,
   "metadata": {},
   "outputs": [],
   "source": [
    "# results = pd.DataFrame(GRD_DT.cv_results_).sort_values(by=\"rank_test_score\")[[\"params\", \"mean_test_score\", \"mean_train_score\", \"rank_test_score\"]]\n",
    "# results[\"score_diff\"] = np.abs(results[\"mean_train_score\"] - results[\"mean_test_score\"])\n",
    "\n",
    "# results.head()"
   ]
  },
  {
   "cell_type": "code",
   "execution_count": 92,
   "metadata": {},
   "outputs": [],
   "source": [
    "# DT = DecisionTreeClassifier()\n",
    "# DT.fit(x, y)\n",
    "\n",
    "# auc_test = roc_auc_score(y_test, DT.predict_proba(x_test)[:, 1])\n",
    "\n",
    "# print(f\"AUC test: {100*auc_test:.2f}%.\")"
   ]
  },
  {
   "cell_type": "markdown",
   "metadata": {},
   "source": [
    "## Validação *bootstrap* "
   ]
  },
  {
   "cell_type": "code",
   "execution_count": 93,
   "metadata": {},
   "outputs": [],
   "source": [
    "# def sample_hyperparameters_decision_tree(x, y, n_rounds, n_simulations=100):\n",
    "    \n",
    "#     results_list = []\n",
    "    \n",
    "#     for n_round in range(n_rounds):\n",
    "\n",
    "#         search_space = {\n",
    "#                 \"max_depth\": np.random.choice([1, 2, 3, 4, 5, 6]),\n",
    "#                 \"min_samples_split\": np.random.choice([2, 4, 6, 8, 10, 12, 14, 16, 18, 20, 30, 40]),\n",
    "#                 \"min_samples_leaf\": np.random.choice([2, 4, 6, 8, 10, 12, 14, 16, 18, 20, 30, 40]),    \n",
    "#                 \"max_features\": np.random.choice([\"sqrt\", \"log2\"]),\n",
    "#                 \"random_state\": np.random.choice([0, 1, 2, 3, 4, 5, 6]),\n",
    "#                 \"criterion\": np.random.choice([\"gini\", \"entropy\"])\n",
    "#         }\n",
    "        \n",
    "#         MP = make_pipeline(\n",
    "#                 DropConstantFeatures(), \n",
    "#                 DropDuplicateFeatures(), \n",
    "#                 SmartCorrelatedSelection(selection_method=\"variance\"),\n",
    "#                 DecisionTreeClassifier(**search_space)\n",
    "#             )\n",
    "        \n",
    "#         results = run_validations(MP, x, y, n_simulations)\n",
    "\n",
    "#         results[\"parameters\"] = str(search_space)\n",
    "#         results[\"round\"] = n_round\n",
    "#         results_list.append(results)\n",
    "        \n",
    "#     df_results = pd.concat(results_list).reset_index(drop=True)\n",
    "    \n",
    "#     return df_results\n",
    "\n",
    "# def validate_decision_tree_in_test_set(results, x, y, x_test, y_test):\n",
    "    \n",
    "#     mean_auc_val = results.groupby(\"round\")[\"auc_val\"].median().reset_index().sort_values(by=\"auc_val\", ascending=False).reset_index(drop=True)\n",
    "    \n",
    "#     best_round = mean_auc_val[\"round\"].tolist()[0]\n",
    "        \n",
    "#     parameters = eval(results[results[\"round\"] == best_round][\"parameters\"].tolist()[0])\n",
    "    \n",
    "#     model = make_pipeline(\n",
    "#                 DropConstantFeatures(), \n",
    "#                 DropDuplicateFeatures(), \n",
    "#                 SmartCorrelatedSelection(selection_method=\"variance\"),\n",
    "#                 DecisionTreeClassifier(**parameters)\n",
    "#             )\n",
    "    \n",
    "#     x_train, x_val, y_train, y_val = train_test_split(x,\n",
    "#                                                  y,\n",
    "#                                                  test_size=0.25,\n",
    "#                                                  random_state=0,\n",
    "#                                                  stratify=y)\n",
    "\n",
    "#     model.fit(x_train, y_train)\n",
    "    \n",
    "#     auc_train = eval_model(model, x_train, y_train)\n",
    "#     auc_val = eval_model(model, x_val, y_val)\n",
    "#     auc_test = eval_model(model, x_test, y_test)\n",
    "        \n",
    "#     print(f\"AUC in train: {100*auc_train:.2f}\")\n",
    "#     print(f\"AUC in validation: {100*auc_val:.2f}\")\n",
    "#     print(f\"AUC in test: {100*auc_test:.2f}\")"
   ]
  },
  {
   "cell_type": "code",
   "execution_count": 94,
   "metadata": {},
   "outputs": [],
   "source": [
    "# %%capture\n",
    "# df_results_dt = sample_hyperparameters_decision_tree(x, y, 50, 100)"
   ]
  },
  {
   "cell_type": "code",
   "execution_count": 95,
   "metadata": {},
   "outputs": [],
   "source": [
    "# plt.figure(figsize=(25, 7.5))\n",
    "\n",
    "# sns.histplot(df_results_dt, x=\"auc_val\", hue=\"round\")\n",
    "    \n",
    "# plt.show()"
   ]
  },
  {
   "cell_type": "code",
   "execution_count": 96,
   "metadata": {},
   "outputs": [],
   "source": [
    "# df_results_dt.groupby(\"round\").agg({\n",
    "#     \"auc_val\": \"median\",\n",
    "#     \"auc_train\": \"median\"\n",
    "# }).sort_values(by=\"auc_val\", ascending=False).head()"
   ]
  },
  {
   "cell_type": "code",
   "execution_count": 97,
   "metadata": {},
   "outputs": [],
   "source": [
    "# validate_decision_tree_in_test_set(df_results_dt, x, y, x_test, y_test)"
   ]
  },
  {
   "cell_type": "markdown",
   "metadata": {},
   "source": [
    "## *Random search*"
   ]
  },
  {
   "cell_type": "code",
   "execution_count": 98,
   "metadata": {},
   "outputs": [],
   "source": [
    "# search_space = {\n",
    "#     \"decisiontreeclassifier__max_depth\": [1, 2, 3, 4, 5, 6],\n",
    "#     \"decisiontreeclassifier__min_samples_split\": [2, 4, 6, 8, 10, 12, 14, 16, 18, 20, 30, 40],\n",
    "#     \"decisiontreeclassifier__min_samples_leaf\": [2, 4, 6, 8, 10, 12, 14, 16, 18, 20, 30, 40],    \n",
    "#     \"decisiontreeclassifier__max_features\": [\"auto\", \"sqrt\", \"log2\"],\n",
    "#     \"decisiontreeclassifier__random_state\": [0, 1, 2, 3, 4, 5, 6],\n",
    "#     \"decisiontreeclassifier__criterion\": [\"gini\", \"entropy\"]\n",
    "# }"
   ]
  },
  {
   "cell_type": "code",
   "execution_count": 99,
   "metadata": {},
   "outputs": [],
   "source": [
    "# MP = make_pipeline(\n",
    "#     DropConstantFeatures(), \n",
    "#     DropDuplicateFeatures(), \n",
    "#     SmartCorrelatedSelection(selection_method=\"variance\"),\n",
    "# #     SelectByShuffling(estimator=LogisticRegression(max_iter=10000), scoring=\"roc_auc\", cv=3),\n",
    "#     DecisionTreeClassifier()\n",
    "# )"
   ]
  },
  {
   "cell_type": "code",
   "execution_count": 100,
   "metadata": {},
   "outputs": [],
   "source": [
    "# %%capture\n",
    "# GRD_DT = RandomizedSearchCV(MP, \n",
    "#                    search_space, \n",
    "#                    n_iter=100,\n",
    "#                    scoring=\"roc_auc\", \n",
    "#                    cv=10, \n",
    "#                    verbose=3, \n",
    "#                    return_train_score=True, \n",
    "#                    n_jobs=-1)\n",
    "# GRD_DT.fit(x, y)"
   ]
  },
  {
   "cell_type": "code",
   "execution_count": 101,
   "metadata": {},
   "outputs": [],
   "source": [
    "# results = pd.DataFrame(GRD_DT.cv_results_).sort_values(by=\"rank_test_score\")[[\"params\", \"mean_test_score\", \"mean_train_score\", \"rank_test_score\"]]\n",
    "# results[\"score_diff\"] = np.abs(results[\"mean_train_score\"] - results[\"mean_test_score\"])\n",
    "\n",
    "# best_idx = results[results[\"score_diff\"] < 0.25].sort_values(by=\"mean_test_score\", ascending=False).index[0]\n",
    "\n",
    "# results[results[\"score_diff\"] < 0.25].sort_values(by=\"mean_test_score\", ascending=False).head()"
   ]
  },
  {
   "cell_type": "code",
   "execution_count": 102,
   "metadata": {},
   "outputs": [],
   "source": [
    "# input_cols = x.columns\n",
    "\n",
    "# selected_cols = GRD_DT.best_estimator_[:-1].transform(x).columns\n",
    "\n",
    "# print(f\"Input features: {len(input_cols)}.\")\n",
    "# print(f\"Output features: {len(selected_cols)}.\")\n",
    "# print(f\"Removed features: {len(input_cols) - len(selected_cols)}.\")"
   ]
  },
  {
   "cell_type": "code",
   "execution_count": 103,
   "metadata": {},
   "outputs": [],
   "source": [
    "# params = pd.DataFrame(GRD_DT.cv_results_).iloc[best_idx][\"params\"]\n",
    "# params = {k.split(\"__\")[-1]: params[k] for k in params}\n",
    "# # params[\"verbose\"] = False\n",
    "\n",
    "# DT = make_pipeline(\n",
    "#     DropConstantFeatures(), \n",
    "#     DropDuplicateFeatures(), \n",
    "#     SmartCorrelatedSelection(selection_method=\"variance\"),\n",
    "# #     SelectByShuffling(estimator=LogisticRegression(max_iter=10000), scoring=\"roc_auc\", cv=3),\n",
    "#     DecisionTreeClassifier(**params)\n",
    "# )\n",
    "# DT.fit(x, y)\n",
    "\n",
    "# auc_test = roc_auc_score(y_test, DT.predict_proba(x_test)[:, 1])\n",
    "\n",
    "# print(f\"AUC test: {100*auc_test:.2f}%.\")"
   ]
  },
  {
   "cell_type": "markdown",
   "metadata": {},
   "source": [
    "# *Ensemble*"
   ]
  },
  {
   "cell_type": "code",
   "execution_count": 104,
   "metadata": {},
   "outputs": [],
   "source": [
    "# y_test_pred_1 =  LR.predict_proba(x_test)[:, 1]\n",
    "\n",
    "# y_test_pred_2 = RF.predict_proba(x_test)[:, 1]\n",
    "\n",
    "# # y_test_pred_3 = DT.predict_proba(x_test)[:, 1]\n",
    "\n",
    "# y_pred = (y_test_pred_1 + y_test_pred_2)/2\n",
    "\n",
    "# auc_test = roc_auc_score(y_test, y_pred)\n",
    "\n",
    "# print(f\"AUC test: {100*auc_test:.2f}%.\")"
   ]
  },
  {
   "cell_type": "markdown",
   "metadata": {},
   "source": [
    "# LightGBM"
   ]
  },
  {
   "cell_type": "markdown",
   "metadata": {},
   "source": [
    "## Parâmetros *default*"
   ]
  },
  {
   "cell_type": "code",
   "execution_count": 105,
   "metadata": {},
   "outputs": [],
   "source": [
    "search_space = {}"
   ]
  },
  {
   "cell_type": "code",
   "execution_count": 106,
   "metadata": {},
   "outputs": [],
   "source": [
    "# MP = make_pipeline(\n",
    "#     LGBMClassifier()\n",
    "# )"
   ]
  },
  {
   "cell_type": "code",
   "execution_count": 107,
   "metadata": {},
   "outputs": [],
   "source": [
    "# %%capture\n",
    "# GRD_LGB = RandomizedSearchCV(MP, \n",
    "#                    search_space, \n",
    "#                    n_iter=1,\n",
    "#                    scoring=\"roc_auc\", \n",
    "#                    cv=10, \n",
    "#                    verbose=3, \n",
    "#                    return_train_score=True, \n",
    "#                    n_jobs=-1)\n",
    "# GRD_LGB.fit(x, y)"
   ]
  },
  {
   "cell_type": "code",
   "execution_count": 108,
   "metadata": {},
   "outputs": [],
   "source": [
    "# results = pd.DataFrame(GRD_LGB.cv_results_).sort_values(by=\"rank_test_score\")[[\"params\", \"mean_test_score\", \"mean_train_score\", \"rank_test_score\"]]\n",
    "# results[\"score_diff\"] = np.abs(results[\"mean_train_score\"] - results[\"mean_test_score\"])\n",
    "\n",
    "# results.head()"
   ]
  },
  {
   "cell_type": "code",
   "execution_count": 109,
   "metadata": {},
   "outputs": [],
   "source": [
    "# LGB = LGBMClassifier()\n",
    "# LGB.fit(x, y)\n",
    "\n",
    "# auc_test = roc_auc_score(y_test, LGB.predict_proba(x_test)[:, 1])\n",
    "\n",
    "# print(f\"AUC test: {100*auc_test:.2f}%.\")"
   ]
  },
  {
   "cell_type": "markdown",
   "metadata": {},
   "source": [
    "## Validação *bootstrap* "
   ]
  },
  {
   "cell_type": "code",
   "execution_count": 110,
   "metadata": {},
   "outputs": [],
   "source": [
    "# def sample_hyperparameters_lgbm(x, y, n_rounds, n_simulations=100):\n",
    "    \n",
    "#     results_list = []\n",
    "    \n",
    "#     for n_round in range(n_rounds):\n",
    "\n",
    "#         search_space = {\n",
    "# #             \"boosting_type\": np.random.choice([\"gbdt\", \"dart\", \"goss\", \"rf\"]),\n",
    "#             \"max_depth\": np.random.choice([2, 3, 4, 5, 6, 7, 8, 9, 10]),\n",
    "#             \"n_estimators\": np.random.choice([5, 10, 15, 20, 25, 50, 75, 100, 200, 300]),\n",
    "#             \"reg_alpha\": np.random.choice([0, 1e-3, 1e-2, 1e-1, 1, 10, 20, 30, 40, 50, 60, 70, 80, 90, 100, 110]),\n",
    "#             \"reg_lambda\": np.random.choice([0, 1e-3, 1e-2, 1e-1, 1, 10, 20, 30, 40, 50, 60, 70, 80, 90, 100, 110]),\n",
    "#         }\n",
    "        \n",
    "#         MP = make_pipeline(\n",
    "#                 DropConstantFeatures(), \n",
    "#                 DropDuplicateFeatures(), \n",
    "#                 SmartCorrelatedSelection(selection_method=\"variance\"),\n",
    "#                 LGBMClassifier(**search_space)\n",
    "#             )\n",
    "        \n",
    "#         results = run_validations(MP, x, y, n_simulations)\n",
    "\n",
    "#         results[\"parameters\"] = str(search_space)\n",
    "#         results[\"round\"] = n_round\n",
    "#         results_list.append(results)\n",
    "        \n",
    "#     df_results = pd.concat(results_list).reset_index(drop=True)\n",
    "    \n",
    "#     return df_results\n",
    "\n",
    "# def validate_lgbm_in_test_set(results, x, y, x_test, y_test):\n",
    "    \n",
    "#     mean_auc_val = results.groupby(\"round\")[\"auc_val\"].mean().reset_index().sort_values(by=\"auc_val\", ascending=False).reset_index(drop=True)\n",
    "    \n",
    "#     best_round = mean_auc_val[\"round\"].tolist()[0]\n",
    "        \n",
    "#     parameters = eval(results[results[\"round\"] == best_round][\"parameters\"].tolist()[0])\n",
    "    \n",
    "#     model = make_pipeline(\n",
    "#                 DropConstantFeatures(), \n",
    "#                 DropDuplicateFeatures(), \n",
    "#                 SmartCorrelatedSelection(selection_method=\"variance\"),\n",
    "#                 LGBMClassifier(**parameters)\n",
    "#             )\n",
    "    \n",
    "#     x_train, x_val, y_train, y_val = train_test_split(x,\n",
    "#                                                  y,\n",
    "#                                                  test_size=0.25,\n",
    "#                                                  random_state=0,\n",
    "#                                                  stratify=y)\n",
    "\n",
    "#     model.fit(x_train, y_train)\n",
    "    \n",
    "#     auc_train = eval_model(model, x_train, y_train)\n",
    "#     auc_val = eval_model(model, x_val, y_val)\n",
    "#     auc_test = eval_model(model, x_test, y_test)\n",
    "        \n",
    "#     print(f\"AUC in train: {100*auc_train:.2f}\")\n",
    "#     print(f\"AUC in validation: {100*auc_val:.2f}\")\n",
    "#     print(f\"AUC in test: {100*auc_test:.2f}\")"
   ]
  },
  {
   "cell_type": "code",
   "execution_count": 111,
   "metadata": {},
   "outputs": [],
   "source": [
    "# %%capture\n",
    "# df_results_lgbm = sample_hyperparameters_lgbm(x, y, 25, 100)"
   ]
  },
  {
   "cell_type": "code",
   "execution_count": 112,
   "metadata": {},
   "outputs": [],
   "source": [
    "# plt.figure(figsize=(25, 7.5))\n",
    "\n",
    "# sns.histplot(df_results_lgbm, x=\"auc_val\", hue=\"round\")\n",
    "    \n",
    "# plt.show()"
   ]
  },
  {
   "cell_type": "code",
   "execution_count": 113,
   "metadata": {},
   "outputs": [],
   "source": [
    "# df_results_lgbm.groupby(\"round\").agg({\n",
    "#     \"auc_val\": \"mean\",\n",
    "#     \"auc_train\": \"mean\"\n",
    "# }).sort_values(by=\"auc_val\", ascending=False).head()"
   ]
  },
  {
   "cell_type": "code",
   "execution_count": 114,
   "metadata": {},
   "outputs": [],
   "source": [
    "# validate_lgbm_in_test_set(df_results_lgbm, x, y, x_test, y_test)"
   ]
  },
  {
   "cell_type": "markdown",
   "metadata": {},
   "source": [
    "## *Random search*"
   ]
  },
  {
   "cell_type": "code",
   "execution_count": 115,
   "metadata": {},
   "outputs": [],
   "source": [
    "# search_space = {\n",
    "#     \"lgbmclassifier__boosting_type\": [\"gbdt\", \"dart\", \"goss\", \"rf\"],\n",
    "#     \"lgbmclassifier__max_depth\": [2, 3, 4, 5, 6, 7, 8, 9, 10],\n",
    "#     \"lgbmclassifier__n_estimators\": [5, 10, 15, 20, 25, 50, 75, 100, 200, 300],\n",
    "#     \"lgbmclassifier__reg_alpha\": [0, 1e-3, 1e-2, 1e-1, 1, 10, 20, 30, 40, 50, 60, 70, 80, 90, 100, 110],\n",
    "#     \"lgbmclassifier__reg_lambda\": [0, 1e-3, 1e-2, 1e-1, 1, 10, 20, 30, 40, 50, 60, 70, 80, 90, 100, 110],\n",
    "# }"
   ]
  },
  {
   "cell_type": "code",
   "execution_count": 116,
   "metadata": {},
   "outputs": [],
   "source": [
    "# MP = make_pipeline(\n",
    "#     DropConstantFeatures(), \n",
    "#     DropDuplicateFeatures(), \n",
    "#     SmartCorrelatedSelection(selection_method=\"variance\"),\n",
    "# #     SelectByShuffling(estimator=LogisticRegression(max_iter=10000), scoring=\"roc_auc\", cv=3),\n",
    "#     LGBMClassifier()\n",
    "# )"
   ]
  },
  {
   "cell_type": "code",
   "execution_count": 117,
   "metadata": {},
   "outputs": [],
   "source": [
    "# %%capture\n",
    "# GRD_LGB = RandomizedSearchCV(MP, \n",
    "#                    search_space, \n",
    "#                    n_iter=50,\n",
    "#                    scoring=\"roc_auc\", \n",
    "#                    cv=10, \n",
    "#                    verbose=3, \n",
    "#                    return_train_score=True, \n",
    "#                    n_jobs=-1)\n",
    "# GRD_LGB.fit(x, y)"
   ]
  },
  {
   "cell_type": "code",
   "execution_count": 118,
   "metadata": {},
   "outputs": [],
   "source": [
    "# results = pd.DataFrame(GRD_LGB.cv_results_).sort_values(by=\"rank_test_score\")[[\"params\", \"mean_test_score\", \"mean_train_score\", \"rank_test_score\"]]\n",
    "# results[\"score_diff\"] = np.abs(results[\"mean_train_score\"] - results[\"mean_test_score\"])\n",
    "\n",
    "# best_idx = results[results[\"score_diff\"] < 0.25].sort_values(by=\"mean_test_score\", ascending=False).index[0]\n",
    "\n",
    "# results[results[\"score_diff\"] < 0.25].sort_values(by=\"mean_test_score\", ascending=False).head()"
   ]
  },
  {
   "cell_type": "code",
   "execution_count": 119,
   "metadata": {},
   "outputs": [],
   "source": [
    "# input_cols = x.columns\n",
    "\n",
    "# selected_cols = GRD_LGB.best_estimator_[:-1].transform(x).columns\n",
    "\n",
    "# print(f\"Input features: {len(input_cols)}.\")\n",
    "# print(f\"Output features: {len(selected_cols)}.\")\n",
    "# print(f\"Removed features: {len(input_cols) - len(selected_cols)}.\")"
   ]
  },
  {
   "cell_type": "code",
   "execution_count": 120,
   "metadata": {},
   "outputs": [],
   "source": [
    "# params = pd.DataFrame(GRD_LGB.cv_results_).iloc[best_idx][\"params\"]\n",
    "# params = {k.split(\"__\")[-1]: params[k] for k in params}\n",
    "# # params[\"verbose\"] = False\n",
    "\n",
    "# LGB = make_pipeline(\n",
    "#     DropConstantFeatures(), \n",
    "#     DropDuplicateFeatures(), \n",
    "#     SmartCorrelatedSelection(selection_method=\"variance\"),\n",
    "# #     SelectByShuffling(estimator=LogisticRegression(max_iter=10000), scoring=\"roc_auc\", cv=3),\n",
    "#     LGBMClassifier(**params)\n",
    "# )\n",
    "# LGB.fit(x, y)\n",
    "\n",
    "# auc_test = roc_auc_score(y_test, LGB.predict_proba(x_test)[:, 1])\n",
    "\n",
    "# print(f\"AUC test: {100*auc_test:.2f}%.\")"
   ]
  },
  {
   "cell_type": "markdown",
   "metadata": {},
   "source": [
    "# XGBoost"
   ]
  },
  {
   "cell_type": "markdown",
   "metadata": {},
   "source": [
    "## Parâmetros *default*"
   ]
  },
  {
   "cell_type": "code",
   "execution_count": 121,
   "metadata": {},
   "outputs": [],
   "source": [
    "search_space = {}"
   ]
  },
  {
   "cell_type": "code",
   "execution_count": 122,
   "metadata": {},
   "outputs": [],
   "source": [
    "# MP = make_pipeline(\n",
    "#     XGBClassifier()\n",
    "# )"
   ]
  },
  {
   "cell_type": "code",
   "execution_count": 123,
   "metadata": {},
   "outputs": [],
   "source": [
    "# %%capture\n",
    "# GRD_XGB = RandomizedSearchCV(MP, \n",
    "#                    search_space, \n",
    "#                    n_iter=1,\n",
    "#                    scoring=\"roc_auc\", \n",
    "#                    cv=10, \n",
    "#                    verbose=3, \n",
    "#                    return_train_score=True, \n",
    "#                    n_jobs=-1)\n",
    "# GRD_XGB.fit(x, y)"
   ]
  },
  {
   "cell_type": "code",
   "execution_count": 124,
   "metadata": {},
   "outputs": [],
   "source": [
    "# results = pd.DataFrame(GRD_XGB.cv_results_).sort_values(by=\"rank_test_score\")[[\"params\", \"mean_test_score\", \"mean_train_score\", \"rank_test_score\"]]\n",
    "# results[\"score_diff\"] = np.abs(results[\"mean_train_score\"] - results[\"mean_test_score\"])\n",
    "\n",
    "# results.head()"
   ]
  },
  {
   "cell_type": "code",
   "execution_count": 125,
   "metadata": {},
   "outputs": [],
   "source": [
    "# XGB = XGBClassifier()\n",
    "# XGB.fit(x, y)\n",
    "\n",
    "# auc_test = roc_auc_score(y_test, XGB.predict_proba(x_test)[:, 1])\n",
    "\n",
    "# print(f\"AUC test: {100*auc_test:.2f}%.\")"
   ]
  },
  {
   "cell_type": "markdown",
   "metadata": {},
   "source": [
    "## Validação *bootstrap* "
   ]
  },
  {
   "cell_type": "code",
   "execution_count": 126,
   "metadata": {},
   "outputs": [],
   "source": [
    "# def sample_hyperparameters_xgboost(x, y, n_rounds, n_simulations=100):\n",
    "    \n",
    "#     results_list = []\n",
    "    \n",
    "#     for n_round in range(n_rounds):\n",
    "\n",
    "#         search_space = {\n",
    "#             \"min_child_weight\": np.random.choice([1, 2, 3, 4, 5, 6, 7, 8, 9, 10]),\n",
    "#             \"gamma\": np.random.choice([0.5, 1, 1.5, 2, 2.5, 3, 3.5, 4, 4.5, 6]),\n",
    "#             \"subsample\": np.random.choice([0, 0.2, 0.4, 0.8, 1]),\n",
    "#             \"colsample_by_tree\": np.random.choice([0, 0.2, 0.4, 0.6, 0.8, 1]),\n",
    "#             \"max_depth\": np.random.choice([10, 20, 30, 40, 50, 60, 70, 80, 90, 100, 110, None]),\n",
    "#             \"n_estimators\": np.random.choice(range(100, 2000, 100)),\n",
    "#         }\n",
    "        \n",
    "#         MP = make_pipeline(\n",
    "#                 DropConstantFeatures(), \n",
    "#                 DropDuplicateFeatures(), \n",
    "#                 SmartCorrelatedSelection(selection_method=\"variance\"),\n",
    "#                 XGBClassifier(**search_space)\n",
    "#             )\n",
    "        \n",
    "#         results = run_validations(MP, x, y, n_simulations)\n",
    "\n",
    "#         results[\"parameters\"] = str(search_space)\n",
    "#         results[\"round\"] = n_round\n",
    "#         results_list.append(results)\n",
    "        \n",
    "#     df_results = pd.concat(results_list).reset_index(drop=True)\n",
    "    \n",
    "#     return df_results\n",
    "\n",
    "# def validate_xgboost_in_test_set(results, x, y, x_test, y_test):\n",
    "    \n",
    "#     mean_auc_val = results.groupby(\"round\")[\"auc_val\"].mean().reset_index().sort_values(by=\"auc_val\", ascending=False).reset_index(drop=True)\n",
    "    \n",
    "#     best_round = mean_auc_val[\"round\"].tolist()[0]\n",
    "        \n",
    "#     parameters = eval(results[results[\"round\"] == best_round][\"parameters\"].tolist()[0])\n",
    "    \n",
    "#     model = make_pipeline(\n",
    "#                 DropConstantFeatures(), \n",
    "#                 DropDuplicateFeatures(), \n",
    "#                 SmartCorrelatedSelection(selection_method=\"variance\"),\n",
    "#                 XGBClassifier(**parameters)\n",
    "#             )\n",
    "    \n",
    "#     x_train, x_val, y_train, y_val = train_test_split(x,\n",
    "#                                                  y,\n",
    "#                                                  test_size=0.25,\n",
    "#                                                  random_state=0,\n",
    "#                                                  stratify=y)\n",
    "\n",
    "#     model.fit(x_train, y_train)\n",
    "    \n",
    "#     auc_train = eval_model(model, x_train, y_train)\n",
    "#     auc_val = eval_model(model, x_val, y_val)\n",
    "#     auc_test = eval_model(model, x_test, y_test)\n",
    "        \n",
    "#     print(f\"AUC in train: {100*auc_train:.2f}\")\n",
    "#     print(f\"AUC in validation: {100*auc_val:.2f}\")\n",
    "#     print(f\"AUC in test: {100*auc_test:.2f}\")"
   ]
  },
  {
   "cell_type": "code",
   "execution_count": 127,
   "metadata": {},
   "outputs": [],
   "source": [
    "# %%capture\n",
    "# df_results_xgb = sample_hyperparameters_xgboost(x, y, 5, 100)"
   ]
  },
  {
   "cell_type": "code",
   "execution_count": 128,
   "metadata": {},
   "outputs": [],
   "source": [
    "# plt.figure(figsize=(25, 7.5))\n",
    "\n",
    "# sns.histplot(df_results_xgb, x=\"auc_val\", hue=\"round\")\n",
    "    \n",
    "# plt.show()"
   ]
  },
  {
   "cell_type": "code",
   "execution_count": 129,
   "metadata": {},
   "outputs": [],
   "source": [
    "# df_results_xgb.groupby(\"round\").agg({\n",
    "#     \"auc_val\": \"mean\",\n",
    "#     \"auc_train\": \"mean\"\n",
    "# }).sort_values(by=\"auc_val\", ascending=False).head()"
   ]
  },
  {
   "cell_type": "code",
   "execution_count": 130,
   "metadata": {},
   "outputs": [],
   "source": [
    "# validate_xgboost_in_test_set(df_results_xgb, x, y, x_test, y_test)"
   ]
  },
  {
   "cell_type": "markdown",
   "metadata": {},
   "source": [
    "## *Random search*"
   ]
  },
  {
   "cell_type": "code",
   "execution_count": 131,
   "metadata": {},
   "outputs": [],
   "source": [
    "# search_space = {\n",
    "#     \"xgbclassifier__min_child_weight\": [1, 2, 3, 4, 5, 6, 7, 8, 9, 10],\n",
    "#     \"xgbclassifier__gamma\": [0.5, 1, 1.5, 2, 2.5, 3, 3.5, 4, 4.5, 6],\n",
    "#     \"xgbclassifier__subsample\": [0, 0.2, 0.4, 0.8, 1],\n",
    "#     \"xgbclassifier__colsample_by_tree\": [0, 0.2, 0.4, 0.6, 0.8, 1],\n",
    "#     \"xgbclassifier__max_depth\": [10, 20, 30, 40, 50, 60, 70, 80, 90, 100, 110, None],\n",
    "#     \"xgbclassifier__n_estimators\": range(100, 2000, 100),\n",
    "# }"
   ]
  },
  {
   "cell_type": "code",
   "execution_count": 132,
   "metadata": {},
   "outputs": [],
   "source": [
    "# MP = make_pipeline(\n",
    "#     DropConstantFeatures(), \n",
    "#     DropDuplicateFeatures(), \n",
    "#     SmartCorrelatedSelection(selection_method=\"variance\"),\n",
    "# #     SelectByShuffling(estimator=LogisticRegression(max_iter=10000), scoring=\"roc_auc\", cv=3),\n",
    "#     XGBClassifier()\n",
    "# )"
   ]
  },
  {
   "cell_type": "code",
   "execution_count": 133,
   "metadata": {},
   "outputs": [],
   "source": [
    "# %%capture\n",
    "# GRD_XGB = RandomizedSearchCV(MP, \n",
    "#                    search_space, \n",
    "#                    n_iter=100,\n",
    "#                    scoring=\"roc_auc\", \n",
    "#                    cv=10, \n",
    "#                    verbose=3, \n",
    "#                    return_train_score=True, \n",
    "#                    n_jobs=-1)\n",
    "# GRD_XGB.fit(x, y)"
   ]
  },
  {
   "cell_type": "code",
   "execution_count": 134,
   "metadata": {},
   "outputs": [],
   "source": [
    "# results = pd.DataFrame(GRD_XGB.cv_results_).sort_values(by=\"rank_test_score\")[[\"params\", \"mean_test_score\", \"mean_train_score\", \"rank_test_score\"]]\n",
    "# results[\"score_diff\"] = np.abs(results[\"mean_train_score\"] - results[\"mean_test_score\"])\n",
    "\n",
    "# best_idx = results[results[\"score_diff\"] < 0.25].sort_values(by=\"mean_test_score\", ascending=False).index[0]\n",
    "\n",
    "# results[results[\"score_diff\"] < 0.25].sort_values(by=\"mean_test_score\", ascending=False).head()"
   ]
  },
  {
   "cell_type": "code",
   "execution_count": 135,
   "metadata": {},
   "outputs": [],
   "source": [
    "# input_cols = x.columns\n",
    "\n",
    "# selected_cols = GRD_XGB.best_estimator_[:-1].transform(x).columns\n",
    "\n",
    "# print(f\"Input features: {len(input_cols)}.\")\n",
    "# print(f\"Output features: {len(selected_cols)}.\")\n",
    "# print(f\"Removed features: {len(input_cols) - len(selected_cols)}.\")"
   ]
  },
  {
   "cell_type": "code",
   "execution_count": 136,
   "metadata": {},
   "outputs": [],
   "source": [
    "# params = pd.DataFrame(GRD_DT.cv_results_).iloc[best_idx][\"params\"]\n",
    "# params = {k.split(\"__\")[-1]: params[k] for k in params}\n",
    "# # params[\"verbose\"] = False\n",
    "\n",
    "# MP = make_pipeline(\n",
    "#     DropConstantFeatures(), \n",
    "#     DropDuplicateFeatures(), \n",
    "#     SmartCorrelatedSelection(selection_method=\"variance\"),\n",
    "# #     SelectByShuffling(estimator=LogisticRegression(max_iter=10000), scoring=\"roc_auc\", cv=3),\n",
    "#     XGBClassifier(**params)\n",
    "# )\n",
    "# XGB.fit(x, y)\n",
    "\n",
    "# auc_test = roc_auc_score(y_test, XGB.predict_proba(x_test)[:, 1])\n",
    "\n",
    "# print(f\"AUC test: {100*auc_test:.2f}%.\")"
   ]
  }
 ],
 "metadata": {
  "kernelspec": {
   "display_name": "Python 3",
   "language": "python",
   "name": "python3"
  },
  "language_info": {
   "codemirror_mode": {
    "name": "ipython",
    "version": 3
   },
   "file_extension": ".py",
   "mimetype": "text/x-python",
   "name": "python",
   "nbconvert_exporter": "python",
   "pygments_lexer": "ipython3",
   "version": "3.8.3"
  }
 },
 "nbformat": 4,
 "nbformat_minor": 4
}
