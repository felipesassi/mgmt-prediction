{
 "cells": [
  {
   "cell_type": "code",
   "execution_count": 1,
   "metadata": {},
   "outputs": [],
   "source": [
    "import pandas as pd\n",
    "import os\n",
    "import nibabel as nib\n",
    "import pydicom as dicom\n",
    "import h5py\n",
    "import numpy as np\n",
    "import matplotlib.pyplot as plt\n",
    "import torch\n",
    "import torch.nn as nn\n",
    "from torch.utils.data import Dataset, DataLoader\n",
    "import torch.optim as optim\n",
    "import torch.nn.functional as F\n",
    "from tqdm.notebook import tqdm_notebook\n",
    "from torch.cuda.amp import GradScaler, autocast\n",
    "import wandb\n",
    "from skimage.transform import resize\n",
    "from sklearn.metrics import roc_auc_score\n",
    "from loguru import logger\n",
    "import random\n",
    "from catboost import CatBoostClassifier\n",
    "import time\n",
    "from sklearn.linear_model import LogisticRegression\n",
    "from sklearn.pipeline import make_pipeline\n",
    "from sklearn.preprocessing import StandardScaler\n",
    "from sklearn.ensemble import RandomForestClassifier\n",
    "from sklearn.tree import DecisionTreeClassifier\n",
    "from sklearn.model_selection import GridSearchCV, RandomizedSearchCV\n",
    "from xgboost import XGBClassifier"
   ]
  },
  {
   "cell_type": "code",
   "execution_count": 2,
   "metadata": {},
   "outputs": [],
   "source": [
    "torch.manual_seed(383)\n",
    "random.seed(383)\n",
    "np.random.seed(383)"
   ]
  },
  {
   "cell_type": "markdown",
   "metadata": {},
   "source": [
    "# Read data"
   ]
  },
  {
   "cell_type": "code",
   "execution_count": 48,
   "metadata": {},
   "outputs": [
    {
     "data": {
      "text/html": [
       "<div>\n",
       "<style scoped>\n",
       "    .dataframe tbody tr th:only-of-type {\n",
       "        vertical-align: middle;\n",
       "    }\n",
       "\n",
       "    .dataframe tbody tr th {\n",
       "        vertical-align: top;\n",
       "    }\n",
       "\n",
       "    .dataframe thead th {\n",
       "        text-align: right;\n",
       "    }\n",
       "</style>\n",
       "<table border=\"1\" class=\"dataframe\">\n",
       "  <thead>\n",
       "    <tr style=\"text-align: right;\">\n",
       "      <th></th>\n",
       "      <th>ID</th>\n",
       "      <th>Date</th>\n",
       "      <th>VOLUME_ET</th>\n",
       "      <th>VOLUME_NET</th>\n",
       "      <th>VOLUME_ED</th>\n",
       "      <th>VOLUME_TC</th>\n",
       "      <th>VOLUME_WT</th>\n",
       "      <th>VOLUME_BRAIN</th>\n",
       "      <th>VOLUME_ET_OVER_NET</th>\n",
       "      <th>VOLUME_ET_OVER_ED</th>\n",
       "      <th>...</th>\n",
       "      <th>TGM_Cog_X_5</th>\n",
       "      <th>TGM_Cog_Y_5</th>\n",
       "      <th>TGM_Cog_Z_5</th>\n",
       "      <th>TGM_T_5</th>\n",
       "      <th>TGM_Cog_X_6</th>\n",
       "      <th>TGM_Cog_Y_6</th>\n",
       "      <th>TGM_Cog_Z_6</th>\n",
       "      <th>TGM_T_6</th>\n",
       "      <th>files</th>\n",
       "      <th>labels</th>\n",
       "    </tr>\n",
       "  </thead>\n",
       "  <tbody>\n",
       "    <tr>\n",
       "      <th>0</th>\n",
       "      <td>TCGA-02-0006</td>\n",
       "      <td>1996.08.23</td>\n",
       "      <td>1662</td>\n",
       "      <td>384</td>\n",
       "      <td>36268</td>\n",
       "      <td>2046</td>\n",
       "      <td>38314</td>\n",
       "      <td>1469432</td>\n",
       "      <td>4.328125</td>\n",
       "      <td>0.045826</td>\n",
       "      <td>...</td>\n",
       "      <td>NaN</td>\n",
       "      <td>NaN</td>\n",
       "      <td>NaN</td>\n",
       "      <td>NaN</td>\n",
       "      <td>NaN</td>\n",
       "      <td>NaN</td>\n",
       "      <td>NaN</td>\n",
       "      <td>NaN</td>\n",
       "      <td>TCGA-02-0006</td>\n",
       "      <td>Unmethylated</td>\n",
       "    </tr>\n",
       "    <tr>\n",
       "      <th>1</th>\n",
       "      <td>TCGA-02-0009</td>\n",
       "      <td>1997.06.14</td>\n",
       "      <td>4362</td>\n",
       "      <td>4349</td>\n",
       "      <td>15723</td>\n",
       "      <td>8711</td>\n",
       "      <td>24434</td>\n",
       "      <td>1295721</td>\n",
       "      <td>1.002989</td>\n",
       "      <td>0.277428</td>\n",
       "      <td>...</td>\n",
       "      <td>NaN</td>\n",
       "      <td>NaN</td>\n",
       "      <td>NaN</td>\n",
       "      <td>NaN</td>\n",
       "      <td>NaN</td>\n",
       "      <td>NaN</td>\n",
       "      <td>NaN</td>\n",
       "      <td>NaN</td>\n",
       "      <td>TCGA-02-0009</td>\n",
       "      <td>Unmethylated</td>\n",
       "    </tr>\n",
       "    <tr>\n",
       "      <th>2</th>\n",
       "      <td>TCGA-02-0011</td>\n",
       "      <td>1998.02.01</td>\n",
       "      <td>33404</td>\n",
       "      <td>48612</td>\n",
       "      <td>45798</td>\n",
       "      <td>82016</td>\n",
       "      <td>127814</td>\n",
       "      <td>1425843</td>\n",
       "      <td>0.687155</td>\n",
       "      <td>0.729377</td>\n",
       "      <td>...</td>\n",
       "      <td>NaN</td>\n",
       "      <td>NaN</td>\n",
       "      <td>NaN</td>\n",
       "      <td>NaN</td>\n",
       "      <td>NaN</td>\n",
       "      <td>NaN</td>\n",
       "      <td>NaN</td>\n",
       "      <td>NaN</td>\n",
       "      <td>TCGA-02-0011</td>\n",
       "      <td>Methylated</td>\n",
       "    </tr>\n",
       "    <tr>\n",
       "      <th>3</th>\n",
       "      <td>TCGA-02-0027</td>\n",
       "      <td>1999.03.28</td>\n",
       "      <td>12114</td>\n",
       "      <td>7587</td>\n",
       "      <td>34086</td>\n",
       "      <td>19701</td>\n",
       "      <td>53787</td>\n",
       "      <td>1403429</td>\n",
       "      <td>1.596679</td>\n",
       "      <td>0.355395</td>\n",
       "      <td>...</td>\n",
       "      <td>NaN</td>\n",
       "      <td>NaN</td>\n",
       "      <td>NaN</td>\n",
       "      <td>NaN</td>\n",
       "      <td>NaN</td>\n",
       "      <td>NaN</td>\n",
       "      <td>NaN</td>\n",
       "      <td>NaN</td>\n",
       "      <td>TCGA-02-0027</td>\n",
       "      <td>Unmethylated</td>\n",
       "    </tr>\n",
       "    <tr>\n",
       "      <th>4</th>\n",
       "      <td>TCGA-02-0033</td>\n",
       "      <td>1997.05.26</td>\n",
       "      <td>34538</td>\n",
       "      <td>7137</td>\n",
       "      <td>65653</td>\n",
       "      <td>41675</td>\n",
       "      <td>107328</td>\n",
       "      <td>1365237</td>\n",
       "      <td>4.839288</td>\n",
       "      <td>0.526069</td>\n",
       "      <td>...</td>\n",
       "      <td>NaN</td>\n",
       "      <td>NaN</td>\n",
       "      <td>NaN</td>\n",
       "      <td>NaN</td>\n",
       "      <td>NaN</td>\n",
       "      <td>NaN</td>\n",
       "      <td>NaN</td>\n",
       "      <td>NaN</td>\n",
       "      <td>TCGA-02-0033</td>\n",
       "      <td>Methylated</td>\n",
       "    </tr>\n",
       "  </tbody>\n",
       "</table>\n",
       "<p>5 rows × 728 columns</p>\n",
       "</div>"
      ],
      "text/plain": [
       "             ID        Date  VOLUME_ET  VOLUME_NET  VOLUME_ED  VOLUME_TC  \\\n",
       "0  TCGA-02-0006  1996.08.23       1662         384      36268       2046   \n",
       "1  TCGA-02-0009  1997.06.14       4362        4349      15723       8711   \n",
       "2  TCGA-02-0011  1998.02.01      33404       48612      45798      82016   \n",
       "3  TCGA-02-0027  1999.03.28      12114        7587      34086      19701   \n",
       "4  TCGA-02-0033  1997.05.26      34538        7137      65653      41675   \n",
       "\n",
       "   VOLUME_WT  VOLUME_BRAIN  VOLUME_ET_OVER_NET  VOLUME_ET_OVER_ED  ...  \\\n",
       "0      38314       1469432            4.328125           0.045826  ...   \n",
       "1      24434       1295721            1.002989           0.277428  ...   \n",
       "2     127814       1425843            0.687155           0.729377  ...   \n",
       "3      53787       1403429            1.596679           0.355395  ...   \n",
       "4     107328       1365237            4.839288           0.526069  ...   \n",
       "\n",
       "   TGM_Cog_X_5  TGM_Cog_Y_5  TGM_Cog_Z_5  TGM_T_5  TGM_Cog_X_6  TGM_Cog_Y_6  \\\n",
       "0          NaN          NaN          NaN      NaN          NaN          NaN   \n",
       "1          NaN          NaN          NaN      NaN          NaN          NaN   \n",
       "2          NaN          NaN          NaN      NaN          NaN          NaN   \n",
       "3          NaN          NaN          NaN      NaN          NaN          NaN   \n",
       "4          NaN          NaN          NaN      NaN          NaN          NaN   \n",
       "\n",
       "   TGM_Cog_Z_6  TGM_T_6         files        labels  \n",
       "0          NaN      NaN  TCGA-02-0006  Unmethylated  \n",
       "1          NaN      NaN  TCGA-02-0009  Unmethylated  \n",
       "2          NaN      NaN  TCGA-02-0011    Methylated  \n",
       "3          NaN      NaN  TCGA-02-0027  Unmethylated  \n",
       "4          NaN      NaN  TCGA-02-0033    Methylated  \n",
       "\n",
       "[5 rows x 728 columns]"
      ]
     },
     "execution_count": 48,
     "metadata": {},
     "output_type": "execute_result"
    }
   ],
   "source": [
    "df = pd.read_csv(\"Data/MGMT_TCGA_FEATURES.csv\")\n",
    "# df = pd.read_csv(\"Data/MGMT_FEATURES_REAL_VALUES_ONLY.csv\")\n",
    "df.head()"
   ]
  },
  {
   "cell_type": "code",
   "execution_count": 49,
   "metadata": {},
   "outputs": [],
   "source": [
    "cols_to_drop = [\n",
    "    \"Date\",\n",
    "    \"files\"\n",
    "]"
   ]
  },
  {
   "cell_type": "code",
   "execution_count": 50,
   "metadata": {},
   "outputs": [],
   "source": [
    "df = df.drop(columns=cols_to_drop)"
   ]
  },
  {
   "cell_type": "code",
   "execution_count": 51,
   "metadata": {},
   "outputs": [],
   "source": [
    "train = pd.read_csv(\"Data/TRAIN_TCGA.csv\")\n",
    "val = pd.read_csv(\"Data/VAL_TCGA.csv\")\n",
    "test = pd.read_csv(\"Data/TEST_TCGA.csv\")"
   ]
  },
  {
   "cell_type": "code",
   "execution_count": 52,
   "metadata": {},
   "outputs": [],
   "source": [
    "df_train = df[df[\"ID\"].isin(train[\"files\"].to_list())].sample(frac=1, random_state=0).reset_index(drop=True)\n",
    "df_val = df[df[\"ID\"].isin(val[\"files\"].to_list())].sample(frac=1, random_state=0).reset_index(drop=True)\n",
    "df_test = df[df[\"ID\"].isin(test[\"files\"].to_list())].sample(frac=1, random_state=0).reset_index(drop=True)"
   ]
  },
  {
   "cell_type": "code",
   "execution_count": 54,
   "metadata": {},
   "outputs": [],
   "source": [
    "x_train = df_train.drop(columns=[\"ID\", \"labels\"])\n",
    "y_train = df_train[\"labels\"]\n",
    "\n",
    "x_val = df_val.drop(columns=[\"ID\", \"labels\"])\n",
    "y_val = df_val[\"labels\"]\n",
    "\n",
    "x_test = df_test.drop(columns=[\"ID\", \"labels\"])\n",
    "y_test = df_test[\"labels\"]"
   ]
  },
  {
   "cell_type": "code",
   "execution_count": 55,
   "metadata": {},
   "outputs": [],
   "source": [
    "x = pd.concat([x_train, x_val]).reset_index(drop=True)\n",
    "y = pd.concat([y_train, y_val]).reset_index(drop=True)"
   ]
  },
  {
   "cell_type": "markdown",
   "metadata": {},
   "source": [
    "## LogisticRegression"
   ]
  },
  {
   "cell_type": "code",
   "execution_count": 61,
   "metadata": {},
   "outputs": [],
   "source": [
    "search_space = {\n",
    "    \"logisticregression__C\": [0.001, 0.01, 0.1, 0.15, 0.2, 0.25, 0.3, 0.35, 0.5, 1, 2, 3, 4, 5, 10, 15, 20, 25],\n",
    "    \"logisticregression__penalty\": [\"l2\", \"elasticnet\", None]\n",
    "}"
   ]
  },
  {
   "cell_type": "code",
   "execution_count": 62,
   "metadata": {},
   "outputs": [],
   "source": [
    "MP = make_pipeline(StandardScaler(), LogisticRegression(max_iter=10000))"
   ]
  },
  {
   "cell_type": "code",
   "execution_count": 64,
   "metadata": {},
   "outputs": [],
   "source": [
    "# %%capture\n",
    "# GRD_LR = RandomizedSearchCV(MP, search_space, n_iter=250, cv=5, scoring=\"roc_auc\", verbose=3, return_train_score=True, n_jobs=-1)\n",
    "# GRD_LR.fit(x, y)"
   ]
  },
  {
   "cell_type": "code",
   "execution_count": 19,
   "metadata": {},
   "outputs": [
    {
     "data": {
      "text/html": [
       "<div>\n",
       "<style scoped>\n",
       "    .dataframe tbody tr th:only-of-type {\n",
       "        vertical-align: middle;\n",
       "    }\n",
       "\n",
       "    .dataframe tbody tr th {\n",
       "        vertical-align: top;\n",
       "    }\n",
       "\n",
       "    .dataframe thead th {\n",
       "        text-align: right;\n",
       "    }\n",
       "</style>\n",
       "<table border=\"1\" class=\"dataframe\">\n",
       "  <thead>\n",
       "    <tr style=\"text-align: right;\">\n",
       "      <th></th>\n",
       "      <th>params</th>\n",
       "      <th>mean_test_score</th>\n",
       "      <th>mean_train_score</th>\n",
       "      <th>rank_test_score</th>\n",
       "    </tr>\n",
       "  </thead>\n",
       "  <tbody>\n",
       "    <tr>\n",
       "      <th>9</th>\n",
       "      <td>{'logisticregression__penalty': 'l2', 'logisti...</td>\n",
       "      <td>0.606570</td>\n",
       "      <td>0.733239</td>\n",
       "      <td>1</td>\n",
       "    </tr>\n",
       "    <tr>\n",
       "      <th>13</th>\n",
       "      <td>{'logisticregression__penalty': 'l2', 'logisti...</td>\n",
       "      <td>0.606002</td>\n",
       "      <td>0.741320</td>\n",
       "      <td>2</td>\n",
       "    </tr>\n",
       "    <tr>\n",
       "      <th>17</th>\n",
       "      <td>{'logisticregression__penalty': 'l2', 'logisti...</td>\n",
       "      <td>0.603161</td>\n",
       "      <td>0.747141</td>\n",
       "      <td>3</td>\n",
       "    </tr>\n",
       "    <tr>\n",
       "      <th>21</th>\n",
       "      <td>{'logisticregression__penalty': 'l2', 'logisti...</td>\n",
       "      <td>0.602502</td>\n",
       "      <td>0.751441</td>\n",
       "      <td>4</td>\n",
       "    </tr>\n",
       "    <tr>\n",
       "      <th>25</th>\n",
       "      <td>{'logisticregression__penalty': 'l2', 'logisti...</td>\n",
       "      <td>0.602039</td>\n",
       "      <td>0.754616</td>\n",
       "      <td>5</td>\n",
       "    </tr>\n",
       "  </tbody>\n",
       "</table>\n",
       "</div>"
      ],
      "text/plain": [
       "                                               params  mean_test_score  \\\n",
       "9   {'logisticregression__penalty': 'l2', 'logisti...         0.606570   \n",
       "13  {'logisticregression__penalty': 'l2', 'logisti...         0.606002   \n",
       "17  {'logisticregression__penalty': 'l2', 'logisti...         0.603161   \n",
       "21  {'logisticregression__penalty': 'l2', 'logisti...         0.602502   \n",
       "25  {'logisticregression__penalty': 'l2', 'logisti...         0.602039   \n",
       "\n",
       "    mean_train_score  rank_test_score  \n",
       "9           0.733239                1  \n",
       "13          0.741320                2  \n",
       "17          0.747141                3  \n",
       "21          0.751441                4  \n",
       "25          0.754616                5  "
      ]
     },
     "execution_count": 19,
     "metadata": {},
     "output_type": "execute_result"
    }
   ],
   "source": [
    "pd.DataFrame(GRD_LR.cv_results_).sort_values(by=\"rank_test_score\")[[\"params\", \"mean_test_score\", \"mean_train_score\", \"rank_test_score\"]].head()"
   ]
  },
  {
   "cell_type": "code",
   "execution_count": 20,
   "metadata": {},
   "outputs": [
    {
     "name": "stdout",
     "output_type": "stream",
     "text": [
      "AUC test: 57.38%.\n"
     ]
    }
   ],
   "source": [
    "LR = GRD_LR.best_estimator_\n",
    "LR.fit(x, y)\n",
    "\n",
    "auc_test = roc_auc_score(y_test, LR.predict_proba(x_test)[:, 1])\n",
    "\n",
    "print(f\"AUC test: {100*auc_test:.2f}%.\")"
   ]
  },
  {
   "cell_type": "markdown",
   "metadata": {},
   "source": [
    "## CatBoost"
   ]
  },
  {
   "cell_type": "code",
   "execution_count": 74,
   "metadata": {},
   "outputs": [],
   "source": [
    "search_space = {\n",
    "    \"depth\": [1, 2, 3, 4, 5, 6],\n",
    "#     \"early_stopping_rounds\": [5, 10, 15, 20],\n",
    "    \"n_estimators\": [5, 10, 15, 20, 25, 50, 75, 100, 200, 300],\n",
    "    \"l2_leaf_reg\": [1, 2, 5, 10, 15, 20, 25, 50, 100, 250],\n",
    "    \"learning_rate\": [None, 1e-5, 1e-4, 1e-3, 1e-2, 1e-1, 1],\n",
    "    \"loss_function\": [\"AUC\", \"Logloss\"],\n",
    "    \"min_data_in_leaf\": [5, 10, 15, 20, 25, 30, 35, 40, 45, 100, 150, 200, None]\n",
    "}"
   ]
  },
  {
   "cell_type": "code",
   "execution_count": 75,
   "metadata": {},
   "outputs": [],
   "source": [
    "%%capture\n",
    "GRD_CB = RandomizedSearchCV(CatBoostClassifier(verbose=False), \n",
    "                   search_space, \n",
    "                   n_iter=10,\n",
    "                   scoring=\"roc_auc\", \n",
    "                   cv=5, \n",
    "                   verbose=3, \n",
    "                   return_train_score=True, \n",
    "                   n_jobs=-1)\n",
    "GRD_CB.fit(x, y)"
   ]
  },
  {
   "cell_type": "code",
   "execution_count": 76,
   "metadata": {},
   "outputs": [
    {
     "data": {
      "text/html": [
       "<div>\n",
       "<style scoped>\n",
       "    .dataframe tbody tr th:only-of-type {\n",
       "        vertical-align: middle;\n",
       "    }\n",
       "\n",
       "    .dataframe tbody tr th {\n",
       "        vertical-align: top;\n",
       "    }\n",
       "\n",
       "    .dataframe thead th {\n",
       "        text-align: right;\n",
       "    }\n",
       "</style>\n",
       "<table border=\"1\" class=\"dataframe\">\n",
       "  <thead>\n",
       "    <tr style=\"text-align: right;\">\n",
       "      <th></th>\n",
       "      <th>params</th>\n",
       "      <th>mean_test_score</th>\n",
       "      <th>mean_train_score</th>\n",
       "      <th>rank_test_score</th>\n",
       "    </tr>\n",
       "  </thead>\n",
       "  <tbody>\n",
       "    <tr>\n",
       "      <th>9</th>\n",
       "      <td>{'n_estimators': 15, 'min_data_in_leaf': 5, 'l...</td>\n",
       "      <td>0.496000</td>\n",
       "      <td>1.0</td>\n",
       "      <td>1</td>\n",
       "    </tr>\n",
       "    <tr>\n",
       "      <th>8</th>\n",
       "      <td>{'n_estimators': 50, 'min_data_in_leaf': 5, 'l...</td>\n",
       "      <td>0.422667</td>\n",
       "      <td>1.0</td>\n",
       "      <td>2</td>\n",
       "    </tr>\n",
       "    <tr>\n",
       "      <th>1</th>\n",
       "      <td>{'n_estimators': 200, 'min_data_in_leaf': 40, ...</td>\n",
       "      <td>0.339000</td>\n",
       "      <td>1.0</td>\n",
       "      <td>3</td>\n",
       "    </tr>\n",
       "    <tr>\n",
       "      <th>7</th>\n",
       "      <td>{'n_estimators': 300, 'min_data_in_leaf': 15, ...</td>\n",
       "      <td>0.312333</td>\n",
       "      <td>1.0</td>\n",
       "      <td>4</td>\n",
       "    </tr>\n",
       "    <tr>\n",
       "      <th>0</th>\n",
       "      <td>{'n_estimators': 100, 'min_data_in_leaf': 10, ...</td>\n",
       "      <td>NaN</td>\n",
       "      <td>NaN</td>\n",
       "      <td>5</td>\n",
       "    </tr>\n",
       "  </tbody>\n",
       "</table>\n",
       "</div>"
      ],
      "text/plain": [
       "                                              params  mean_test_score  \\\n",
       "9  {'n_estimators': 15, 'min_data_in_leaf': 5, 'l...         0.496000   \n",
       "8  {'n_estimators': 50, 'min_data_in_leaf': 5, 'l...         0.422667   \n",
       "1  {'n_estimators': 200, 'min_data_in_leaf': 40, ...         0.339000   \n",
       "7  {'n_estimators': 300, 'min_data_in_leaf': 15, ...         0.312333   \n",
       "0  {'n_estimators': 100, 'min_data_in_leaf': 10, ...              NaN   \n",
       "\n",
       "   mean_train_score  rank_test_score  \n",
       "9               1.0                1  \n",
       "8               1.0                2  \n",
       "1               1.0                3  \n",
       "7               1.0                4  \n",
       "0               NaN                5  "
      ]
     },
     "execution_count": 76,
     "metadata": {},
     "output_type": "execute_result"
    }
   ],
   "source": [
    "pd.DataFrame(GRD_CB.cv_results_).sort_values(by=\"rank_test_score\")[[\"params\", \"mean_test_score\", \"mean_train_score\", \"rank_test_score\"]].head()"
   ]
  },
  {
   "cell_type": "code",
   "execution_count": 77,
   "metadata": {},
   "outputs": [
    {
     "name": "stdout",
     "output_type": "stream",
     "text": [
      "AUC test: 64.29%.\n"
     ]
    }
   ],
   "source": [
    "CB = GRD_CB.best_estimator_\n",
    "CB.fit(x, y)\n",
    "\n",
    "auc_test = roc_auc_score(y_test, CB.predict_proba(x_test)[:, 1])\n",
    "\n",
    "print(f\"AUC test: {100*auc_test:.2f}%.\")"
   ]
  },
  {
   "cell_type": "markdown",
   "metadata": {},
   "source": [
    "# RandomForests"
   ]
  },
  {
   "cell_type": "code",
   "execution_count": 25,
   "metadata": {},
   "outputs": [],
   "source": [
    "search_space = {\n",
    "    \"max_depth\": [1, 2, 3, 4, 5, 6],\n",
    "    \"min_samples_split\": [2, 4, 6, 8, 10, 12, 14, 16, 18, 20, 30, 40],\n",
    "    \"min_samples_leaf\": [2, 4, 6, 8, 10, 12, 14, 16, 18, 20, 30, 40],    \n",
    "    \"n_estimators\": [5, 10, 15, 20, 25, 50, 75, 100, 200, 300],\n",
    "    \"max_features\": [\"auto\", \"sqrt\", \"log2\"],\n",
    "}"
   ]
  },
  {
   "cell_type": "code",
   "execution_count": 26,
   "metadata": {},
   "outputs": [],
   "source": [
    "%%capture\n",
    "GRD_RF = RandomizedSearchCV(RandomForestClassifier(), \n",
    "                   search_space, \n",
    "                   n_iter=1000,\n",
    "                   scoring=\"roc_auc\", \n",
    "                   cv=5, \n",
    "                   verbose=3, \n",
    "                   return_train_score=True, \n",
    "                   n_jobs=-1)\n",
    "GRD_RF.fit(x, y)"
   ]
  },
  {
   "cell_type": "code",
   "execution_count": 27,
   "metadata": {},
   "outputs": [
    {
     "data": {
      "text/html": [
       "<div>\n",
       "<style scoped>\n",
       "    .dataframe tbody tr th:only-of-type {\n",
       "        vertical-align: middle;\n",
       "    }\n",
       "\n",
       "    .dataframe tbody tr th {\n",
       "        vertical-align: top;\n",
       "    }\n",
       "\n",
       "    .dataframe thead th {\n",
       "        text-align: right;\n",
       "    }\n",
       "</style>\n",
       "<table border=\"1\" class=\"dataframe\">\n",
       "  <thead>\n",
       "    <tr style=\"text-align: right;\">\n",
       "      <th></th>\n",
       "      <th>params</th>\n",
       "      <th>mean_test_score</th>\n",
       "      <th>mean_train_score</th>\n",
       "      <th>rank_test_score</th>\n",
       "    </tr>\n",
       "  </thead>\n",
       "  <tbody>\n",
       "    <tr>\n",
       "      <th>269</th>\n",
       "      <td>{'n_estimators': 50, 'min_samples_split': 2, '...</td>\n",
       "      <td>0.596096</td>\n",
       "      <td>0.847311</td>\n",
       "      <td>1</td>\n",
       "    </tr>\n",
       "    <tr>\n",
       "      <th>42</th>\n",
       "      <td>{'n_estimators': 20, 'min_samples_split': 8, '...</td>\n",
       "      <td>0.595302</td>\n",
       "      <td>0.733304</td>\n",
       "      <td>2</td>\n",
       "    </tr>\n",
       "    <tr>\n",
       "      <th>53</th>\n",
       "      <td>{'n_estimators': 200, 'min_samples_split': 18,...</td>\n",
       "      <td>0.595267</td>\n",
       "      <td>0.950108</td>\n",
       "      <td>3</td>\n",
       "    </tr>\n",
       "    <tr>\n",
       "      <th>482</th>\n",
       "      <td>{'n_estimators': 15, 'min_samples_split': 14, ...</td>\n",
       "      <td>0.594036</td>\n",
       "      <td>0.915202</td>\n",
       "      <td>4</td>\n",
       "    </tr>\n",
       "    <tr>\n",
       "      <th>429</th>\n",
       "      <td>{'n_estimators': 75, 'min_samples_split': 20, ...</td>\n",
       "      <td>0.593306</td>\n",
       "      <td>0.907622</td>\n",
       "      <td>5</td>\n",
       "    </tr>\n",
       "  </tbody>\n",
       "</table>\n",
       "</div>"
      ],
      "text/plain": [
       "                                                params  mean_test_score  \\\n",
       "269  {'n_estimators': 50, 'min_samples_split': 2, '...         0.596096   \n",
       "42   {'n_estimators': 20, 'min_samples_split': 8, '...         0.595302   \n",
       "53   {'n_estimators': 200, 'min_samples_split': 18,...         0.595267   \n",
       "482  {'n_estimators': 15, 'min_samples_split': 14, ...         0.594036   \n",
       "429  {'n_estimators': 75, 'min_samples_split': 20, ...         0.593306   \n",
       "\n",
       "     mean_train_score  rank_test_score  \n",
       "269          0.847311                1  \n",
       "42           0.733304                2  \n",
       "53           0.950108                3  \n",
       "482          0.915202                4  \n",
       "429          0.907622                5  "
      ]
     },
     "execution_count": 27,
     "metadata": {},
     "output_type": "execute_result"
    }
   ],
   "source": [
    "pd.DataFrame(GRD_RF.cv_results_).sort_values(by=\"rank_test_score\")[[\"params\", \"mean_test_score\", \"mean_train_score\", \"rank_test_score\"]].head()"
   ]
  },
  {
   "cell_type": "code",
   "execution_count": 28,
   "metadata": {},
   "outputs": [
    {
     "name": "stdout",
     "output_type": "stream",
     "text": [
      "AUC test: 58.78%.\n"
     ]
    }
   ],
   "source": [
    "RF = GRD_RF.best_estimator_\n",
    "RF.fit(x, y)\n",
    "\n",
    "auc_test = roc_auc_score(y_test, RF.predict_proba(x_test)[:, 1])\n",
    "\n",
    "print(f\"AUC test: {100*auc_test:.2f}%.\")"
   ]
  },
  {
   "cell_type": "markdown",
   "metadata": {},
   "source": [
    "# DecisionTree"
   ]
  },
  {
   "cell_type": "code",
   "execution_count": 29,
   "metadata": {},
   "outputs": [],
   "source": [
    "search_space = {\n",
    "    \"max_depth\": [1, 2, 3, 4, 5, 6],\n",
    "    \"min_samples_split\": [2, 4, 6, 8, 10, 12, 14, 16, 18, 20, 30, 40],\n",
    "    \"min_samples_leaf\": [2, 4, 6, 8, 10, 12, 14, 16, 18, 20, 30, 40],    \n",
    "    \"max_features\": [\"auto\", \"sqrt\", \"log2\"],\n",
    "    \"random_state\": [0, 1, 2, 3, 4, 5, 6],\n",
    "    \"criterion\": [\"gini\", \"entropy\"]\n",
    "}"
   ]
  },
  {
   "cell_type": "code",
   "execution_count": 30,
   "metadata": {},
   "outputs": [],
   "source": [
    "%%capture\n",
    "GRD_DT = RandomizedSearchCV(DecisionTreeClassifier(), \n",
    "                   search_space, \n",
    "                   n_iter=250,\n",
    "                   scoring=\"roc_auc\", \n",
    "                   cv=5, \n",
    "                   verbose=3, \n",
    "                   return_train_score=True, \n",
    "                   n_jobs=-1)\n",
    "GRD_DT.fit(x, y)"
   ]
  },
  {
   "cell_type": "code",
   "execution_count": 31,
   "metadata": {},
   "outputs": [
    {
     "data": {
      "text/html": [
       "<div>\n",
       "<style scoped>\n",
       "    .dataframe tbody tr th:only-of-type {\n",
       "        vertical-align: middle;\n",
       "    }\n",
       "\n",
       "    .dataframe tbody tr th {\n",
       "        vertical-align: top;\n",
       "    }\n",
       "\n",
       "    .dataframe thead th {\n",
       "        text-align: right;\n",
       "    }\n",
       "</style>\n",
       "<table border=\"1\" class=\"dataframe\">\n",
       "  <thead>\n",
       "    <tr style=\"text-align: right;\">\n",
       "      <th></th>\n",
       "      <th>params</th>\n",
       "      <th>mean_test_score</th>\n",
       "      <th>mean_train_score</th>\n",
       "      <th>rank_test_score</th>\n",
       "    </tr>\n",
       "  </thead>\n",
       "  <tbody>\n",
       "    <tr>\n",
       "      <th>109</th>\n",
       "      <td>{'random_state': 1, 'min_samples_split': 4, 'm...</td>\n",
       "      <td>0.584646</td>\n",
       "      <td>0.680943</td>\n",
       "      <td>1</td>\n",
       "    </tr>\n",
       "    <tr>\n",
       "      <th>91</th>\n",
       "      <td>{'random_state': 0, 'min_samples_split': 30, '...</td>\n",
       "      <td>0.581859</td>\n",
       "      <td>0.723021</td>\n",
       "      <td>2</td>\n",
       "    </tr>\n",
       "    <tr>\n",
       "      <th>80</th>\n",
       "      <td>{'random_state': 0, 'min_samples_split': 14, '...</td>\n",
       "      <td>0.581438</td>\n",
       "      <td>0.674811</td>\n",
       "      <td>3</td>\n",
       "    </tr>\n",
       "    <tr>\n",
       "      <th>246</th>\n",
       "      <td>{'random_state': 4, 'min_samples_split': 6, 'm...</td>\n",
       "      <td>0.578262</td>\n",
       "      <td>0.772880</td>\n",
       "      <td>4</td>\n",
       "    </tr>\n",
       "    <tr>\n",
       "      <th>108</th>\n",
       "      <td>{'random_state': 1, 'min_samples_split': 2, 'm...</td>\n",
       "      <td>0.574494</td>\n",
       "      <td>0.718059</td>\n",
       "      <td>5</td>\n",
       "    </tr>\n",
       "  </tbody>\n",
       "</table>\n",
       "</div>"
      ],
      "text/plain": [
       "                                                params  mean_test_score  \\\n",
       "109  {'random_state': 1, 'min_samples_split': 4, 'm...         0.584646   \n",
       "91   {'random_state': 0, 'min_samples_split': 30, '...         0.581859   \n",
       "80   {'random_state': 0, 'min_samples_split': 14, '...         0.581438   \n",
       "246  {'random_state': 4, 'min_samples_split': 6, 'm...         0.578262   \n",
       "108  {'random_state': 1, 'min_samples_split': 2, 'm...         0.574494   \n",
       "\n",
       "     mean_train_score  rank_test_score  \n",
       "109          0.680943                1  \n",
       "91           0.723021                2  \n",
       "80           0.674811                3  \n",
       "246          0.772880                4  \n",
       "108          0.718059                5  "
      ]
     },
     "execution_count": 31,
     "metadata": {},
     "output_type": "execute_result"
    }
   ],
   "source": [
    "pd.DataFrame(GRD_DT.cv_results_).sort_values(by=\"rank_test_score\")[[\"params\", \"mean_test_score\", \"mean_train_score\", \"rank_test_score\"]].head()"
   ]
  },
  {
   "cell_type": "code",
   "execution_count": 32,
   "metadata": {},
   "outputs": [
    {
     "name": "stdout",
     "output_type": "stream",
     "text": [
      "AUC test: 56.92%.\n"
     ]
    }
   ],
   "source": [
    "DT = GRD_DT.best_estimator_\n",
    "DT.fit(x, y)\n",
    "\n",
    "auc_test = roc_auc_score(y_test, DT.predict_proba(x_test)[:, 1])\n",
    "\n",
    "print(f\"AUC test: {100*auc_test:.2f}%.\")"
   ]
  },
  {
   "cell_type": "markdown",
   "metadata": {},
   "source": [
    "# XGBoost"
   ]
  },
  {
   "cell_type": "code",
   "execution_count": 33,
   "metadata": {},
   "outputs": [],
   "source": [
    "search_space = {\n",
    "    \"min_child_weight\": [1, 2, 3, 4, 5, 6, 7, 8, 9, 10],\n",
    "    \"gamma\": [0.5, 1, 1.5, 2, 2.5, 3, 3.5, 4, 4.5, 6],\n",
    "    \"subsample\": [0, 0.2, 0.4, 0.8, 1],\n",
    "    \"colsample_by_tree\": [0, 0.2, 0.4, 0.6, 0.8, 1],\n",
    "    \"max_depth\": [10, 20, 30, 40, 50, 60, 70, 80, 90, 100, 110, None],\n",
    "    \"n_estimators\": range(100, 2000, 100),\n",
    "}"
   ]
  },
  {
   "cell_type": "code",
   "execution_count": null,
   "metadata": {},
   "outputs": [],
   "source": [
    "%%capture\n",
    "GRD_XGB = RandomizedSearchCV(XGBClassifier(), \n",
    "                   search_space, \n",
    "                   n_iter=100,\n",
    "                   scoring=\"roc_auc\", \n",
    "                   cv=5, \n",
    "                   verbose=3, \n",
    "                   return_train_score=True, \n",
    "                   n_jobs=-1)\n",
    "GRD_XGB.fit(x, y)"
   ]
  },
  {
   "cell_type": "code",
   "execution_count": null,
   "metadata": {},
   "outputs": [],
   "source": [
    "pd.DataFrame(GRD_XGB.cv_results_).sort_values(by=\"rank_test_score\")[[\"params\", \"mean_test_score\", \"mean_train_score\", \"rank_test_score\"]].head()"
   ]
  },
  {
   "cell_type": "code",
   "execution_count": null,
   "metadata": {},
   "outputs": [],
   "source": [
    "XGB = GRD_XGB.best_estimator_\n",
    "XGB.fit(x, y)\n",
    "\n",
    "auc_test = roc_auc_score(y_test, XGB.predict_proba(x_test)[:, 1])\n",
    "\n",
    "print(f\"AUC test: {100*auc_test:.2f}%.\")"
   ]
  }
 ],
 "metadata": {
  "kernelspec": {
   "display_name": "Python 3",
   "language": "python",
   "name": "python3"
  },
  "language_info": {
   "codemirror_mode": {
    "name": "ipython",
    "version": 3
   },
   "file_extension": ".py",
   "mimetype": "text/x-python",
   "name": "python",
   "nbconvert_exporter": "python",
   "pygments_lexer": "ipython3",
   "version": "3.8.3"
  }
 },
 "nbformat": 4,
 "nbformat_minor": 4
}
